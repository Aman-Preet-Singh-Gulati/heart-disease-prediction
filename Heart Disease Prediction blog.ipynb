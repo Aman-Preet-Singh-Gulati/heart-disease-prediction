{
 "cells": [
  {
   "cell_type": "markdown",
   "metadata": {
    "id": "cuaI-xoAkj3q"
   },
   "source": [
    "## Heart Disease Diagnosis"
   ]
  },
  {
   "cell_type": "markdown",
   "metadata": {},
   "source": [
    "## Overview \n",
    "In this article we will be closely working with the heart disease diagnosis and for that we will be looking into the heart disease dataset and from that dataset we will derieve various insights that helps us know the weightage of each feature and how they are interrelated to each other but this time our soul aim is to detect the probablity of person that will be effected by a saviour heart problem or not."
   ]
  },
  {
   "cell_type": "markdown",
   "metadata": {},
   "source": [
    "## Takeaways from this article\n",
    "\n",
    "1. Data insight: As mentioned here we will be working with the heart disease detection dataset and we will be putting out interesting inference from the data to derieve some meaningful results.\n",
    "2. EDA: Exploratory data analysis is the key step for the getting the meaningful results.\n",
    "3. Feature engineering: After getting the insights from the data we have to alter the features so that they can move forward for the model building phase.\n",
    "4. Model building: In this phase we will be building our Machine learning model for heart disease detection."
   ]
  },
  {
   "cell_type": "markdown",
   "metadata": {
    "id": "opXAGD661dDj"
   },
   "source": [
    "## Importing Necessary Libraries"
   ]
  },
  {
   "cell_type": "code",
   "execution_count": 1,
   "metadata": {
    "_cell_guid": "79c7e3d0-c299-4dcb-8224-4455121ee9b0",
    "_uuid": "d629ff2d2480ee46fbb7e2d37f6b5fab8052498a",
    "colab": {
     "base_uri": "https://localhost:8080/"
    },
    "executionInfo": {
     "elapsed": 4213,
     "status": "ok",
     "timestamp": 1602071853570,
     "user": {
      "displayName": "Pianalytix Vrec",
      "photoUrl": "",
      "userId": "08286299111597749388"
     },
     "user_tz": -330
    },
    "id": "FeuDtXG81dDk",
    "outputId": "d502c9bd-cbb3-4b97-f832-1eb7c43e977c"
   },
   "outputs": [
    {
     "name": "stdout",
     "output_type": "stream",
     "text": [
      "Requirement already satisfied: catboost in c:\\programdata\\anaconda3\\lib\\site-packages (1.0.0)\n",
      "Requirement already satisfied: numpy>=1.16.0 in c:\\programdata\\anaconda3\\lib\\site-packages (from catboost) (1.19.2)\n",
      "Requirement already satisfied: matplotlib in c:\\programdata\\anaconda3\\lib\\site-packages (from catboost) (3.3.2)\n",
      "Requirement already satisfied: graphviz in c:\\programdata\\anaconda3\\lib\\site-packages (from catboost) (0.17)\n",
      "Requirement already satisfied: plotly in c:\\programdata\\anaconda3\\lib\\site-packages (from catboost) (4.14.3)\n",
      "Requirement already satisfied: six in c:\\programdata\\anaconda3\\lib\\site-packages (from catboost) (1.15.0)\n",
      "Requirement already satisfied: scipy in c:\\programdata\\anaconda3\\lib\\site-packages (from catboost) (1.5.2)\n",
      "Requirement already satisfied: pandas>=0.24.0 in c:\\programdata\\anaconda3\\lib\\site-packages (from catboost) (1.1.3)\n",
      "Requirement already satisfied: python-dateutil>=2.7.3 in c:\\programdata\\anaconda3\\lib\\site-packages (from pandas>=0.24.0->catboost) (2.8.1)\n",
      "Requirement already satisfied: pytz>=2017.2 in c:\\programdata\\anaconda3\\lib\\site-packages (from pandas>=0.24.0->catboost) (2020.1)\n",
      "Requirement already satisfied: certifi>=2020.06.20 in c:\\programdata\\anaconda3\\lib\\site-packages (from matplotlib->catboost) (2020.6.20)\n",
      "Requirement already satisfied: kiwisolver>=1.0.1 in c:\\programdata\\anaconda3\\lib\\site-packages (from matplotlib->catboost) (1.3.0)\n",
      "Requirement already satisfied: cycler>=0.10 in c:\\programdata\\anaconda3\\lib\\site-packages (from matplotlib->catboost) (0.10.0)\n",
      "Requirement already satisfied: pyparsing!=2.0.4,!=2.1.2,!=2.1.6,>=2.0.3 in c:\\programdata\\anaconda3\\lib\\site-packages (from matplotlib->catboost) (2.4.7)\n",
      "Requirement already satisfied: pillow>=6.2.0 in c:\\programdata\\anaconda3\\lib\\site-packages (from matplotlib->catboost) (8.0.1)\n",
      "Requirement already satisfied: retrying>=1.3.3 in c:\\programdata\\anaconda3\\lib\\site-packages (from plotly->catboost) (1.3.3)\n"
     ]
    },
    {
     "name": "stderr",
     "output_type": "stream",
     "text": [
      "WARNING: Ignoring invalid distribution -ikit-learn (c:\\programdata\\anaconda3\\lib\\site-packages)\n",
      "WARNING: Ignoring invalid distribution -5py (c:\\programdata\\anaconda3\\lib\\site-packages)\n",
      "WARNING: Ignoring invalid distribution -ikit-learn (c:\\programdata\\anaconda3\\lib\\site-packages)\n",
      "WARNING: Ignoring invalid distribution - (c:\\programdata\\anaconda3\\lib\\site-packages)\n",
      "WARNING: Ignoring invalid distribution -cikit-learn (c:\\programdata\\anaconda3\\lib\\site-packages)\n",
      "WARNING: Ignoring invalid distribution -ikit-learn (c:\\programdata\\anaconda3\\lib\\site-packages)\n",
      "WARNING: Ignoring invalid distribution -5py (c:\\programdata\\anaconda3\\lib\\site-packages)\n",
      "WARNING: Ignoring invalid distribution -ikit-learn (c:\\programdata\\anaconda3\\lib\\site-packages)\n",
      "WARNING: Ignoring invalid distribution - (c:\\programdata\\anaconda3\\lib\\site-packages)\n",
      "WARNING: Ignoring invalid distribution -cikit-learn (c:\\programdata\\anaconda3\\lib\\site-packages)\n"
     ]
    }
   ],
   "source": [
    "# Plotting Libraries\n",
    "import pandas as pd\n",
    "import numpy as np\n",
    "import matplotlib.pyplot as plt\n",
    "import seaborn as sns\n",
    "#import cufflinks as cf\n",
    "%matplotlib inline\n",
    "\n",
    "# Metrics for Classification technique\n",
    "from sklearn.metrics import classification_report,confusion_matrix,accuracy_score\n",
    "\n",
    "# Scaler\n",
    "from sklearn.preprocessing import StandardScaler\n",
    "from sklearn.model_selection import  RandomizedSearchCV, train_test_split\n",
    "\n",
    "from xgboost import XGBClassifier\n",
    "from catboost import CatBoostClassifier\n",
    "from sklearn.ensemble import RandomForestClassifier\n",
    "from sklearn.neighbors import KNeighborsClassifier\n",
    "from sklearn.svm import SVC"
   ]
  },
  {
   "cell_type": "markdown",
   "metadata": {
    "id": "kzcYSXvA1dDt"
   },
   "source": [
    "## Data Loading\n",
    "\n",
    "Our first step is to extract train and test data. We will be extracting data using pandas function read_csv. Specify the location to the dataset and import them."
   ]
  },
  {
   "cell_type": "code",
   "execution_count": 2,
   "metadata": {
    "colab": {
     "base_uri": "https://localhost:8080/",
     "height": 225
    },
    "executionInfo": {
     "elapsed": 1210,
     "status": "ok",
     "timestamp": 1602071887780,
     "user": {
      "displayName": "Pianalytix Vrec",
      "photoUrl": "",
      "userId": "08286299111597749388"
     },
     "user_tz": -330
    },
    "id": "fB0OED_01dDw",
    "outputId": "94dfadf8-c6e7-4686-b74c-123200c6d54e"
   },
   "outputs": [
    {
     "data": {
      "text/html": [
       "<div>\n",
       "<style scoped>\n",
       "    .dataframe tbody tr th:only-of-type {\n",
       "        vertical-align: middle;\n",
       "    }\n",
       "\n",
       "    .dataframe tbody tr th {\n",
       "        vertical-align: top;\n",
       "    }\n",
       "\n",
       "    .dataframe thead th {\n",
       "        text-align: right;\n",
       "    }\n",
       "</style>\n",
       "<table border=\"1\" class=\"dataframe\">\n",
       "  <thead>\n",
       "    <tr style=\"text-align: right;\">\n",
       "      <th></th>\n",
       "      <th>age</th>\n",
       "      <th>sex</th>\n",
       "      <th>cp</th>\n",
       "      <th>trestbps</th>\n",
       "      <th>chol</th>\n",
       "      <th>fbs</th>\n",
       "      <th>restecg</th>\n",
       "      <th>thalach</th>\n",
       "      <th>exang</th>\n",
       "      <th>oldpeak</th>\n",
       "      <th>slope</th>\n",
       "      <th>ca</th>\n",
       "      <th>thal</th>\n",
       "      <th>target</th>\n",
       "    </tr>\n",
       "  </thead>\n",
       "  <tbody>\n",
       "    <tr>\n",
       "      <th>0</th>\n",
       "      <td>63</td>\n",
       "      <td>1</td>\n",
       "      <td>3</td>\n",
       "      <td>145</td>\n",
       "      <td>233</td>\n",
       "      <td>1</td>\n",
       "      <td>0</td>\n",
       "      <td>150</td>\n",
       "      <td>0</td>\n",
       "      <td>2.3</td>\n",
       "      <td>0</td>\n",
       "      <td>0</td>\n",
       "      <td>1</td>\n",
       "      <td>1</td>\n",
       "    </tr>\n",
       "    <tr>\n",
       "      <th>1</th>\n",
       "      <td>37</td>\n",
       "      <td>1</td>\n",
       "      <td>2</td>\n",
       "      <td>130</td>\n",
       "      <td>250</td>\n",
       "      <td>0</td>\n",
       "      <td>1</td>\n",
       "      <td>187</td>\n",
       "      <td>0</td>\n",
       "      <td>3.5</td>\n",
       "      <td>0</td>\n",
       "      <td>0</td>\n",
       "      <td>2</td>\n",
       "      <td>1</td>\n",
       "    </tr>\n",
       "    <tr>\n",
       "      <th>2</th>\n",
       "      <td>41</td>\n",
       "      <td>0</td>\n",
       "      <td>1</td>\n",
       "      <td>130</td>\n",
       "      <td>204</td>\n",
       "      <td>0</td>\n",
       "      <td>0</td>\n",
       "      <td>172</td>\n",
       "      <td>0</td>\n",
       "      <td>1.4</td>\n",
       "      <td>2</td>\n",
       "      <td>0</td>\n",
       "      <td>2</td>\n",
       "      <td>1</td>\n",
       "    </tr>\n",
       "    <tr>\n",
       "      <th>3</th>\n",
       "      <td>56</td>\n",
       "      <td>1</td>\n",
       "      <td>1</td>\n",
       "      <td>120</td>\n",
       "      <td>236</td>\n",
       "      <td>0</td>\n",
       "      <td>1</td>\n",
       "      <td>178</td>\n",
       "      <td>0</td>\n",
       "      <td>0.8</td>\n",
       "      <td>2</td>\n",
       "      <td>0</td>\n",
       "      <td>2</td>\n",
       "      <td>1</td>\n",
       "    </tr>\n",
       "    <tr>\n",
       "      <th>4</th>\n",
       "      <td>57</td>\n",
       "      <td>0</td>\n",
       "      <td>0</td>\n",
       "      <td>120</td>\n",
       "      <td>354</td>\n",
       "      <td>0</td>\n",
       "      <td>1</td>\n",
       "      <td>163</td>\n",
       "      <td>1</td>\n",
       "      <td>0.6</td>\n",
       "      <td>2</td>\n",
       "      <td>0</td>\n",
       "      <td>2</td>\n",
       "      <td>1</td>\n",
       "    </tr>\n",
       "    <tr>\n",
       "      <th>5</th>\n",
       "      <td>57</td>\n",
       "      <td>1</td>\n",
       "      <td>0</td>\n",
       "      <td>140</td>\n",
       "      <td>192</td>\n",
       "      <td>0</td>\n",
       "      <td>1</td>\n",
       "      <td>148</td>\n",
       "      <td>0</td>\n",
       "      <td>0.4</td>\n",
       "      <td>1</td>\n",
       "      <td>0</td>\n",
       "      <td>1</td>\n",
       "      <td>1</td>\n",
       "    </tr>\n",
       "  </tbody>\n",
       "</table>\n",
       "</div>"
      ],
      "text/plain": [
       "   age  sex  cp  trestbps  chol  fbs  restecg  thalach  exang  oldpeak  slope  \\\n",
       "0   63    1   3       145   233    1        0      150      0      2.3      0   \n",
       "1   37    1   2       130   250    0        1      187      0      3.5      0   \n",
       "2   41    0   1       130   204    0        0      172      0      1.4      2   \n",
       "3   56    1   1       120   236    0        1      178      0      0.8      2   \n",
       "4   57    0   0       120   354    0        1      163      1      0.6      2   \n",
       "5   57    1   0       140   192    0        1      148      0      0.4      1   \n",
       "\n",
       "   ca  thal  target  \n",
       "0   0     1       1  \n",
       "1   0     2       1  \n",
       "2   0     2       1  \n",
       "3   0     2       1  \n",
       "4   0     2       1  \n",
       "5   0     1       1  "
      ]
     },
     "execution_count": 2,
     "metadata": {},
     "output_type": "execute_result"
    }
   ],
   "source": [
    "# Importing Data\n",
    "\n",
    "data = pd.read_csv(\"heart.csv\")\n",
    "data.head(6) # Mention no of rows to be displayed from the top in the argument"
   ]
  },
  {
   "cell_type": "markdown",
   "metadata": {
    "id": "eMD_gPVO1dD6"
   },
   "source": [
    "# Exploratory Data Analysis "
   ]
  },
  {
   "cell_type": "code",
   "execution_count": 3,
   "metadata": {
    "colab": {
     "base_uri": "https://localhost:8080/"
    },
    "executionInfo": {
     "elapsed": 1077,
     "status": "ok",
     "timestamp": 1602072346342,
     "user": {
      "displayName": "Pianalytix Vrec",
      "photoUrl": "",
      "userId": "08286299111597749388"
     },
     "user_tz": -330
    },
    "id": "mjxutqJx1dD8",
    "outputId": "fa1ee719-eeef-4176-9084-f8d4eca9477f"
   },
   "outputs": [
    {
     "data": {
      "text/plain": [
       "(303, 14)"
      ]
     },
     "execution_count": 3,
     "metadata": {},
     "output_type": "execute_result"
    }
   ],
   "source": [
    "#Size of the dataset\n",
    "data.shape"
   ]
  },
  {
   "cell_type": "markdown",
   "metadata": {
    "id": "RDOCjked1dEG"
   },
   "source": [
    "**We have a dataset with 303 rows which indicates a smaller set of data.**"
   ]
  },
  {
   "cell_type": "code",
   "execution_count": 4,
   "metadata": {
    "colab": {
     "base_uri": "https://localhost:8080/"
    },
    "executionInfo": {
     "elapsed": 1465,
     "status": "ok",
     "timestamp": 1602072376603,
     "user": {
      "displayName": "Pianalytix Vrec",
      "photoUrl": "",
      "userId": "08286299111597749388"
     },
     "user_tz": -330
    },
    "id": "9r-LoDPi1dEH",
    "outputId": "54f13192-1d39-43fd-c2dd-e760cae156f3"
   },
   "outputs": [
    {
     "name": "stdout",
     "output_type": "stream",
     "text": [
      "<class 'pandas.core.frame.DataFrame'>\n",
      "RangeIndex: 303 entries, 0 to 302\n",
      "Data columns (total 14 columns):\n",
      " #   Column    Non-Null Count  Dtype  \n",
      "---  ------    --------------  -----  \n",
      " 0   age       303 non-null    int64  \n",
      " 1   sex       303 non-null    int64  \n",
      " 2   cp        303 non-null    int64  \n",
      " 3   trestbps  303 non-null    int64  \n",
      " 4   chol      303 non-null    int64  \n",
      " 5   fbs       303 non-null    int64  \n",
      " 6   restecg   303 non-null    int64  \n",
      " 7   thalach   303 non-null    int64  \n",
      " 8   exang     303 non-null    int64  \n",
      " 9   oldpeak   303 non-null    float64\n",
      " 10  slope     303 non-null    int64  \n",
      " 11  ca        303 non-null    int64  \n",
      " 12  thal      303 non-null    int64  \n",
      " 13  target    303 non-null    int64  \n",
      "dtypes: float64(1), int64(13)\n",
      "memory usage: 33.3 KB\n"
     ]
    }
   ],
   "source": [
    "data.info()"
   ]
  },
  {
   "cell_type": "markdown",
   "metadata": {
    "id": "8cfV43U-1dEO"
   },
   "source": [
    "* Out of 14 features, we have 13 int type and only one with float data type.\n",
    "* Woah! We have no missing values in our dataset."
   ]
  },
  {
   "cell_type": "code",
   "execution_count": 5,
   "metadata": {
    "colab": {
     "base_uri": "https://localhost:8080/",
     "height": 304
    },
    "executionInfo": {
     "elapsed": 4638,
     "status": "ok",
     "timestamp": 1602072432908,
     "user": {
      "displayName": "Pianalytix Vrec",
      "photoUrl": "",
      "userId": "08286299111597749388"
     },
     "user_tz": -330
    },
    "id": "x2EaSar59QiJ",
    "outputId": "9156cede-ade1-45df-eff9-f65d7dd81a88"
   },
   "outputs": [
    {
     "data": {
      "text/html": [
       "<div>\n",
       "<style scoped>\n",
       "    .dataframe tbody tr th:only-of-type {\n",
       "        vertical-align: middle;\n",
       "    }\n",
       "\n",
       "    .dataframe tbody tr th {\n",
       "        vertical-align: top;\n",
       "    }\n",
       "\n",
       "    .dataframe thead th {\n",
       "        text-align: right;\n",
       "    }\n",
       "</style>\n",
       "<table border=\"1\" class=\"dataframe\">\n",
       "  <thead>\n",
       "    <tr style=\"text-align: right;\">\n",
       "      <th></th>\n",
       "      <th>age</th>\n",
       "      <th>sex</th>\n",
       "      <th>cp</th>\n",
       "      <th>trestbps</th>\n",
       "      <th>chol</th>\n",
       "      <th>fbs</th>\n",
       "      <th>restecg</th>\n",
       "      <th>thalach</th>\n",
       "      <th>exang</th>\n",
       "      <th>oldpeak</th>\n",
       "      <th>slope</th>\n",
       "      <th>ca</th>\n",
       "      <th>thal</th>\n",
       "      <th>target</th>\n",
       "    </tr>\n",
       "  </thead>\n",
       "  <tbody>\n",
       "    <tr>\n",
       "      <th>count</th>\n",
       "      <td>303.000000</td>\n",
       "      <td>303.000000</td>\n",
       "      <td>303.000000</td>\n",
       "      <td>303.000000</td>\n",
       "      <td>303.000000</td>\n",
       "      <td>303.000000</td>\n",
       "      <td>303.000000</td>\n",
       "      <td>303.000000</td>\n",
       "      <td>303.000000</td>\n",
       "      <td>303.000000</td>\n",
       "      <td>303.000000</td>\n",
       "      <td>303.000000</td>\n",
       "      <td>303.000000</td>\n",
       "      <td>303.000000</td>\n",
       "    </tr>\n",
       "    <tr>\n",
       "      <th>mean</th>\n",
       "      <td>54.366337</td>\n",
       "      <td>0.683168</td>\n",
       "      <td>0.966997</td>\n",
       "      <td>131.623762</td>\n",
       "      <td>246.264026</td>\n",
       "      <td>0.148515</td>\n",
       "      <td>0.528053</td>\n",
       "      <td>149.646865</td>\n",
       "      <td>0.326733</td>\n",
       "      <td>1.039604</td>\n",
       "      <td>1.399340</td>\n",
       "      <td>0.729373</td>\n",
       "      <td>2.313531</td>\n",
       "      <td>0.544554</td>\n",
       "    </tr>\n",
       "    <tr>\n",
       "      <th>std</th>\n",
       "      <td>9.082101</td>\n",
       "      <td>0.466011</td>\n",
       "      <td>1.032052</td>\n",
       "      <td>17.538143</td>\n",
       "      <td>51.830751</td>\n",
       "      <td>0.356198</td>\n",
       "      <td>0.525860</td>\n",
       "      <td>22.905161</td>\n",
       "      <td>0.469794</td>\n",
       "      <td>1.161075</td>\n",
       "      <td>0.616226</td>\n",
       "      <td>1.022606</td>\n",
       "      <td>0.612277</td>\n",
       "      <td>0.498835</td>\n",
       "    </tr>\n",
       "    <tr>\n",
       "      <th>min</th>\n",
       "      <td>29.000000</td>\n",
       "      <td>0.000000</td>\n",
       "      <td>0.000000</td>\n",
       "      <td>94.000000</td>\n",
       "      <td>126.000000</td>\n",
       "      <td>0.000000</td>\n",
       "      <td>0.000000</td>\n",
       "      <td>71.000000</td>\n",
       "      <td>0.000000</td>\n",
       "      <td>0.000000</td>\n",
       "      <td>0.000000</td>\n",
       "      <td>0.000000</td>\n",
       "      <td>0.000000</td>\n",
       "      <td>0.000000</td>\n",
       "    </tr>\n",
       "    <tr>\n",
       "      <th>25%</th>\n",
       "      <td>47.500000</td>\n",
       "      <td>0.000000</td>\n",
       "      <td>0.000000</td>\n",
       "      <td>120.000000</td>\n",
       "      <td>211.000000</td>\n",
       "      <td>0.000000</td>\n",
       "      <td>0.000000</td>\n",
       "      <td>133.500000</td>\n",
       "      <td>0.000000</td>\n",
       "      <td>0.000000</td>\n",
       "      <td>1.000000</td>\n",
       "      <td>0.000000</td>\n",
       "      <td>2.000000</td>\n",
       "      <td>0.000000</td>\n",
       "    </tr>\n",
       "    <tr>\n",
       "      <th>50%</th>\n",
       "      <td>55.000000</td>\n",
       "      <td>1.000000</td>\n",
       "      <td>1.000000</td>\n",
       "      <td>130.000000</td>\n",
       "      <td>240.000000</td>\n",
       "      <td>0.000000</td>\n",
       "      <td>1.000000</td>\n",
       "      <td>153.000000</td>\n",
       "      <td>0.000000</td>\n",
       "      <td>0.800000</td>\n",
       "      <td>1.000000</td>\n",
       "      <td>0.000000</td>\n",
       "      <td>2.000000</td>\n",
       "      <td>1.000000</td>\n",
       "    </tr>\n",
       "    <tr>\n",
       "      <th>75%</th>\n",
       "      <td>61.000000</td>\n",
       "      <td>1.000000</td>\n",
       "      <td>2.000000</td>\n",
       "      <td>140.000000</td>\n",
       "      <td>274.500000</td>\n",
       "      <td>0.000000</td>\n",
       "      <td>1.000000</td>\n",
       "      <td>166.000000</td>\n",
       "      <td>1.000000</td>\n",
       "      <td>1.600000</td>\n",
       "      <td>2.000000</td>\n",
       "      <td>1.000000</td>\n",
       "      <td>3.000000</td>\n",
       "      <td>1.000000</td>\n",
       "    </tr>\n",
       "    <tr>\n",
       "      <th>max</th>\n",
       "      <td>77.000000</td>\n",
       "      <td>1.000000</td>\n",
       "      <td>3.000000</td>\n",
       "      <td>200.000000</td>\n",
       "      <td>564.000000</td>\n",
       "      <td>1.000000</td>\n",
       "      <td>2.000000</td>\n",
       "      <td>202.000000</td>\n",
       "      <td>1.000000</td>\n",
       "      <td>6.200000</td>\n",
       "      <td>2.000000</td>\n",
       "      <td>4.000000</td>\n",
       "      <td>3.000000</td>\n",
       "      <td>1.000000</td>\n",
       "    </tr>\n",
       "  </tbody>\n",
       "</table>\n",
       "</div>"
      ],
      "text/plain": [
       "              age         sex          cp    trestbps        chol         fbs  \\\n",
       "count  303.000000  303.000000  303.000000  303.000000  303.000000  303.000000   \n",
       "mean    54.366337    0.683168    0.966997  131.623762  246.264026    0.148515   \n",
       "std      9.082101    0.466011    1.032052   17.538143   51.830751    0.356198   \n",
       "min     29.000000    0.000000    0.000000   94.000000  126.000000    0.000000   \n",
       "25%     47.500000    0.000000    0.000000  120.000000  211.000000    0.000000   \n",
       "50%     55.000000    1.000000    1.000000  130.000000  240.000000    0.000000   \n",
       "75%     61.000000    1.000000    2.000000  140.000000  274.500000    0.000000   \n",
       "max     77.000000    1.000000    3.000000  200.000000  564.000000    1.000000   \n",
       "\n",
       "          restecg     thalach       exang     oldpeak       slope          ca  \\\n",
       "count  303.000000  303.000000  303.000000  303.000000  303.000000  303.000000   \n",
       "mean     0.528053  149.646865    0.326733    1.039604    1.399340    0.729373   \n",
       "std      0.525860   22.905161    0.469794    1.161075    0.616226    1.022606   \n",
       "min      0.000000   71.000000    0.000000    0.000000    0.000000    0.000000   \n",
       "25%      0.000000  133.500000    0.000000    0.000000    1.000000    0.000000   \n",
       "50%      1.000000  153.000000    0.000000    0.800000    1.000000    0.000000   \n",
       "75%      1.000000  166.000000    1.000000    1.600000    2.000000    1.000000   \n",
       "max      2.000000  202.000000    1.000000    6.200000    2.000000    4.000000   \n",
       "\n",
       "             thal      target  \n",
       "count  303.000000  303.000000  \n",
       "mean     2.313531    0.544554  \n",
       "std      0.612277    0.498835  \n",
       "min      0.000000    0.000000  \n",
       "25%      2.000000    0.000000  \n",
       "50%      2.000000    1.000000  \n",
       "75%      3.000000    1.000000  \n",
       "max      3.000000    1.000000  "
      ]
     },
     "execution_count": 5,
     "metadata": {},
     "output_type": "execute_result"
    }
   ],
   "source": [
    "data.describe()"
   ]
  },
  {
   "cell_type": "markdown",
   "metadata": {
    "id": "Z0DeWz3t1dEV"
   },
   "source": [
    "**Let's check correleation between various features.**"
   ]
  },
  {
   "cell_type": "code",
   "execution_count": 6,
   "metadata": {
    "colab": {
     "base_uri": "https://localhost:8080/",
     "height": 646
    },
    "executionInfo": {
     "elapsed": 8524,
     "status": "ok",
     "timestamp": 1602072506844,
     "user": {
      "displayName": "Pianalytix Vrec",
      "photoUrl": "",
      "userId": "08286299111597749388"
     },
     "user_tz": -330
    },
    "id": "wJcC8hMu1dEW",
    "outputId": "402d4da6-e9a6-49d6-8b25-1b5fac9396ce"
   },
   "outputs": [
    {
     "data": {
      "image/png": "[encoded data removed]",
      "text/plain": [
       "<Figure size 1440x864 with 2 Axes>"
      ]
     },
     "metadata": {
      "needs_background": "light"
     },
     "output_type": "display_data"
    }
   ],
   "source": [
    "plt.figure(figsize=(20,12))\n",
    "sns.set_context('notebook',font_scale = 1.3)\n",
    "sns.heatmap(data.corr(),annot=True,linewidth =2)\n",
    "plt.tight_layout()"
   ]
  },
  {
   "cell_type": "markdown",
   "metadata": {
    "id": "muUGaqKX1dEd"
   },
   "source": [
    "**Let's check the correlation of various features with the target feature.**"
   ]
  },
  {
   "cell_type": "code",
   "execution_count": 7,
   "metadata": {
    "colab": {
     "base_uri": "https://localhost:8080/",
     "height": 486
    },
    "executionInfo": {
     "elapsed": 1822,
     "status": "ok",
     "timestamp": 1602072560783,
     "user": {
      "displayName": "Pianalytix Vrec",
      "photoUrl": "",
      "userId": "08286299111597749388"
     },
     "user_tz": -330
    },
    "id": "W3Hjg66H1dEe",
    "outputId": "2f4add69-2c06-4716-b064-732b256e92dd"
   },
   "outputs": [
    {
     "data": {
      "image/png": "[encoded data removed]",
      "text/plain": [
       "<Figure size 1440x720 with 1 Axes>"
      ]
     },
     "metadata": {
      "needs_background": "light"
     },
     "output_type": "display_data"
    }
   ],
   "source": [
    "# plt.figure(figsize=(20,12))\n",
    "sns.set_context('notebook',font_scale = 2.3)\n",
    "data.drop('target', axis=1).corrwith(data.target).plot(kind='bar', grid=True, figsize=(20, 10), \n",
    "                                                   title=\"Correlation with the target feature\")\n",
    "plt.tight_layout()"
   ]
  },
  {
   "cell_type": "markdown",
   "metadata": {
    "id": "4ifG2KfF1dEj"
   },
   "source": [
    "* Four feature( \"cp\", \"restecg\", \"thalach\", \"slope\" ) are positively correlated with the target feature.\n",
    "* Other features are negatively correlated with the target feature."
   ]
  },
  {
   "cell_type": "markdown",
   "metadata": {
    "id": "vqH04Dga1dEk"
   },
   "source": [
    "**Individual Feature Analysis**"
   ]
  },
  {
   "cell_type": "markdown",
   "metadata": {
    "id": "2QAedck41dEl"
   },
   "source": [
    "## Age(\"age\") Analysis"
   ]
  },
  {
   "cell_type": "code",
   "execution_count": 8,
   "metadata": {
    "colab": {
     "base_uri": "https://localhost:8080/",
     "height": 476
    },
    "executionInfo": {
     "elapsed": 2000,
     "status": "ok",
     "timestamp": 1602072646444,
     "user": {
      "displayName": "Pianalytix Vrec",
      "photoUrl": "",
      "userId": "08286299111597749388"
     },
     "user_tz": -330
    },
    "id": "qbMx8-iw1dEl",
    "outputId": "3a986dfe-77e1-4b78-ceb6-4f247060eae1"
   },
   "outputs": [
    {
     "data": {
      "image/png": "[encoded data removed]",
      "text/plain": [
       "<Figure size 1800x864 with 1 Axes>"
      ]
     },
     "metadata": {
      "needs_background": "light"
     },
     "output_type": "display_data"
    }
   ],
   "source": [
    "# Let's check 10 ages and their count\n",
    "\n",
    "plt.figure(figsize=(25,12))\n",
    "sns.set_context('notebook',font_scale = 1.5)\n",
    "sns.barplot(x=data.age.value_counts()[:10].index,y=data.age.value_counts()[:10].values)\n",
    "plt.tight_layout()"
   ]
  },
  {
   "cell_type": "markdown",
   "metadata": {
    "id": "6OMMD0l51dEp"
   },
   "source": [
    "**Let's check the range of age in the dataset.**"
   ]
  },
  {
   "cell_type": "code",
   "execution_count": 9,
   "metadata": {
    "colab": {
     "base_uri": "https://localhost:8080/"
    },
    "executionInfo": {
     "elapsed": 970,
     "status": "ok",
     "timestamp": 1602072735648,
     "user": {
      "displayName": "Pianalytix Vrec",
      "photoUrl": "",
      "userId": "08286299111597749388"
     },
     "user_tz": -330
    },
    "id": "da1EuKDo1dEq",
    "outputId": "f9f45334-d46f-4362-c98f-7d643b506b41"
   },
   "outputs": [
    {
     "name": "stdout",
     "output_type": "stream",
     "text": [
      "Min Age : 29\n",
      "Max Age : 77\n",
      "Mean Age : 54.366336633663366\n"
     ]
    }
   ],
   "source": [
    "minAge=min(data.age)\n",
    "maxAge=max(data.age)\n",
    "meanAge=data.age.mean()\n",
    "print('Min Age :',minAge)\n",
    "print('Max Age :',maxAge)\n",
    "print('Mean Age :',meanAge)"
   ]
  },
  {
   "cell_type": "markdown",
   "metadata": {
    "id": "BUtF1p8b1dEw"
   },
   "source": [
    "**We should divide the Age feature into three parts - \"Young\", \"Middle\" and \"Elder\"**"
   ]
  },
  {
   "cell_type": "code",
   "execution_count": 10,
   "metadata": {
    "executionInfo": {
     "elapsed": 1625,
     "status": "ok",
     "timestamp": 1602072787506,
     "user": {
      "displayName": "Pianalytix Vrec",
      "photoUrl": "",
      "userId": "08286299111597749388"
     },
     "user_tz": -330
    },
    "id": "b8nprWOe1dEx"
   },
   "outputs": [],
   "source": [
    "Young = data[(data.age>=29)&(data.age<40)]\n",
    "Middle = data[(data.age>=40)&(data.age<55)]\n",
    "Elder = data[(data.age>55)]"
   ]
  },
  {
   "cell_type": "code",
   "execution_count": 11,
   "metadata": {
    "colab": {
     "base_uri": "https://localhost:8080/",
     "height": 430
    },
    "executionInfo": {
     "elapsed": 3517,
     "status": "ok",
     "timestamp": 1602072796891,
     "user": {
      "displayName": "Pianalytix Vrec",
      "photoUrl": "",
      "userId": "08286299111597749388"
     },
     "user_tz": -330
    },
    "id": "7YZ8viQh1dEz",
    "outputId": "9f5ae3b8-2427-48f5-bcd7-3466bc338d11"
   },
   "outputs": [
    {
     "data": {
      "image/png": "[encoded data removed]",
      "text/plain": [
       "<Figure size 1656x720 with 1 Axes>"
      ]
     },
     "metadata": {
      "needs_background": "light"
     },
     "output_type": "display_data"
    }
   ],
   "source": [
    "plt.figure(figsize=(23,10))\n",
    "sns.set_context('notebook',font_scale = 1.5)\n",
    "sns.barplot(x=['young ages','middle ages','elderly ages'],y=[len(Young),len(Middle),len(Elder)])\n",
    "plt.tight_layout()"
   ]
  },
  {
   "cell_type": "markdown",
   "metadata": {
    "id": "hcqhP-Sp1dE2"
   },
   "source": [
    "**A large proportion of dataset contains Elder people.**"
   ]
  },
  {
   "cell_type": "markdown",
   "metadata": {
    "id": "hUyREdvI1dFC"
   },
   "source": [
    "**Elderly people are more likely to suffer from heart disease.**"
   ]
  },
  {
   "cell_type": "code",
   "execution_count": 12,
   "metadata": {
    "colab": {
     "base_uri": "https://localhost:8080/",
     "height": 686
    },
    "executionInfo": {
     "elapsed": 1669,
     "status": "ok",
     "timestamp": 1602073082293,
     "user": {
      "displayName": "Pianalytix Vrec",
      "photoUrl": "",
      "userId": "08286299111597749388"
     },
     "user_tz": -330
    },
    "id": "PKpEPFBi_i3B",
    "outputId": "4af1c1f4-4e5f-4455-a51f-f31b01dd2de9"
   },
   "outputs": [
    {
     "data": {
      "image/png": "[encoded data removed]",
      "text/plain": [
       "<Figure size 720x720 with 1 Axes>"
      ]
     },
     "metadata": {},
     "output_type": "display_data"
    }
   ],
   "source": [
    "colors = ['blue','green','yellow']\n",
    "explode = [0,0,0.1]\n",
    "plt.figure(figsize=(10,10))\n",
    "sns.set_context('notebook',font_scale = 1.2)\n",
    "plt.pie([len(Young),len(Middle),len(Elder)],labels=['young ages','middle ages','elderly ages'],explode=explode,colors=colors, autopct='%1.1f%%')\n",
    "plt.tight_layout()"
   ]
  },
  {
   "cell_type": "markdown",
   "metadata": {
    "id": "qEfi6azz1dFE"
   },
   "source": [
    "## Sex(\"sex\") Feature Analysis"
   ]
  },
  {
   "cell_type": "code",
   "execution_count": 13,
   "metadata": {
    "colab": {
     "base_uri": "https://localhost:8080/",
     "height": 546
    },
    "executionInfo": {
     "elapsed": 1268,
     "status": "ok",
     "timestamp": 1602073293999,
     "user": {
      "displayName": "Pianalytix Vrec",
      "photoUrl": "",
      "userId": "08286299111597749388"
     },
     "user_tz": -330
    },
    "id": "Ckgx-LKu1dFE",
    "outputId": "733c5c82-3e8d-4e57-9198-a56dfdb1fca9"
   },
   "outputs": [
    {
     "name": "stderr",
     "output_type": "stream",
     "text": [
      "C:\\ProgramData\\Anaconda3\\lib\\site-packages\\seaborn\\_decorators.py:36: FutureWarning: Pass the following variable as a keyword arg: x. From version 0.12, the only valid positional argument will be `data`, and passing other arguments without an explicit keyword will result in an error or misinterpretation.\n",
      "  warnings.warn(\n"
     ]
    },
    {
     "data": {
      "image/png": "[encoded data removed]",
      "text/plain": [
       "<Figure size 1296x648 with 1 Axes>"
      ]
     },
     "metadata": {
      "needs_background": "light"
     },
     "output_type": "display_data"
    }
   ],
   "source": [
    "plt.figure(figsize=(18,9))\n",
    "sns.set_context('notebook',font_scale = 1.5)\n",
    "sns.countplot(data['sex'])\n",
    "plt.tight_layout()"
   ]
  },
  {
   "cell_type": "markdown",
   "metadata": {
    "id": "aOvqOFEY1dFG"
   },
   "source": [
    "**Ratio of Male to Female is approx 2:1**"
   ]
  },
  {
   "cell_type": "code",
   "execution_count": 14,
   "metadata": {
    "colab": {
     "base_uri": "https://localhost:8080/",
     "height": 546
    },
    "executionInfo": {
     "elapsed": 1509,
     "status": "ok",
     "timestamp": 1602073345240,
     "user": {
      "displayName": "Pianalytix Vrec",
      "photoUrl": "",
      "userId": "08286299111597749388"
     },
     "user_tz": -330
    },
    "id": "AqQTC4Hm1dFH",
    "outputId": "6ea73424-8226-49c6-f5ac-5f6f1f09fd6b"
   },
   "outputs": [
    {
     "name": "stderr",
     "output_type": "stream",
     "text": [
      "C:\\ProgramData\\Anaconda3\\lib\\site-packages\\seaborn\\_decorators.py:36: FutureWarning: Pass the following variable as a keyword arg: x. From version 0.12, the only valid positional argument will be `data`, and passing other arguments without an explicit keyword will result in an error or misinterpretation.\n",
      "  warnings.warn(\n"
     ]
    },
    {
     "data": {
      "image/png": "[encoded data removed]",
      "text/plain": [
       "<Figure size 1296x648 with 1 Axes>"
      ]
     },
     "metadata": {
      "needs_background": "light"
     },
     "output_type": "display_data"
    }
   ],
   "source": [
    "# Let's plot the relation between sex and slope.\n",
    "\n",
    "plt.figure(figsize=(18,9))\n",
    "sns.set_context('notebook',font_scale = 1.5)\n",
    "sns.countplot(data['sex'],hue=data[\"slope\"])\n",
    "plt.tight_layout()"
   ]
  },
  {
   "cell_type": "code",
   "execution_count": 15,
   "metadata": {
    "colab": {
     "base_uri": "https://localhost:8080/",
     "height": 546
    },
    "executionInfo": {
     "elapsed": 1484,
     "status": "ok",
     "timestamp": 1602073461599,
     "user": {
      "displayName": "Pianalytix Vrec",
      "photoUrl": "",
      "userId": "08286299111597749388"
     },
     "user_tz": -330
    },
    "id": "QlwvuaVr1dFL",
    "outputId": "399d3e81-e987-4e71-ac85-ef848f3c576e"
   },
   "outputs": [
    {
     "name": "stderr",
     "output_type": "stream",
     "text": [
      "C:\\ProgramData\\Anaconda3\\lib\\site-packages\\seaborn\\_decorators.py:36: FutureWarning: Pass the following variable as a keyword arg: x. From version 0.12, the only valid positional argument will be `data`, and passing other arguments without an explicit keyword will result in an error or misinterpretation.\n",
      "  warnings.warn(\n"
     ]
    },
    {
     "data": {
      "image/png": "[encoded data removed]",
      "text/plain": [
       "<Figure size 1296x648 with 1 Axes>"
      ]
     },
     "metadata": {
      "needs_background": "light"
     },
     "output_type": "display_data"
    }
   ],
   "source": [
    "# Let's plot the relation between sex and target.\n",
    "\n",
    "plt.figure(figsize=(18,9))\n",
    "sns.set_context('notebook',font_scale = 1.5)\n",
    "sns.countplot(data['sex'],hue=data[\"target\"])\n",
    "plt.tight_layout()"
   ]
  },
  {
   "cell_type": "markdown",
   "metadata": {
    "id": "3tpqNNrP1dFP"
   },
   "source": [
    "**Males are more likely to have heart disease than Female.**"
   ]
  },
  {
   "cell_type": "markdown",
   "metadata": {
    "id": "EQjqoS0n1dFP"
   },
   "source": [
    "## Chest Pain Type(\"cp\") Analysis"
   ]
  },
  {
   "cell_type": "code",
   "execution_count": 16,
   "metadata": {
    "colab": {
     "base_uri": "https://localhost:8080/",
     "height": 546
    },
    "executionInfo": {
     "elapsed": 6759,
     "status": "ok",
     "timestamp": 1602073595312,
     "user": {
      "displayName": "Pianalytix Vrec",
      "photoUrl": "",
      "userId": "08286299111597749388"
     },
     "user_tz": -330
    },
    "id": "BdHNsJw01dFQ",
    "outputId": "ff5550ac-221c-4b1d-f3e9-c1f7d383af63"
   },
   "outputs": [
    {
     "name": "stderr",
     "output_type": "stream",
     "text": [
      "C:\\ProgramData\\Anaconda3\\lib\\site-packages\\seaborn\\_decorators.py:36: FutureWarning: Pass the following variable as a keyword arg: x. From version 0.12, the only valid positional argument will be `data`, and passing other arguments without an explicit keyword will result in an error or misinterpretation.\n",
      "  warnings.warn(\n"
     ]
    },
    {
     "data": {
      "image/png": "[encoded data removed]",
      "text/plain": [
       "<Figure size 1296x648 with 1 Axes>"
      ]
     },
     "metadata": {
      "needs_background": "light"
     },
     "output_type": "display_data"
    }
   ],
   "source": [
    "plt.figure(figsize=(18,9))\n",
    "sns.set_context('notebook',font_scale = 1.5)\n",
    "sns.countplot(data['cp'])\n",
    "plt.tight_layout()"
   ]
  },
  {
   "cell_type": "markdown",
   "metadata": {
    "id": "QB-wFjVI1dFS"
   },
   "source": [
    "**As seen, there are 4 types of chest pain**\n",
    "\n",
    "1. status at least\n",
    "2. condition slightly distressed\n",
    "3. condition medium problem\n",
    "4. condition too bad"
   ]
  },
  {
   "cell_type": "code",
   "execution_count": 17,
   "metadata": {
    "colab": {
     "base_uri": "https://localhost:8080/",
     "height": 546
    },
    "executionInfo": {
     "elapsed": 4531,
     "status": "ok",
     "timestamp": 1602073708132,
     "user": {
      "displayName": "Pianalytix Vrec",
      "photoUrl": "",
      "userId": "08286299111597749388"
     },
     "user_tz": -330
    },
    "id": "2U5S_w931dFS",
    "outputId": "5a8c1714-1ed1-4030-b979-704a78cb8a3d"
   },
   "outputs": [
    {
     "name": "stderr",
     "output_type": "stream",
     "text": [
      "C:\\ProgramData\\Anaconda3\\lib\\site-packages\\seaborn\\_decorators.py:36: FutureWarning: Pass the following variable as a keyword arg: x. From version 0.12, the only valid positional argument will be `data`, and passing other arguments without an explicit keyword will result in an error or misinterpretation.\n",
      "  warnings.warn(\n"
     ]
    },
    {
     "data": {
      "image/png": "[encoded data removed]",
      "text/plain": [
       "<Figure size 1296x648 with 1 Axes>"
      ]
     },
     "metadata": {
      "needs_background": "light"
     },
     "output_type": "display_data"
    }
   ],
   "source": [
    "plt.figure(figsize=(18,9))\n",
    "sns.set_context('notebook',font_scale = 1.5)\n",
    "sns.countplot(data['cp'],hue=data[\"sex\"])\n",
    "plt.tight_layout()"
   ]
  },
  {
   "cell_type": "code",
   "execution_count": 18,
   "metadata": {
    "colab": {
     "base_uri": "https://localhost:8080/",
     "height": 546
    },
    "executionInfo": {
     "elapsed": 1492,
     "status": "ok",
     "timestamp": 1602073762406,
     "user": {
      "displayName": "Pianalytix Vrec",
      "photoUrl": "",
      "userId": "08286299111597749388"
     },
     "user_tz": -330
    },
    "id": "tpe7BVLr1dFU",
    "outputId": "c76bb3a5-b920-441d-b194-6069fcd2ba82"
   },
   "outputs": [
    {
     "name": "stderr",
     "output_type": "stream",
     "text": [
      "C:\\ProgramData\\Anaconda3\\lib\\site-packages\\seaborn\\_decorators.py:36: FutureWarning: Pass the following variable as a keyword arg: x. From version 0.12, the only valid positional argument will be `data`, and passing other arguments without an explicit keyword will result in an error or misinterpretation.\n",
      "  warnings.warn(\n"
     ]
    },
    {
     "data": {
      "image/png": "[encoded data removed]",
      "text/plain": [
       "<Figure size 1296x648 with 1 Axes>"
      ]
     },
     "metadata": {
      "needs_background": "light"
     },
     "output_type": "display_data"
    }
   ],
   "source": [
    "plt.figure(figsize=(18,9))\n",
    "sns.set_context('notebook',font_scale = 1.5)\n",
    "sns.countplot(data['cp'],hue=data[\"target\"])\n",
    "plt.tight_layout()"
   ]
  },
  {
   "cell_type": "markdown",
   "metadata": {
    "id": "4TzFucW31dFW"
   },
   "source": [
    "* People having least chest pain are not likely to heart disease.\n",
    "* People having severe chest pain are  likely to heart disease."
   ]
  },
  {
   "cell_type": "markdown",
   "metadata": {
    "id": "2lwL2CRr1dFY"
   },
   "source": [
    "**Elderly people are more likely to have chest pain.**"
   ]
  },
  {
   "cell_type": "markdown",
   "metadata": {
    "id": "KI3RwvMY1dFY"
   },
   "source": [
    "# Thal Analysis"
   ]
  },
  {
   "cell_type": "code",
   "execution_count": 19,
   "metadata": {
    "colab": {
     "base_uri": "https://localhost:8080/",
     "height": 546
    },
    "executionInfo": {
     "elapsed": 5352,
     "status": "ok",
     "timestamp": 1602073883087,
     "user": {
      "displayName": "Pianalytix Vrec",
      "photoUrl": "",
      "userId": "08286299111597749388"
     },
     "user_tz": -330
    },
    "id": "Uy0fvVEr1dFZ",
    "outputId": "40aa8170-c403-4a36-ce37-29a3782792a2"
   },
   "outputs": [
    {
     "name": "stderr",
     "output_type": "stream",
     "text": [
      "C:\\ProgramData\\Anaconda3\\lib\\site-packages\\seaborn\\_decorators.py:36: FutureWarning: Pass the following variable as a keyword arg: x. From version 0.12, the only valid positional argument will be `data`, and passing other arguments without an explicit keyword will result in an error or misinterpretation.\n",
      "  warnings.warn(\n"
     ]
    },
    {
     "data": {
      "image/png": "[encoded data removed]",
      "text/plain": [
       "<Figure size 1296x648 with 1 Axes>"
      ]
     },
     "metadata": {
      "needs_background": "light"
     },
     "output_type": "display_data"
    }
   ],
   "source": [
    "plt.figure(figsize=(18,9))\n",
    "sns.set_context('notebook',font_scale = 1.5)\n",
    "sns.countplot(data['thal'])\n",
    "plt.tight_layout()"
   ]
  },
  {
   "cell_type": "code",
   "execution_count": 20,
   "metadata": {
    "colab": {
     "base_uri": "https://localhost:8080/",
     "height": 195
    },
    "executionInfo": {
     "elapsed": 1478,
     "status": "ok",
     "timestamp": 1602073985960,
     "user": {
      "displayName": "Pianalytix Vrec",
      "photoUrl": "",
      "userId": "08286299111597749388"
     },
     "user_tz": -330
    },
    "id": "NwAe5-Q9DNhw",
    "outputId": "dd368b56-60b0-4dab-cde1-6aefcc1353ec"
   },
   "outputs": [
    {
     "data": {
      "text/html": [
       "<div>\n",
       "<style scoped>\n",
       "    .dataframe tbody tr th:only-of-type {\n",
       "        vertical-align: middle;\n",
       "    }\n",
       "\n",
       "    .dataframe tbody tr th {\n",
       "        vertical-align: top;\n",
       "    }\n",
       "\n",
       "    .dataframe thead th {\n",
       "        text-align: right;\n",
       "    }\n",
       "</style>\n",
       "<table border=\"1\" class=\"dataframe\">\n",
       "  <thead>\n",
       "    <tr style=\"text-align: right;\">\n",
       "      <th></th>\n",
       "      <th>age</th>\n",
       "      <th>sex</th>\n",
       "      <th>cp</th>\n",
       "      <th>trestbps</th>\n",
       "      <th>chol</th>\n",
       "      <th>fbs</th>\n",
       "      <th>restecg</th>\n",
       "      <th>thalach</th>\n",
       "      <th>exang</th>\n",
       "      <th>oldpeak</th>\n",
       "      <th>slope</th>\n",
       "      <th>ca</th>\n",
       "      <th>thal</th>\n",
       "      <th>target</th>\n",
       "    </tr>\n",
       "  </thead>\n",
       "  <tbody>\n",
       "    <tr>\n",
       "      <th>0</th>\n",
       "      <td>63</td>\n",
       "      <td>1</td>\n",
       "      <td>3</td>\n",
       "      <td>145</td>\n",
       "      <td>233</td>\n",
       "      <td>1</td>\n",
       "      <td>0</td>\n",
       "      <td>150</td>\n",
       "      <td>0</td>\n",
       "      <td>2.3</td>\n",
       "      <td>0</td>\n",
       "      <td>0</td>\n",
       "      <td>1</td>\n",
       "      <td>1</td>\n",
       "    </tr>\n",
       "    <tr>\n",
       "      <th>1</th>\n",
       "      <td>37</td>\n",
       "      <td>1</td>\n",
       "      <td>2</td>\n",
       "      <td>130</td>\n",
       "      <td>250</td>\n",
       "      <td>0</td>\n",
       "      <td>1</td>\n",
       "      <td>187</td>\n",
       "      <td>0</td>\n",
       "      <td>3.5</td>\n",
       "      <td>0</td>\n",
       "      <td>0</td>\n",
       "      <td>2</td>\n",
       "      <td>1</td>\n",
       "    </tr>\n",
       "    <tr>\n",
       "      <th>2</th>\n",
       "      <td>41</td>\n",
       "      <td>0</td>\n",
       "      <td>1</td>\n",
       "      <td>130</td>\n",
       "      <td>204</td>\n",
       "      <td>0</td>\n",
       "      <td>0</td>\n",
       "      <td>172</td>\n",
       "      <td>0</td>\n",
       "      <td>1.4</td>\n",
       "      <td>2</td>\n",
       "      <td>0</td>\n",
       "      <td>2</td>\n",
       "      <td>1</td>\n",
       "    </tr>\n",
       "    <tr>\n",
       "      <th>3</th>\n",
       "      <td>56</td>\n",
       "      <td>1</td>\n",
       "      <td>1</td>\n",
       "      <td>120</td>\n",
       "      <td>236</td>\n",
       "      <td>0</td>\n",
       "      <td>1</td>\n",
       "      <td>178</td>\n",
       "      <td>0</td>\n",
       "      <td>0.8</td>\n",
       "      <td>2</td>\n",
       "      <td>0</td>\n",
       "      <td>2</td>\n",
       "      <td>1</td>\n",
       "    </tr>\n",
       "    <tr>\n",
       "      <th>4</th>\n",
       "      <td>57</td>\n",
       "      <td>0</td>\n",
       "      <td>0</td>\n",
       "      <td>120</td>\n",
       "      <td>354</td>\n",
       "      <td>0</td>\n",
       "      <td>1</td>\n",
       "      <td>163</td>\n",
       "      <td>1</td>\n",
       "      <td>0.6</td>\n",
       "      <td>2</td>\n",
       "      <td>0</td>\n",
       "      <td>2</td>\n",
       "      <td>1</td>\n",
       "    </tr>\n",
       "  </tbody>\n",
       "</table>\n",
       "</div>"
      ],
      "text/plain": [
       "   age  sex  cp  trestbps  chol  fbs  restecg  thalach  exang  oldpeak  slope  \\\n",
       "0   63    1   3       145   233    1        0      150      0      2.3      0   \n",
       "1   37    1   2       130   250    0        1      187      0      3.5      0   \n",
       "2   41    0   1       130   204    0        0      172      0      1.4      2   \n",
       "3   56    1   1       120   236    0        1      178      0      0.8      2   \n",
       "4   57    0   0       120   354    0        1      163      1      0.6      2   \n",
       "\n",
       "   ca  thal  target  \n",
       "0   0     1       1  \n",
       "1   0     2       1  \n",
       "2   0     2       1  \n",
       "3   0     2       1  \n",
       "4   0     2       1  "
      ]
     },
     "execution_count": 20,
     "metadata": {},
     "output_type": "execute_result"
    }
   ],
   "source": [
    "data.head()"
   ]
  },
  {
   "cell_type": "markdown",
   "metadata": {
    "id": "dZDUxzNA1dFb"
   },
   "source": [
    "1. 3 = normal\n",
    "2. 6 = fixed defect\n",
    "3. 7 = reversable defect"
   ]
  },
  {
   "cell_type": "code",
   "execution_count": 21,
   "metadata": {
    "colab": {
     "base_uri": "https://localhost:8080/",
     "height": 546
    },
    "executionInfo": {
     "elapsed": 3376,
     "status": "ok",
     "timestamp": 1602074035697,
     "user": {
      "displayName": "Pianalytix Vrec",
      "photoUrl": "",
      "userId": "08286299111597749388"
     },
     "user_tz": -330
    },
    "id": "MKAGzXsX1dFb",
    "outputId": "2e924758-0e5c-4afe-b416-353baf1c0246"
   },
   "outputs": [
    {
     "name": "stderr",
     "output_type": "stream",
     "text": [
      "C:\\ProgramData\\Anaconda3\\lib\\site-packages\\seaborn\\_decorators.py:36: FutureWarning: Pass the following variable as a keyword arg: x. From version 0.12, the only valid positional argument will be `data`, and passing other arguments without an explicit keyword will result in an error or misinterpretation.\n",
      "  warnings.warn(\n"
     ]
    },
    {
     "data": {
      "image/png": "[encoded data removed]",
      "text/plain": [
       "<Figure size 1296x648 with 1 Axes>"
      ]
     },
     "metadata": {
      "needs_background": "light"
     },
     "output_type": "display_data"
    }
   ],
   "source": [
    "plt.figure(figsize=(18,9))\n",
    "sns.set_context('notebook',font_scale = 1.5)\n",
    "sns.countplot(data['thal'],hue=data[\"target\"])\n",
    "plt.tight_layout()"
   ]
  },
  {
   "cell_type": "markdown",
   "metadata": {
    "id": "l_-G0ec41dFf"
   },
   "source": [
    "**People with fixed defect are more likely to have heart disease.**"
   ]
  },
  {
   "cell_type": "code",
   "execution_count": 25,
   "metadata": {
    "id": "V2K_OmHz1dFf"
   },
   "outputs": [
    {
     "data": {
      "image/png": "[encoded data removed]",
      "text/plain": [
       "<Figure size 1656x864 with 1 Axes>"
      ]
     },
     "metadata": {
      "needs_background": "light"
     },
     "output_type": "display_data"
    }
   ],
   "source": [
    "plt.figure(figsize=(23,12))\n",
    "sns.set_context('notebook',font_scale = 1.5)\n",
    "sns.violinplot(x=\"exang\",y=\"age\",data=data,palette=[\"r\", \"c\", \"y\"],hue=\"thal\")\n",
    "plt.tight_layout()"
   ]
  },
  {
   "cell_type": "markdown",
   "metadata": {
    "id": "_F1eHCuF1dFh"
   },
   "source": [
    "## Target "
   ]
  },
  {
   "cell_type": "code",
   "execution_count": 26,
   "metadata": {
    "colab": {
     "base_uri": "https://localhost:8080/",
     "height": 546
    },
    "executionInfo": {
     "elapsed": 1115,
     "status": "ok",
     "timestamp": 1602074071861,
     "user": {
      "displayName": "Pianalytix Vrec",
      "photoUrl": "",
      "userId": "08286299111597749388"
     },
     "user_tz": -330
    },
    "id": "afovqLLA1dFi",
    "outputId": "92e75762-9466-46cc-e6df-367ddd37227d"
   },
   "outputs": [
    {
     "name": "stderr",
     "output_type": "stream",
     "text": [
      "C:\\ProgramData\\Anaconda3\\lib\\site-packages\\seaborn\\_decorators.py:36: FutureWarning: Pass the following variable as a keyword arg: x. From version 0.12, the only valid positional argument will be `data`, and passing other arguments without an explicit keyword will result in an error or misinterpretation.\n",
      "  warnings.warn(\n"
     ]
    },
    {
     "data": {
      "image/png": "[encoded data removed]",
      "text/plain": [
       "<Figure size 1296x648 with 1 Axes>"
      ]
     },
     "metadata": {
      "needs_background": "light"
     },
     "output_type": "display_data"
    }
   ],
   "source": [
    "plt.figure(figsize=(18,9))\n",
    "sns.set_context('notebook',font_scale = 1.5)\n",
    "sns.countplot(data['target'])\n",
    "plt.tight_layout()"
   ]
  },
  {
   "cell_type": "markdown",
   "metadata": {
    "id": "feLqmHqs1dFk"
   },
   "source": [
    "Inference: The ratio between 1 and 0 is much less than 1.5 which indicates that target feature is not imbalanced. So for a balanced dataset, we can use accuracy_score as evaluation metrics for our model."
   ]
  },
  {
   "cell_type": "code",
   "execution_count": 27,
   "metadata": {
    "colab": {
     "base_uri": "https://localhost:8080/",
     "height": 195
    },
    "executionInfo": {
     "elapsed": 1484,
     "status": "ok",
     "timestamp": 1602074325814,
     "user": {
      "displayName": "Pianalytix Vrec",
      "photoUrl": "",
      "userId": "08286299111597749388"
     },
     "user_tz": -330
    },
    "id": "kHzJc_wQEhBi",
    "outputId": "cdd122b9-98af-4e73-dd25-4983a133f01c"
   },
   "outputs": [
    {
     "data": {
      "text/html": [
       "<div>\n",
       "<style scoped>\n",
       "    .dataframe tbody tr th:only-of-type {\n",
       "        vertical-align: middle;\n",
       "    }\n",
       "\n",
       "    .dataframe tbody tr th {\n",
       "        vertical-align: top;\n",
       "    }\n",
       "\n",
       "    .dataframe thead th {\n",
       "        text-align: right;\n",
       "    }\n",
       "</style>\n",
       "<table border=\"1\" class=\"dataframe\">\n",
       "  <thead>\n",
       "    <tr style=\"text-align: right;\">\n",
       "      <th></th>\n",
       "      <th>age</th>\n",
       "      <th>sex</th>\n",
       "      <th>cp</th>\n",
       "      <th>trestbps</th>\n",
       "      <th>chol</th>\n",
       "      <th>fbs</th>\n",
       "      <th>restecg</th>\n",
       "      <th>thalach</th>\n",
       "      <th>exang</th>\n",
       "      <th>oldpeak</th>\n",
       "      <th>slope</th>\n",
       "      <th>ca</th>\n",
       "      <th>thal</th>\n",
       "      <th>target</th>\n",
       "    </tr>\n",
       "  </thead>\n",
       "  <tbody>\n",
       "    <tr>\n",
       "      <th>0</th>\n",
       "      <td>63</td>\n",
       "      <td>1</td>\n",
       "      <td>3</td>\n",
       "      <td>145</td>\n",
       "      <td>233</td>\n",
       "      <td>1</td>\n",
       "      <td>0</td>\n",
       "      <td>150</td>\n",
       "      <td>0</td>\n",
       "      <td>2.3</td>\n",
       "      <td>0</td>\n",
       "      <td>0</td>\n",
       "      <td>1</td>\n",
       "      <td>1</td>\n",
       "    </tr>\n",
       "    <tr>\n",
       "      <th>1</th>\n",
       "      <td>37</td>\n",
       "      <td>1</td>\n",
       "      <td>2</td>\n",
       "      <td>130</td>\n",
       "      <td>250</td>\n",
       "      <td>0</td>\n",
       "      <td>1</td>\n",
       "      <td>187</td>\n",
       "      <td>0</td>\n",
       "      <td>3.5</td>\n",
       "      <td>0</td>\n",
       "      <td>0</td>\n",
       "      <td>2</td>\n",
       "      <td>1</td>\n",
       "    </tr>\n",
       "    <tr>\n",
       "      <th>2</th>\n",
       "      <td>41</td>\n",
       "      <td>0</td>\n",
       "      <td>1</td>\n",
       "      <td>130</td>\n",
       "      <td>204</td>\n",
       "      <td>0</td>\n",
       "      <td>0</td>\n",
       "      <td>172</td>\n",
       "      <td>0</td>\n",
       "      <td>1.4</td>\n",
       "      <td>2</td>\n",
       "      <td>0</td>\n",
       "      <td>2</td>\n",
       "      <td>1</td>\n",
       "    </tr>\n",
       "    <tr>\n",
       "      <th>3</th>\n",
       "      <td>56</td>\n",
       "      <td>1</td>\n",
       "      <td>1</td>\n",
       "      <td>120</td>\n",
       "      <td>236</td>\n",
       "      <td>0</td>\n",
       "      <td>1</td>\n",
       "      <td>178</td>\n",
       "      <td>0</td>\n",
       "      <td>0.8</td>\n",
       "      <td>2</td>\n",
       "      <td>0</td>\n",
       "      <td>2</td>\n",
       "      <td>1</td>\n",
       "    </tr>\n",
       "    <tr>\n",
       "      <th>4</th>\n",
       "      <td>57</td>\n",
       "      <td>0</td>\n",
       "      <td>0</td>\n",
       "      <td>120</td>\n",
       "      <td>354</td>\n",
       "      <td>0</td>\n",
       "      <td>1</td>\n",
       "      <td>163</td>\n",
       "      <td>1</td>\n",
       "      <td>0.6</td>\n",
       "      <td>2</td>\n",
       "      <td>0</td>\n",
       "      <td>2</td>\n",
       "      <td>1</td>\n",
       "    </tr>\n",
       "  </tbody>\n",
       "</table>\n",
       "</div>"
      ],
      "text/plain": [
       "   age  sex  cp  trestbps  chol  fbs  restecg  thalach  exang  oldpeak  slope  \\\n",
       "0   63    1   3       145   233    1        0      150      0      2.3      0   \n",
       "1   37    1   2       130   250    0        1      187      0      3.5      0   \n",
       "2   41    0   1       130   204    0        0      172      0      1.4      2   \n",
       "3   56    1   1       120   236    0        1      178      0      0.8      2   \n",
       "4   57    0   0       120   354    0        1      163      1      0.6      2   \n",
       "\n",
       "   ca  thal  target  \n",
       "0   0     1       1  \n",
       "1   0     2       1  \n",
       "2   0     2       1  \n",
       "3   0     2       1  \n",
       "4   0     2       1  "
      ]
     },
     "execution_count": 27,
     "metadata": {},
     "output_type": "execute_result"
    }
   ],
   "source": [
    "data.head()"
   ]
  },
  {
   "cell_type": "markdown",
   "metadata": {
    "id": "B38aanUI1dF0"
   },
   "source": [
    "# Feature Enginnering"
   ]
  },
  {
   "cell_type": "code",
   "execution_count": 28,
   "metadata": {
    "colab": {
     "base_uri": "https://localhost:8080/"
    },
    "executionInfo": {
     "elapsed": 1020,
     "status": "ok",
     "timestamp": 1602074437887,
     "user": {
      "displayName": "Pianalytix Vrec",
      "photoUrl": "",
      "userId": "08286299111597749388"
     },
     "user_tz": -330
    },
    "id": "Pk62h5SD1dF1",
    "outputId": "0f57a165-a79b-440f-8ab8-97e7e493d8be"
   },
   "outputs": [
    {
     "name": "stdout",
     "output_type": "stream",
     "text": [
      "--------------------\n",
      "age : [63 37 41 56 57 44 52 54 48 49 64 58 50 66 43 69 59 42 61 40 71 51 65 53\n",
      " 46 45 39 47 62 34 35 29 55 60 67 68 74 76 70 38 77]\n",
      "--------------------\n",
      "sex : [1 0]\n",
      "--------------------\n",
      "cp : [3 2 1 0]\n",
      "--------------------\n",
      "trestbps : [145 130 120 140 172 150 110 135 160 105 125 142 155 104 138 128 108 134\n",
      " 122 115 118 100 124  94 112 102 152 101 132 148 178 129 180 136 126 106\n",
      " 156 170 146 117 200 165 174 192 144 123 154 114 164]\n",
      "--------------------\n",
      "chol : [233 250 204 236 354 192 294 263 199 168 239 275 266 211 283 219 340 226\n",
      " 247 234 243 302 212 175 417 197 198 177 273 213 304 232 269 360 308 245\n",
      " 208 264 321 325 235 257 216 256 231 141 252 201 222 260 182 303 265 309\n",
      " 186 203 183 220 209 258 227 261 221 205 240 318 298 564 277 214 248 255\n",
      " 207 223 288 160 394 315 246 244 270 195 196 254 126 313 262 215 193 271\n",
      " 268 267 210 295 306 178 242 180 228 149 278 253 342 157 286 229 284 224\n",
      " 206 167 230 335 276 353 225 330 290 172 305 188 282 185 326 274 164 307\n",
      " 249 341 407 217 174 281 289 322 299 300 293 184 409 259 200 327 237 218\n",
      " 319 166 311 169 187 176 241 131]\n",
      "--------------------\n",
      "fbs : [1 0]\n",
      "--------------------\n",
      "restecg : [0 1 2]\n",
      "--------------------\n",
      "thalach : [150 187 172 178 163 148 153 173 162 174 160 139 171 144 158 114 151 161\n",
      " 179 137 157 123 152 168 140 188 125 170 165 142 180 143 182 156 115 149\n",
      " 146 175 186 185 159 130 190 132 147 154 202 166 164 184 122 169 138 111\n",
      " 145 194 131 133 155 167 192 121  96 126 105 181 116 108 129 120 112 128\n",
      " 109 113  99 177 141 136  97 127 103 124  88 195 106  95 117  71 118 134\n",
      "  90]\n",
      "--------------------\n",
      "exang : [0 1]\n",
      "--------------------\n",
      "oldpeak : [2.3 3.5 1.4 0.8 0.6 0.4 1.3 0.  0.5 1.6 1.2 0.2 1.8 1.  2.6 1.5 3.  2.4\n",
      " 0.1 1.9 4.2 1.1 2.  0.7 0.3 0.9 3.6 3.1 3.2 2.5 2.2 2.8 3.4 6.2 4.  5.6\n",
      " 2.9 2.1 3.8 4.4]\n",
      "--------------------\n",
      "slope : [0 2 1]\n",
      "--------------------\n",
      "ca : [0 2 1 3 4]\n",
      "--------------------\n",
      "thal : [1 2 3 0]\n",
      "--------------------\n",
      "target : [1 0]\n"
     ]
    }
   ],
   "source": [
    "categorical_val = []\n",
    "continous_val = []\n",
    "for column in data.columns:\n",
    "    print(\"--------------------\")\n",
    "    print(f\"{column} : {data[column].unique()}\")\n",
    "    if len(data[column].unique()) <= 10:\n",
    "        categorical_val.append(column)\n",
    "    else:\n",
    "        continous_val.append(column)"
   ]
  },
  {
   "cell_type": "markdown",
   "metadata": {},
   "source": [
    "Now here first we will be removing the target column from our set of features then we will categorised all the categorical variables using get dummies method which will create the seperate column for each category suppose X variable contains 2 types of unique values then it will create 2 different columns for X variable"
   ]
  },
  {
   "cell_type": "code",
   "execution_count": 29,
   "metadata": {
    "executionInfo": {
     "elapsed": 1125,
     "status": "ok",
     "timestamp": 1602074519938,
     "user": {
      "displayName": "Pianalytix Vrec",
      "photoUrl": "",
      "userId": "08286299111597749388"
     },
     "user_tz": -330
    },
    "id": "b7HsLUVH1dF4"
   },
   "outputs": [],
   "source": [
    "categorical_val.remove('target')\n",
    "dfs = pd.get_dummies(data, columns = categorical_val)"
   ]
  },
  {
   "cell_type": "code",
   "execution_count": 30,
   "metadata": {
    "colab": {
     "base_uri": "https://localhost:8080/",
     "height": 245
    },
    "executionInfo": {
     "elapsed": 1344,
     "status": "ok",
     "timestamp": 1602074524184,
     "user": {
      "displayName": "Pianalytix Vrec",
      "photoUrl": "",
      "userId": "08286299111597749388"
     },
     "user_tz": -330
    },
    "id": "xcLWUXFh1dF7",
    "outputId": "04846301-aa9d-402d-feaa-8fa14dd3043f"
   },
   "outputs": [
    {
     "data": {
      "text/html": [
       "<div>\n",
       "<style scoped>\n",
       "    .dataframe tbody tr th:only-of-type {\n",
       "        vertical-align: middle;\n",
       "    }\n",
       "\n",
       "    .dataframe tbody tr th {\n",
       "        vertical-align: top;\n",
       "    }\n",
       "\n",
       "    .dataframe thead th {\n",
       "        text-align: right;\n",
       "    }\n",
       "</style>\n",
       "<table border=\"1\" class=\"dataframe\">\n",
       "  <thead>\n",
       "    <tr style=\"text-align: right;\">\n",
       "      <th></th>\n",
       "      <th>age</th>\n",
       "      <th>trestbps</th>\n",
       "      <th>chol</th>\n",
       "      <th>thalach</th>\n",
       "      <th>oldpeak</th>\n",
       "      <th>target</th>\n",
       "      <th>sex_0</th>\n",
       "      <th>sex_1</th>\n",
       "      <th>cp_0</th>\n",
       "      <th>cp_1</th>\n",
       "      <th>...</th>\n",
       "      <th>slope_2</th>\n",
       "      <th>ca_0</th>\n",
       "      <th>ca_1</th>\n",
       "      <th>ca_2</th>\n",
       "      <th>ca_3</th>\n",
       "      <th>ca_4</th>\n",
       "      <th>thal_0</th>\n",
       "      <th>thal_1</th>\n",
       "      <th>thal_2</th>\n",
       "      <th>thal_3</th>\n",
       "    </tr>\n",
       "  </thead>\n",
       "  <tbody>\n",
       "    <tr>\n",
       "      <th>0</th>\n",
       "      <td>63</td>\n",
       "      <td>145</td>\n",
       "      <td>233</td>\n",
       "      <td>150</td>\n",
       "      <td>2.3</td>\n",
       "      <td>1</td>\n",
       "      <td>0</td>\n",
       "      <td>1</td>\n",
       "      <td>0</td>\n",
       "      <td>0</td>\n",
       "      <td>...</td>\n",
       "      <td>0</td>\n",
       "      <td>1</td>\n",
       "      <td>0</td>\n",
       "      <td>0</td>\n",
       "      <td>0</td>\n",
       "      <td>0</td>\n",
       "      <td>0</td>\n",
       "      <td>1</td>\n",
       "      <td>0</td>\n",
       "      <td>0</td>\n",
       "    </tr>\n",
       "    <tr>\n",
       "      <th>1</th>\n",
       "      <td>37</td>\n",
       "      <td>130</td>\n",
       "      <td>250</td>\n",
       "      <td>187</td>\n",
       "      <td>3.5</td>\n",
       "      <td>1</td>\n",
       "      <td>0</td>\n",
       "      <td>1</td>\n",
       "      <td>0</td>\n",
       "      <td>0</td>\n",
       "      <td>...</td>\n",
       "      <td>0</td>\n",
       "      <td>1</td>\n",
       "      <td>0</td>\n",
       "      <td>0</td>\n",
       "      <td>0</td>\n",
       "      <td>0</td>\n",
       "      <td>0</td>\n",
       "      <td>0</td>\n",
       "      <td>1</td>\n",
       "      <td>0</td>\n",
       "    </tr>\n",
       "    <tr>\n",
       "      <th>2</th>\n",
       "      <td>41</td>\n",
       "      <td>130</td>\n",
       "      <td>204</td>\n",
       "      <td>172</td>\n",
       "      <td>1.4</td>\n",
       "      <td>1</td>\n",
       "      <td>1</td>\n",
       "      <td>0</td>\n",
       "      <td>0</td>\n",
       "      <td>1</td>\n",
       "      <td>...</td>\n",
       "      <td>1</td>\n",
       "      <td>1</td>\n",
       "      <td>0</td>\n",
       "      <td>0</td>\n",
       "      <td>0</td>\n",
       "      <td>0</td>\n",
       "      <td>0</td>\n",
       "      <td>0</td>\n",
       "      <td>1</td>\n",
       "      <td>0</td>\n",
       "    </tr>\n",
       "    <tr>\n",
       "      <th>3</th>\n",
       "      <td>56</td>\n",
       "      <td>120</td>\n",
       "      <td>236</td>\n",
       "      <td>178</td>\n",
       "      <td>0.8</td>\n",
       "      <td>1</td>\n",
       "      <td>0</td>\n",
       "      <td>1</td>\n",
       "      <td>0</td>\n",
       "      <td>1</td>\n",
       "      <td>...</td>\n",
       "      <td>1</td>\n",
       "      <td>1</td>\n",
       "      <td>0</td>\n",
       "      <td>0</td>\n",
       "      <td>0</td>\n",
       "      <td>0</td>\n",
       "      <td>0</td>\n",
       "      <td>0</td>\n",
       "      <td>1</td>\n",
       "      <td>0</td>\n",
       "    </tr>\n",
       "    <tr>\n",
       "      <th>4</th>\n",
       "      <td>57</td>\n",
       "      <td>120</td>\n",
       "      <td>354</td>\n",
       "      <td>163</td>\n",
       "      <td>0.6</td>\n",
       "      <td>1</td>\n",
       "      <td>1</td>\n",
       "      <td>0</td>\n",
       "      <td>1</td>\n",
       "      <td>0</td>\n",
       "      <td>...</td>\n",
       "      <td>1</td>\n",
       "      <td>1</td>\n",
       "      <td>0</td>\n",
       "      <td>0</td>\n",
       "      <td>0</td>\n",
       "      <td>0</td>\n",
       "      <td>0</td>\n",
       "      <td>0</td>\n",
       "      <td>1</td>\n",
       "      <td>0</td>\n",
       "    </tr>\n",
       "    <tr>\n",
       "      <th>5</th>\n",
       "      <td>57</td>\n",
       "      <td>140</td>\n",
       "      <td>192</td>\n",
       "      <td>148</td>\n",
       "      <td>0.4</td>\n",
       "      <td>1</td>\n",
       "      <td>0</td>\n",
       "      <td>1</td>\n",
       "      <td>1</td>\n",
       "      <td>0</td>\n",
       "      <td>...</td>\n",
       "      <td>0</td>\n",
       "      <td>1</td>\n",
       "      <td>0</td>\n",
       "      <td>0</td>\n",
       "      <td>0</td>\n",
       "      <td>0</td>\n",
       "      <td>0</td>\n",
       "      <td>1</td>\n",
       "      <td>0</td>\n",
       "      <td>0</td>\n",
       "    </tr>\n",
       "  </tbody>\n",
       "</table>\n",
       "<p>6 rows × 31 columns</p>\n",
       "</div>"
      ],
      "text/plain": [
       "   age  trestbps  chol  thalach  oldpeak  target  sex_0  sex_1  cp_0  cp_1  \\\n",
       "0   63       145   233      150      2.3       1      0      1     0     0   \n",
       "1   37       130   250      187      3.5       1      0      1     0     0   \n",
       "2   41       130   204      172      1.4       1      1      0     0     1   \n",
       "3   56       120   236      178      0.8       1      0      1     0     1   \n",
       "4   57       120   354      163      0.6       1      1      0     1     0   \n",
       "5   57       140   192      148      0.4       1      0      1     1     0   \n",
       "\n",
       "   ...  slope_2  ca_0  ca_1  ca_2  ca_3  ca_4  thal_0  thal_1  thal_2  thal_3  \n",
       "0  ...        0     1     0     0     0     0       0       1       0       0  \n",
       "1  ...        0     1     0     0     0     0       0       0       1       0  \n",
       "2  ...        1     1     0     0     0     0       0       0       1       0  \n",
       "3  ...        1     1     0     0     0     0       0       0       1       0  \n",
       "4  ...        1     1     0     0     0     0       0       0       1       0  \n",
       "5  ...        0     1     0     0     0     0       0       1       0       0  \n",
       "\n",
       "[6 rows x 31 columns]"
      ]
     },
     "execution_count": 30,
     "metadata": {},
     "output_type": "execute_result"
    }
   ],
   "source": [
    "dfs.head(6)"
   ]
  },
  {
   "cell_type": "markdown",
   "metadata": {},
   "source": [
    "Now we will be using the standard scaler method to scale down the data so that it won't raise the outliers also dataset which is scaled to general units leads to have better accuracy."
   ]
  },
  {
   "cell_type": "code",
   "execution_count": 31,
   "metadata": {
    "executionInfo": {
     "elapsed": 974,
     "status": "ok",
     "timestamp": 1602074590169,
     "user": {
      "displayName": "Pianalytix Vrec",
      "photoUrl": "",
      "userId": "08286299111597749388"
     },
     "user_tz": -330
    },
    "id": "ewVANZ6_1dGE"
   },
   "outputs": [],
   "source": [
    "sc = StandardScaler()\n",
    "col_to_scale = ['age', 'trestbps', 'chol', 'thalach', 'oldpeak']\n",
    "dfs[col_to_scale] = sc.fit_transform(dfs[col_to_scale])"
   ]
  },
  {
   "cell_type": "code",
   "execution_count": 32,
   "metadata": {
    "colab": {
     "base_uri": "https://localhost:8080/",
     "height": 245
    },
    "executionInfo": {
     "elapsed": 1332,
     "status": "ok",
     "timestamp": 1602074596956,
     "user": {
      "displayName": "Pianalytix Vrec",
      "photoUrl": "",
      "userId": "08286299111597749388"
     },
     "user_tz": -330
    },
    "id": "FSS5TpYq1dGL",
    "outputId": "e83f54c4-6b7e-4c80-adc9-02c9e2ba0e96",
    "scrolled": true
   },
   "outputs": [
    {
     "data": {
      "text/html": [
       "<div>\n",
       "<style scoped>\n",
       "    .dataframe tbody tr th:only-of-type {\n",
       "        vertical-align: middle;\n",
       "    }\n",
       "\n",
       "    .dataframe tbody tr th {\n",
       "        vertical-align: top;\n",
       "    }\n",
       "\n",
       "    .dataframe thead th {\n",
       "        text-align: right;\n",
       "    }\n",
       "</style>\n",
       "<table border=\"1\" class=\"dataframe\">\n",
       "  <thead>\n",
       "    <tr style=\"text-align: right;\">\n",
       "      <th></th>\n",
       "      <th>age</th>\n",
       "      <th>trestbps</th>\n",
       "      <th>chol</th>\n",
       "      <th>thalach</th>\n",
       "      <th>oldpeak</th>\n",
       "      <th>target</th>\n",
       "      <th>sex_0</th>\n",
       "      <th>sex_1</th>\n",
       "      <th>cp_0</th>\n",
       "      <th>cp_1</th>\n",
       "      <th>...</th>\n",
       "      <th>slope_2</th>\n",
       "      <th>ca_0</th>\n",
       "      <th>ca_1</th>\n",
       "      <th>ca_2</th>\n",
       "      <th>ca_3</th>\n",
       "      <th>ca_4</th>\n",
       "      <th>thal_0</th>\n",
       "      <th>thal_1</th>\n",
       "      <th>thal_2</th>\n",
       "      <th>thal_3</th>\n",
       "    </tr>\n",
       "  </thead>\n",
       "  <tbody>\n",
       "    <tr>\n",
       "      <th>0</th>\n",
       "      <td>0.952197</td>\n",
       "      <td>0.763956</td>\n",
       "      <td>-0.256334</td>\n",
       "      <td>0.015443</td>\n",
       "      <td>1.087338</td>\n",
       "      <td>1</td>\n",
       "      <td>0</td>\n",
       "      <td>1</td>\n",
       "      <td>0</td>\n",
       "      <td>0</td>\n",
       "      <td>...</td>\n",
       "      <td>0</td>\n",
       "      <td>1</td>\n",
       "      <td>0</td>\n",
       "      <td>0</td>\n",
       "      <td>0</td>\n",
       "      <td>0</td>\n",
       "      <td>0</td>\n",
       "      <td>1</td>\n",
       "      <td>0</td>\n",
       "      <td>0</td>\n",
       "    </tr>\n",
       "    <tr>\n",
       "      <th>1</th>\n",
       "      <td>-1.915313</td>\n",
       "      <td>-0.092738</td>\n",
       "      <td>0.072199</td>\n",
       "      <td>1.633471</td>\n",
       "      <td>2.122573</td>\n",
       "      <td>1</td>\n",
       "      <td>0</td>\n",
       "      <td>1</td>\n",
       "      <td>0</td>\n",
       "      <td>0</td>\n",
       "      <td>...</td>\n",
       "      <td>0</td>\n",
       "      <td>1</td>\n",
       "      <td>0</td>\n",
       "      <td>0</td>\n",
       "      <td>0</td>\n",
       "      <td>0</td>\n",
       "      <td>0</td>\n",
       "      <td>0</td>\n",
       "      <td>1</td>\n",
       "      <td>0</td>\n",
       "    </tr>\n",
       "    <tr>\n",
       "      <th>2</th>\n",
       "      <td>-1.474158</td>\n",
       "      <td>-0.092738</td>\n",
       "      <td>-0.816773</td>\n",
       "      <td>0.977514</td>\n",
       "      <td>0.310912</td>\n",
       "      <td>1</td>\n",
       "      <td>1</td>\n",
       "      <td>0</td>\n",
       "      <td>0</td>\n",
       "      <td>1</td>\n",
       "      <td>...</td>\n",
       "      <td>1</td>\n",
       "      <td>1</td>\n",
       "      <td>0</td>\n",
       "      <td>0</td>\n",
       "      <td>0</td>\n",
       "      <td>0</td>\n",
       "      <td>0</td>\n",
       "      <td>0</td>\n",
       "      <td>1</td>\n",
       "      <td>0</td>\n",
       "    </tr>\n",
       "    <tr>\n",
       "      <th>3</th>\n",
       "      <td>0.180175</td>\n",
       "      <td>-0.663867</td>\n",
       "      <td>-0.198357</td>\n",
       "      <td>1.239897</td>\n",
       "      <td>-0.206705</td>\n",
       "      <td>1</td>\n",
       "      <td>0</td>\n",
       "      <td>1</td>\n",
       "      <td>0</td>\n",
       "      <td>1</td>\n",
       "      <td>...</td>\n",
       "      <td>1</td>\n",
       "      <td>1</td>\n",
       "      <td>0</td>\n",
       "      <td>0</td>\n",
       "      <td>0</td>\n",
       "      <td>0</td>\n",
       "      <td>0</td>\n",
       "      <td>0</td>\n",
       "      <td>1</td>\n",
       "      <td>0</td>\n",
       "    </tr>\n",
       "    <tr>\n",
       "      <th>4</th>\n",
       "      <td>0.290464</td>\n",
       "      <td>-0.663867</td>\n",
       "      <td>2.082050</td>\n",
       "      <td>0.583939</td>\n",
       "      <td>-0.379244</td>\n",
       "      <td>1</td>\n",
       "      <td>1</td>\n",
       "      <td>0</td>\n",
       "      <td>1</td>\n",
       "      <td>0</td>\n",
       "      <td>...</td>\n",
       "      <td>1</td>\n",
       "      <td>1</td>\n",
       "      <td>0</td>\n",
       "      <td>0</td>\n",
       "      <td>0</td>\n",
       "      <td>0</td>\n",
       "      <td>0</td>\n",
       "      <td>0</td>\n",
       "      <td>1</td>\n",
       "      <td>0</td>\n",
       "    </tr>\n",
       "    <tr>\n",
       "      <th>5</th>\n",
       "      <td>0.290464</td>\n",
       "      <td>0.478391</td>\n",
       "      <td>-1.048678</td>\n",
       "      <td>-0.072018</td>\n",
       "      <td>-0.551783</td>\n",
       "      <td>1</td>\n",
       "      <td>0</td>\n",
       "      <td>1</td>\n",
       "      <td>1</td>\n",
       "      <td>0</td>\n",
       "      <td>...</td>\n",
       "      <td>0</td>\n",
       "      <td>1</td>\n",
       "      <td>0</td>\n",
       "      <td>0</td>\n",
       "      <td>0</td>\n",
       "      <td>0</td>\n",
       "      <td>0</td>\n",
       "      <td>1</td>\n",
       "      <td>0</td>\n",
       "      <td>0</td>\n",
       "    </tr>\n",
       "  </tbody>\n",
       "</table>\n",
       "<p>6 rows × 31 columns</p>\n",
       "</div>"
      ],
      "text/plain": [
       "        age  trestbps      chol   thalach   oldpeak  target  sex_0  sex_1  \\\n",
       "0  0.952197  0.763956 -0.256334  0.015443  1.087338       1      0      1   \n",
       "1 -1.915313 -0.092738  0.072199  1.633471  2.122573       1      0      1   \n",
       "2 -1.474158 -0.092738 -0.816773  0.977514  0.310912       1      1      0   \n",
       "3  0.180175 -0.663867 -0.198357  1.239897 -0.206705       1      0      1   \n",
       "4  0.290464 -0.663867  2.082050  0.583939 -0.379244       1      1      0   \n",
       "5  0.290464  0.478391 -1.048678 -0.072018 -0.551783       1      0      1   \n",
       "\n",
       "   cp_0  cp_1  ...  slope_2  ca_0  ca_1  ca_2  ca_3  ca_4  thal_0  thal_1  \\\n",
       "0     0     0  ...        0     1     0     0     0     0       0       1   \n",
       "1     0     0  ...        0     1     0     0     0     0       0       0   \n",
       "2     0     1  ...        1     1     0     0     0     0       0       0   \n",
       "3     0     1  ...        1     1     0     0     0     0       0       0   \n",
       "4     1     0  ...        1     1     0     0     0     0       0       0   \n",
       "5     1     0  ...        0     1     0     0     0     0       0       1   \n",
       "\n",
       "   thal_2  thal_3  \n",
       "0       0       0  \n",
       "1       1       0  \n",
       "2       1       0  \n",
       "3       1       0  \n",
       "4       1       0  \n",
       "5       0       0  \n",
       "\n",
       "[6 rows x 31 columns]"
      ]
     },
     "execution_count": 32,
     "metadata": {},
     "output_type": "execute_result"
    }
   ],
   "source": [
    "dfs.head(6)"
   ]
  },
  {
   "cell_type": "markdown",
   "metadata": {
    "id": "_2XBrdj51dGV"
   },
   "source": [
    "# Modelling"
   ]
  },
  {
   "cell_type": "markdown",
   "metadata": {
    "id": "WV3EsaCP1dGW"
   },
   "source": [
    "**Splitting our dataset**"
   ]
  },
  {
   "cell_type": "code",
   "execution_count": 33,
   "metadata": {
    "executionInfo": {
     "elapsed": 1013,
     "status": "ok",
     "timestamp": 1602074676914,
     "user": {
      "displayName": "Pianalytix Vrec",
      "photoUrl": "",
      "userId": "08286299111597749388"
     },
     "user_tz": -330
    },
    "id": "mxJlhkUd1dGX"
   },
   "outputs": [],
   "source": [
    "X = dfs.drop('target', axis=1)\n",
    "y = dfs.target\n",
    "\n",
    "X_train, X_test, y_train, y_test = train_test_split(X, y, test_size=0.3, random_state=42)"
   ]
  },
  {
   "cell_type": "code",
   "execution_count": 34,
   "metadata": {
    "colab": {
     "base_uri": "https://localhost:8080/",
     "height": 215
    },
    "executionInfo": {
     "elapsed": 1087,
     "status": "ok",
     "timestamp": 1602074696393,
     "user": {
      "displayName": "Pianalytix Vrec",
      "photoUrl": "",
      "userId": "08286299111597749388"
     },
     "user_tz": -330
    },
    "id": "BW8DIcQhF8Fm",
    "outputId": "4d66b590-9bfa-49d7-c84b-1698509ee45a"
   },
   "outputs": [
    {
     "data": {
      "text/html": [
       "<div>\n",
       "<style scoped>\n",
       "    .dataframe tbody tr th:only-of-type {\n",
       "        vertical-align: middle;\n",
       "    }\n",
       "\n",
       "    .dataframe tbody tr th {\n",
       "        vertical-align: top;\n",
       "    }\n",
       "\n",
       "    .dataframe thead th {\n",
       "        text-align: right;\n",
       "    }\n",
       "</style>\n",
       "<table border=\"1\" class=\"dataframe\">\n",
       "  <thead>\n",
       "    <tr style=\"text-align: right;\">\n",
       "      <th></th>\n",
       "      <th>age</th>\n",
       "      <th>trestbps</th>\n",
       "      <th>chol</th>\n",
       "      <th>thalach</th>\n",
       "      <th>oldpeak</th>\n",
       "      <th>sex_0</th>\n",
       "      <th>sex_1</th>\n",
       "      <th>cp_0</th>\n",
       "      <th>cp_1</th>\n",
       "      <th>cp_2</th>\n",
       "      <th>...</th>\n",
       "      <th>slope_2</th>\n",
       "      <th>ca_0</th>\n",
       "      <th>ca_1</th>\n",
       "      <th>ca_2</th>\n",
       "      <th>ca_3</th>\n",
       "      <th>ca_4</th>\n",
       "      <th>thal_0</th>\n",
       "      <th>thal_1</th>\n",
       "      <th>thal_2</th>\n",
       "      <th>thal_3</th>\n",
       "    </tr>\n",
       "  </thead>\n",
       "  <tbody>\n",
       "    <tr>\n",
       "      <th>124</th>\n",
       "      <td>-1.694735</td>\n",
       "      <td>-2.148802</td>\n",
       "      <td>-0.913400</td>\n",
       "      <td>1.283627</td>\n",
       "      <td>-0.896862</td>\n",
       "      <td>1</td>\n",
       "      <td>0</td>\n",
       "      <td>0</td>\n",
       "      <td>0</td>\n",
       "      <td>1</td>\n",
       "      <td>...</td>\n",
       "      <td>1</td>\n",
       "      <td>1</td>\n",
       "      <td>0</td>\n",
       "      <td>0</td>\n",
       "      <td>0</td>\n",
       "      <td>0</td>\n",
       "      <td>0</td>\n",
       "      <td>0</td>\n",
       "      <td>1</td>\n",
       "      <td>0</td>\n",
       "    </tr>\n",
       "    <tr>\n",
       "      <th>72</th>\n",
       "      <td>-2.797624</td>\n",
       "      <td>-0.092738</td>\n",
       "      <td>-0.816773</td>\n",
       "      <td>2.289429</td>\n",
       "      <td>-0.896862</td>\n",
       "      <td>0</td>\n",
       "      <td>1</td>\n",
       "      <td>0</td>\n",
       "      <td>1</td>\n",
       "      <td>0</td>\n",
       "      <td>...</td>\n",
       "      <td>1</td>\n",
       "      <td>1</td>\n",
       "      <td>0</td>\n",
       "      <td>0</td>\n",
       "      <td>0</td>\n",
       "      <td>0</td>\n",
       "      <td>0</td>\n",
       "      <td>0</td>\n",
       "      <td>1</td>\n",
       "      <td>0</td>\n",
       "    </tr>\n",
       "    <tr>\n",
       "      <th>15</th>\n",
       "      <td>-0.481558</td>\n",
       "      <td>-0.663867</td>\n",
       "      <td>-0.526890</td>\n",
       "      <td>0.365287</td>\n",
       "      <td>0.483451</td>\n",
       "      <td>1</td>\n",
       "      <td>0</td>\n",
       "      <td>0</td>\n",
       "      <td>0</td>\n",
       "      <td>1</td>\n",
       "      <td>...</td>\n",
       "      <td>0</td>\n",
       "      <td>1</td>\n",
       "      <td>0</td>\n",
       "      <td>0</td>\n",
       "      <td>0</td>\n",
       "      <td>0</td>\n",
       "      <td>0</td>\n",
       "      <td>0</td>\n",
       "      <td>1</td>\n",
       "      <td>0</td>\n",
       "    </tr>\n",
       "    <tr>\n",
       "      <th>10</th>\n",
       "      <td>-0.040403</td>\n",
       "      <td>0.478391</td>\n",
       "      <td>-0.140381</td>\n",
       "      <td>0.452748</td>\n",
       "      <td>0.138373</td>\n",
       "      <td>0</td>\n",
       "      <td>1</td>\n",
       "      <td>1</td>\n",
       "      <td>0</td>\n",
       "      <td>0</td>\n",
       "      <td>...</td>\n",
       "      <td>1</td>\n",
       "      <td>1</td>\n",
       "      <td>0</td>\n",
       "      <td>0</td>\n",
       "      <td>0</td>\n",
       "      <td>0</td>\n",
       "      <td>0</td>\n",
       "      <td>0</td>\n",
       "      <td>1</td>\n",
       "      <td>0</td>\n",
       "    </tr>\n",
       "    <tr>\n",
       "      <th>163</th>\n",
       "      <td>-1.805024</td>\n",
       "      <td>0.364165</td>\n",
       "      <td>-1.377212</td>\n",
       "      <td>1.021244</td>\n",
       "      <td>-0.896862</td>\n",
       "      <td>0</td>\n",
       "      <td>1</td>\n",
       "      <td>0</td>\n",
       "      <td>0</td>\n",
       "      <td>1</td>\n",
       "      <td>...</td>\n",
       "      <td>1</td>\n",
       "      <td>0</td>\n",
       "      <td>0</td>\n",
       "      <td>0</td>\n",
       "      <td>0</td>\n",
       "      <td>1</td>\n",
       "      <td>0</td>\n",
       "      <td>0</td>\n",
       "      <td>1</td>\n",
       "      <td>0</td>\n",
       "    </tr>\n",
       "  </tbody>\n",
       "</table>\n",
       "<p>5 rows × 30 columns</p>\n",
       "</div>"
      ],
      "text/plain": [
       "          age  trestbps      chol   thalach   oldpeak  sex_0  sex_1  cp_0  \\\n",
       "124 -1.694735 -2.148802 -0.913400  1.283627 -0.896862      1      0     0   \n",
       "72  -2.797624 -0.092738 -0.816773  2.289429 -0.896862      0      1     0   \n",
       "15  -0.481558 -0.663867 -0.526890  0.365287  0.483451      1      0     0   \n",
       "10  -0.040403  0.478391 -0.140381  0.452748  0.138373      0      1     1   \n",
       "163 -1.805024  0.364165 -1.377212  1.021244 -0.896862      0      1     0   \n",
       "\n",
       "     cp_1  cp_2  ...  slope_2  ca_0  ca_1  ca_2  ca_3  ca_4  thal_0  thal_1  \\\n",
       "124     0     1  ...        1     1     0     0     0     0       0       0   \n",
       "72      1     0  ...        1     1     0     0     0     0       0       0   \n",
       "15      0     1  ...        0     1     0     0     0     0       0       0   \n",
       "10      0     0  ...        1     1     0     0     0     0       0       0   \n",
       "163     0     1  ...        1     0     0     0     0     1       0       0   \n",
       "\n",
       "     thal_2  thal_3  \n",
       "124       1       0  \n",
       "72        1       0  \n",
       "15        1       0  \n",
       "10        1       0  \n",
       "163       1       0  \n",
       "\n",
       "[5 rows x 30 columns]"
      ]
     },
     "execution_count": 34,
     "metadata": {},
     "output_type": "execute_result"
    }
   ],
   "source": [
    "X_train.head()"
   ]
  },
  {
   "cell_type": "markdown",
   "metadata": {
    "id": "_DeEtpgZ1dGg"
   },
   "source": [
    "We will work on following algo - \n",
    "\n",
    "* KNN\n",
    "* Random Forest Classifier\n",
    "* XGBoost\n",
    "* CatBoost"
   ]
  },
  {
   "cell_type": "markdown",
   "metadata": {
    "id": "AvWpUuPi1dGi"
   },
   "source": [
    "## KNN"
   ]
  },
  {
   "cell_type": "code",
   "execution_count": 35,
   "metadata": {
    "executionInfo": {
     "elapsed": 1091,
     "status": "ok",
     "timestamp": 1602074711956,
     "user": {
      "displayName": "Pianalytix Vrec",
      "photoUrl": "",
      "userId": "08286299111597749388"
     },
     "user_tz": -330
    },
    "id": "BHmz8bnd1dGj"
   },
   "outputs": [],
   "source": [
    "knn = KNeighborsClassifier(n_neighbors = 10)"
   ]
  },
  {
   "cell_type": "code",
   "execution_count": 36,
   "metadata": {
    "colab": {
     "base_uri": "https://localhost:8080/"
    },
    "executionInfo": {
     "elapsed": 995,
     "status": "ok",
     "timestamp": 1602074715389,
     "user": {
      "displayName": "Pianalytix Vrec",
      "photoUrl": "",
      "userId": "08286299111597749388"
     },
     "user_tz": -330
    },
    "id": "zVnTPHmf1dGo",
    "outputId": "d27bf11a-1dab-49d6-809f-f8585e7d3085"
   },
   "outputs": [
    {
     "data": {
      "text/plain": [
       "KNeighborsClassifier(n_neighbors=10)"
      ]
     },
     "execution_count": 36,
     "metadata": {},
     "output_type": "execute_result"
    }
   ],
   "source": [
    "knn.fit(X_train,y_train)"
   ]
  },
  {
   "cell_type": "code",
   "execution_count": 37,
   "metadata": {
    "executionInfo": {
     "elapsed": 1438,
     "status": "ok",
     "timestamp": 1602074725739,
     "user": {
      "displayName": "Pianalytix Vrec",
      "photoUrl": "",
      "userId": "08286299111597749388"
     },
     "user_tz": -330
    },
    "id": "et-E8OIW1dGx"
   },
   "outputs": [],
   "source": [
    "y_pred1 = knn.predict(X_test)"
   ]
  },
  {
   "cell_type": "code",
   "execution_count": 38,
   "metadata": {
    "colab": {
     "base_uri": "https://localhost:8080/"
    },
    "executionInfo": {
     "elapsed": 1193,
     "status": "ok",
     "timestamp": 1602074747450,
     "user": {
      "displayName": "Pianalytix Vrec",
      "photoUrl": "",
      "userId": "08286299111597749388"
     },
     "user_tz": -330
    },
    "id": "bBvQwYCO1dG9",
    "outputId": "dbb30e6c-8255-474a-fd74-51bd019e399c"
   },
   "outputs": [
    {
     "name": "stdout",
     "output_type": "stream",
     "text": [
      "0.8571428571428571\n"
     ]
    }
   ],
   "source": [
    "print(accuracy_score(y_test,y_pred1))"
   ]
  },
  {
   "cell_type": "code",
   "execution_count": 39,
   "metadata": {
    "executionInfo": {
     "elapsed": 1003,
     "status": "ok",
     "timestamp": 1602074795842,
     "user": {
      "displayName": "Pianalytix Vrec",
      "photoUrl": "",
      "userId": "08286299111597749388"
     },
     "user_tz": -330
    },
    "id": "NnobiDtM1dHD"
   },
   "outputs": [],
   "source": [
    "# Hyperparameter Optimization\n",
    "\n",
    "test_score = []\n",
    "neighbors = range(1, 25)\n",
    "\n",
    "for k in neighbors:\n",
    "    model = KNeighborsClassifier(n_neighbors=k)\n",
    "    model.fit(X_train, y_train)\n",
    "    test_score.append(accuracy_score(y_test, model.predict(X_test)))"
   ]
  },
  {
   "cell_type": "code",
   "execution_count": 40,
   "metadata": {
    "colab": {
     "base_uri": "https://localhost:8080/",
     "height": 438
    },
    "executionInfo": {
     "elapsed": 2348,
     "status": "ok",
     "timestamp": 1602074803637,
     "user": {
      "displayName": "Pianalytix Vrec",
      "photoUrl": "",
      "userId": "08286299111597749388"
     },
     "user_tz": -330
    },
    "id": "tomW-ukg1dHL",
    "outputId": "f71e7a7c-541a-42dc-d5c2-45208ce39a0f"
   },
   "outputs": [
    {
     "data": {
      "image/png": "[encoded data removed]",
      "text/plain": [
       "<Figure size 1296x576 with 1 Axes>"
      ]
     },
     "metadata": {
      "needs_background": "light"
     },
     "output_type": "display_data"
    }
   ],
   "source": [
    "plt.figure(figsize=(18, 8))\n",
    "plt.plot(neighbors, test_score, label=\"Test score\")\n",
    "plt.xticks(np.arange(1, 21, 1))\n",
    "plt.xlabel(\"Number of neighbors\")\n",
    "plt.ylabel(\"Model score\")\n",
    "plt.legend()\n",
    "plt.tight_layout()"
   ]
  },
  {
   "cell_type": "markdown",
   "metadata": {
    "id": "8OYbu3-V1dHY"
   },
   "source": [
    "**At K=19, we are getting highest test accuracy.**"
   ]
  },
  {
   "cell_type": "code",
   "execution_count": 41,
   "metadata": {
    "executionInfo": {
     "elapsed": 913,
     "status": "ok",
     "timestamp": 1602074831518,
     "user": {
      "displayName": "Pianalytix Vrec",
      "photoUrl": "",
      "userId": "08286299111597749388"
     },
     "user_tz": -330
    },
    "id": "xYnsEFn51dHY"
   },
   "outputs": [],
   "source": [
    "knn = KNeighborsClassifier(n_neighbors = 19)"
   ]
  },
  {
   "cell_type": "code",
   "execution_count": 42,
   "metadata": {
    "colab": {
     "base_uri": "https://localhost:8080/"
    },
    "executionInfo": {
     "elapsed": 1317,
     "status": "ok",
     "timestamp": 1602074834628,
     "user": {
      "displayName": "Pianalytix Vrec",
      "photoUrl": "",
      "userId": "08286299111597749388"
     },
     "user_tz": -330
    },
    "id": "sfMESLM51dHb",
    "outputId": "5f2af89f-fc49-4ba0-cda3-84b0825db463"
   },
   "outputs": [
    {
     "data": {
      "text/plain": [
       "KNeighborsClassifier(n_neighbors=19)"
      ]
     },
     "execution_count": 42,
     "metadata": {},
     "output_type": "execute_result"
    }
   ],
   "source": [
    "knn.fit(X_train,y_train)"
   ]
  },
  {
   "cell_type": "code",
   "execution_count": 43,
   "metadata": {
    "executionInfo": {
     "elapsed": 1012,
     "status": "ok",
     "timestamp": 1602074838496,
     "user": {
      "displayName": "Pianalytix Vrec",
      "photoUrl": "",
      "userId": "08286299111597749388"
     },
     "user_tz": -330
    },
    "id": "WtsIluwP1dHe"
   },
   "outputs": [],
   "source": [
    "y_pred1 = knn.predict(X_test)"
   ]
  },
  {
   "cell_type": "code",
   "execution_count": 44,
   "metadata": {
    "colab": {
     "base_uri": "https://localhost:8080/"
    },
    "executionInfo": {
     "elapsed": 1145,
     "status": "ok",
     "timestamp": 1602074841005,
     "user": {
      "displayName": "Pianalytix Vrec",
      "photoUrl": "",
      "userId": "08286299111597749388"
     },
     "user_tz": -330
    },
    "id": "k0Eh1Lwn1dHg",
    "outputId": "e77e7f94-1f48-4953-fa15-e8261132a9be"
   },
   "outputs": [
    {
     "name": "stdout",
     "output_type": "stream",
     "text": [
      "0.8901098901098901\n"
     ]
    }
   ],
   "source": [
    "print(accuracy_score(y_test,y_pred1))"
   ]
  },
  {
   "cell_type": "markdown",
   "metadata": {
    "id": "oKl5W6cF1dHk"
   },
   "source": [
    "**We achieved accuracy 89% with KNN Model after Hyperparameter Optimization.**"
   ]
  },
  {
   "cell_type": "markdown",
   "metadata": {
    "id": "sC76fWfR1dHl"
   },
   "source": [
    "## Random Forest Classifier"
   ]
  },
  {
   "cell_type": "code",
   "execution_count": 45,
   "metadata": {
    "executionInfo": {
     "elapsed": 1037,
     "status": "ok",
     "timestamp": 1602074865560,
     "user": {
      "displayName": "Pianalytix Vrec",
      "photoUrl": "",
      "userId": "08286299111597749388"
     },
     "user_tz": -330
    },
    "id": "I6Lf3f-51dHl"
   },
   "outputs": [],
   "source": [
    "rfc = RandomForestClassifier()\n",
    "rfc.fit(X_train,y_train)\n",
    "y_pred2 = rfc.predict(X_test)"
   ]
  },
  {
   "cell_type": "code",
   "execution_count": 46,
   "metadata": {
    "colab": {
     "base_uri": "https://localhost:8080/"
    },
    "executionInfo": {
     "elapsed": 1231,
     "status": "ok",
     "timestamp": 1602074873846,
     "user": {
      "displayName": "Pianalytix Vrec",
      "photoUrl": "",
      "userId": "08286299111597749388"
     },
     "user_tz": -330
    },
    "id": "xTQnZhHX1dHn",
    "outputId": "7327a49f-1120-4ba7-a3e1-8f43cd0851e2"
   },
   "outputs": [
    {
     "name": "stdout",
     "output_type": "stream",
     "text": [
      "0.8241758241758241\n"
     ]
    }
   ],
   "source": [
    "print(accuracy_score(y_test,y_pred2))"
   ]
  },
  {
   "cell_type": "code",
   "execution_count": 47,
   "metadata": {
    "executionInfo": {
     "elapsed": 1109,
     "status": "ok",
     "timestamp": 1602074948989,
     "user": {
      "displayName": "Pianalytix Vrec",
      "photoUrl": "",
      "userId": "08286299111597749388"
     },
     "user_tz": -330
    },
    "id": "1dgCOBCq1dHp"
   },
   "outputs": [],
   "source": [
    "## Hyperparameter Optimization\n",
    "\n",
    "max_depth = [int(x) for x in np.linspace(10, 110, num=11)]\n",
    "max_depth.append(None)\n",
    "\n",
    "params2 ={\n",
    "    \n",
    "    'n_estimators': [int(x) for x in np.linspace(start=200, stop=2000, num=10)], \n",
    "    'max_features': ['auto', 'sqrt'],\n",
    "    'max_depth': max_depth, \n",
    "    'min_samples_split': [2, 5, 10],\n",
    "    'min_samples_leaf': [1, 2, 4], \n",
    "    'bootstrap': [True, False]\n",
    "}"
   ]
  },
  {
   "cell_type": "code",
   "execution_count": 48,
   "metadata": {
    "executionInfo": {
     "elapsed": 907,
     "status": "ok",
     "timestamp": 1602075004720,
     "user": {
      "displayName": "Pianalytix Vrec",
      "photoUrl": "",
      "userId": "08286299111597749388"
     },
     "user_tz": -330
    },
    "id": "kVGp1V3Z1dHr"
   },
   "outputs": [],
   "source": [
    "rfc = RandomForestClassifier(random_state=42)\n",
    "\n",
    "rfcs = RandomizedSearchCV(estimator=rfc, param_distributions=params2, n_iter=100, cv=5, verbose=2, random_state=42, n_jobs=-1)"
   ]
  },
  {
   "cell_type": "code",
   "execution_count": 49,
   "metadata": {
    "colab": {
     "base_uri": "https://localhost:8080/"
    },
    "executionInfo": {
     "elapsed": 628305,
     "status": "ok",
     "timestamp": 1602075636667,
     "user": {
      "displayName": "Pianalytix Vrec",
      "photoUrl": "",
      "userId": "08286299111597749388"
     },
     "user_tz": -330
    },
    "id": "0huQV_me1dHt",
    "outputId": "57a6654a-278d-4d4e-a414-cae1d283301d"
   },
   "outputs": [
    {
     "name": "stdout",
     "output_type": "stream",
     "text": [
      "Fitting 5 folds for each of 100 candidates, totalling 500 fits\n"
     ]
    },
    {
     "name": "stderr",
     "output_type": "stream",
     "text": [
      "[Parallel(n_jobs=-1)]: Using backend LokyBackend with 4 concurrent workers.\n",
      "[Parallel(n_jobs=-1)]: Done  33 tasks      | elapsed:   56.2s\n",
      "[Parallel(n_jobs=-1)]: Done 154 tasks      | elapsed:  3.6min\n",
      "[Parallel(n_jobs=-1)]: Done 357 tasks      | elapsed:  7.9min\n",
      "[Parallel(n_jobs=-1)]: Done 500 out of 500 | elapsed: 10.8min finished\n"
     ]
    },
    {
     "data": {
      "text/plain": [
       "RandomizedSearchCV(cv=5, estimator=RandomForestClassifier(random_state=42),\n",
       "                   n_iter=100, n_jobs=-1,\n",
       "                   param_distributions={'bootstrap': [True, False],\n",
       "                                        'max_depth': [10, 20, 30, 40, 50, 60,\n",
       "                                                      70, 80, 90, 100, 110,\n",
       "                                                      None],\n",
       "                                        'max_features': ['auto', 'sqrt'],\n",
       "                                        'min_samples_leaf': [1, 2, 4],\n",
       "                                        'min_samples_split': [2, 5, 10],\n",
       "                                        'n_estimators': [200, 400, 600, 800,\n",
       "                                                         1000, 1200, 1400, 1600,\n",
       "                                                         1800, 2000]},\n",
       "                   random_state=42, verbose=2)"
      ]
     },
     "execution_count": 49,
     "metadata": {},
     "output_type": "execute_result"
    }
   ],
   "source": [
    "rfcs.fit(X_train,y_train)"
   ]
  },
  {
   "cell_type": "code",
   "execution_count": 50,
   "metadata": {
    "colab": {
     "base_uri": "https://localhost:8080/"
    },
    "executionInfo": {
     "elapsed": 887,
     "status": "ok",
     "timestamp": 1602075788525,
     "user": {
      "displayName": "Pianalytix Vrec",
      "photoUrl": "",
      "userId": "08286299111597749388"
     },
     "user_tz": -330
    },
    "id": "9ZKMjrBP1dHu",
    "outputId": "7be021c4-4d10-47e0-8385-7b119ea9a88a"
   },
   "outputs": [
    {
     "data": {
      "text/plain": [
       "RandomForestClassifier(max_depth=70, min_samples_leaf=4, min_samples_split=10,\n",
       "                       n_estimators=400, random_state=42)"
      ]
     },
     "execution_count": 50,
     "metadata": {},
     "output_type": "execute_result"
    }
   ],
   "source": [
    "rfcs.best_estimator_"
   ]
  },
  {
   "cell_type": "code",
   "execution_count": 51,
   "metadata": {
    "colab": {
     "base_uri": "https://localhost:8080/"
    },
    "executionInfo": {
     "elapsed": 995,
     "status": "ok",
     "timestamp": 1602075794621,
     "user": {
      "displayName": "Pianalytix Vrec",
      "photoUrl": "",
      "userId": "08286299111597749388"
     },
     "user_tz": -330
    },
    "id": "cCk2bC5-J928",
    "outputId": "857ffbbb-3c08-4ba3-dd0b-139ca16aca95"
   },
   "outputs": [
    {
     "name": "stdout",
     "output_type": "stream",
     "text": [
      "0.8351648351648352\n"
     ]
    }
   ],
   "source": [
    "y_pred2 = rfcs.predict(X_test)\n",
    "print(accuracy_score(y_test,y_pred2))"
   ]
  },
  {
   "cell_type": "markdown",
   "metadata": {
    "id": "fPBw5QDk1dH1"
   },
   "source": [
    "**We achieved accuracy 83% approx with Random Forest Classifier Model. There is no improvement after Hyperparameter Optimization.**"
   ]
  },
  {
   "cell_type": "markdown",
   "metadata": {
    "id": "OSldiIOo1dH1"
   },
   "source": [
    "## XGBoost"
   ]
  },
  {
   "cell_type": "code",
   "execution_count": 52,
   "metadata": {
    "executionInfo": {
     "elapsed": 1118,
     "status": "ok",
     "timestamp": 1602075821921,
     "user": {
      "displayName": "Pianalytix Vrec",
      "photoUrl": "",
      "userId": "08286299111597749388"
     },
     "user_tz": -330
    },
    "id": "tQQnvbtZ1dH1"
   },
   "outputs": [
    {
     "name": "stderr",
     "output_type": "stream",
     "text": [
      "C:\\ProgramData\\Anaconda3\\lib\\site-packages\\xgboost\\sklearn.py:1146: UserWarning: The use of label encoder in XGBClassifier is deprecated and will be removed in a future release. To remove this warning, do the following: 1) Pass option use_label_encoder=False when constructing XGBClassifier object; and 2) Encode your labels (y) as integers starting with 0, i.e. 0, 1, 2, ..., [num_class - 1].\n",
      "  warnings.warn(label_encoder_deprecation_msg, UserWarning)\n"
     ]
    },
    {
     "name": "stdout",
     "output_type": "stream",
     "text": [
      "[23:47:08] WARNING: C:/Users/Administrator/workspace/xgboost-win64_release_1.4.0/src/learner.cc:1095: Starting in XGBoost 1.3.0, the default evaluation metric used with the objective 'binary:logistic' was changed from 'error' to 'logloss'. Explicitly set eval_metric if you'd like to restore the old behavior.\n"
     ]
    },
    {
     "name": "stderr",
     "output_type": "stream",
     "text": [
      "C:\\ProgramData\\Anaconda3\\lib\\site-packages\\xgboost\\data.py:112: UserWarning: Use subset (sliced data) of np.ndarray is not recommended because it will generate extra copies and increase memory consumption\n",
      "  warnings.warn(\n"
     ]
    }
   ],
   "source": [
    "xgb = XGBClassifier(random_state = 42)\n",
    "xgb.fit(X_train,y_train)\n",
    "y_pred3 = xgb.predict(X_test)"
   ]
  },
  {
   "cell_type": "code",
   "execution_count": 53,
   "metadata": {
    "colab": {
     "base_uri": "https://localhost:8080/"
    },
    "executionInfo": {
     "elapsed": 945,
     "status": "ok",
     "timestamp": 1602075824871,
     "user": {
      "displayName": "Pianalytix Vrec",
      "photoUrl": "",
      "userId": "08286299111597749388"
     },
     "user_tz": -330
    },
    "id": "qcYVpSFB1dH2",
    "outputId": "5720c756-d527-41dc-8746-70ac7c4beeac"
   },
   "outputs": [
    {
     "name": "stdout",
     "output_type": "stream",
     "text": [
      "0.8241758241758241\n"
     ]
    }
   ],
   "source": [
    "print(accuracy_score(y_test,y_pred3))"
   ]
  },
  {
   "cell_type": "markdown",
   "metadata": {
    "id": "x5eB09ex1dH3"
   },
   "source": [
    "**We achieved accuracy 83% approx with XGBoost Classifier Model.**"
   ]
  },
  {
   "cell_type": "markdown",
   "metadata": {
    "id": "dIuPpEIZ1dH4"
   },
   "source": [
    "## CatBoost"
   ]
  },
  {
   "cell_type": "code",
   "execution_count": 54,
   "metadata": {
    "executionInfo": {
     "elapsed": 899,
     "status": "ok",
     "timestamp": 1602075833727,
     "user": {
      "displayName": "Pianalytix Vrec",
      "photoUrl": "",
      "userId": "08286299111597749388"
     },
     "user_tz": -330
    },
    "id": "eAXELmj51dH4"
   },
   "outputs": [],
   "source": [
    "model4 = CatBoostClassifier(random_state=42)"
   ]
  },
  {
   "cell_type": "code",
   "execution_count": 55,
   "metadata": {
    "colab": {
     "base_uri": "https://localhost:8080/"
    },
    "executionInfo": {
     "elapsed": 2883,
     "status": "ok",
     "timestamp": 1602075838581,
     "user": {
      "displayName": "Pianalytix Vrec",
      "photoUrl": "",
      "userId": "08286299111597749388"
     },
     "user_tz": -330
    },
    "id": "PxSuyNLU1dH7",
    "outputId": "aca23dd6-229c-4796-c582-11043634264b"
   },
   "outputs": [
    {
     "name": "stdout",
     "output_type": "stream",
     "text": [
      "Learning rate set to 0.005312\n",
      "0:\tlearn: 0.6894029\ttotal: 226ms\tremaining: 3m 45s\n",
      "1:\tlearn: 0.6863888\ttotal: 235ms\tremaining: 1m 57s\n",
      "2:\tlearn: 0.6839654\ttotal: 242ms\tremaining: 1m 20s\n",
      "3:\tlearn: 0.6790263\ttotal: 251ms\tremaining: 1m 2s\n",
      "4:\tlearn: 0.6747228\ttotal: 258ms\tremaining: 51.4s\n",
      "5:\tlearn: 0.6718471\ttotal: 267ms\tremaining: 44.2s\n",
      "6:\tlearn: 0.6683912\ttotal: 274ms\tremaining: 38.9s\n",
      "7:\tlearn: 0.6636855\ttotal: 278ms\tremaining: 34.5s\n",
      "8:\tlearn: 0.6595984\ttotal: 283ms\tremaining: 31.1s\n",
      "9:\tlearn: 0.6555097\ttotal: 287ms\tremaining: 28.5s\n",
      "10:\tlearn: 0.6513984\ttotal: 292ms\tremaining: 26.3s\n",
      "11:\tlearn: 0.6475292\ttotal: 297ms\tremaining: 24.4s\n",
      "12:\tlearn: 0.6456136\ttotal: 299ms\tremaining: 22.7s\n",
      "13:\tlearn: 0.6408923\ttotal: 304ms\tremaining: 21.4s\n",
      "14:\tlearn: 0.6373982\ttotal: 307ms\tremaining: 20.2s\n",
      "15:\tlearn: 0.6340551\ttotal: 311ms\tremaining: 19.1s\n",
      "16:\tlearn: 0.6302115\ttotal: 315ms\tremaining: 18.2s\n",
      "17:\tlearn: 0.6261477\ttotal: 319ms\tremaining: 17.4s\n",
      "18:\tlearn: 0.6221295\ttotal: 323ms\tremaining: 16.7s\n",
      "19:\tlearn: 0.6185545\ttotal: 326ms\tremaining: 15.9s\n",
      "20:\tlearn: 0.6144520\ttotal: 329ms\tremaining: 15.3s\n",
      "21:\tlearn: 0.6103933\ttotal: 333ms\tremaining: 14.8s\n",
      "22:\tlearn: 0.6067466\ttotal: 337ms\tremaining: 14.3s\n",
      "23:\tlearn: 0.6038692\ttotal: 341ms\tremaining: 13.8s\n",
      "24:\tlearn: 0.6007791\ttotal: 344ms\tremaining: 13.4s\n",
      "25:\tlearn: 0.5971996\ttotal: 348ms\tremaining: 13s\n",
      "26:\tlearn: 0.5931755\ttotal: 352ms\tremaining: 12.7s\n",
      "27:\tlearn: 0.5897083\ttotal: 355ms\tremaining: 12.3s\n",
      "28:\tlearn: 0.5873751\ttotal: 359ms\tremaining: 12s\n",
      "29:\tlearn: 0.5838538\ttotal: 362ms\tremaining: 11.7s\n",
      "30:\tlearn: 0.5803421\ttotal: 365ms\tremaining: 11.4s\n",
      "31:\tlearn: 0.5767324\ttotal: 370ms\tremaining: 11.2s\n",
      "32:\tlearn: 0.5727515\ttotal: 374ms\tremaining: 11s\n",
      "33:\tlearn: 0.5701253\ttotal: 378ms\tremaining: 10.7s\n",
      "34:\tlearn: 0.5675159\ttotal: 381ms\tremaining: 10.5s\n",
      "35:\tlearn: 0.5639530\ttotal: 385ms\tremaining: 10.3s\n",
      "36:\tlearn: 0.5606631\ttotal: 389ms\tremaining: 10.1s\n",
      "37:\tlearn: 0.5583714\ttotal: 393ms\tremaining: 9.94s\n",
      "38:\tlearn: 0.5555478\ttotal: 396ms\tremaining: 9.76s\n",
      "39:\tlearn: 0.5525784\ttotal: 400ms\tremaining: 9.6s\n",
      "40:\tlearn: 0.5496252\ttotal: 404ms\tremaining: 9.45s\n",
      "41:\tlearn: 0.5481347\ttotal: 407ms\tremaining: 9.27s\n",
      "42:\tlearn: 0.5450928\ttotal: 411ms\tremaining: 9.14s\n",
      "43:\tlearn: 0.5419300\ttotal: 414ms\tremaining: 9s\n",
      "44:\tlearn: 0.5395234\ttotal: 418ms\tremaining: 8.86s\n",
      "45:\tlearn: 0.5362580\ttotal: 421ms\tremaining: 8.73s\n",
      "46:\tlearn: 0.5328522\ttotal: 425ms\tremaining: 8.62s\n",
      "47:\tlearn: 0.5299657\ttotal: 429ms\tremaining: 8.5s\n",
      "48:\tlearn: 0.5271791\ttotal: 432ms\tremaining: 8.39s\n",
      "49:\tlearn: 0.5242294\ttotal: 436ms\tremaining: 8.28s\n",
      "50:\tlearn: 0.5218215\ttotal: 440ms\tremaining: 8.18s\n",
      "51:\tlearn: 0.5190674\ttotal: 443ms\tremaining: 8.08s\n",
      "52:\tlearn: 0.5164422\ttotal: 447ms\tremaining: 7.98s\n",
      "53:\tlearn: 0.5141062\ttotal: 450ms\tremaining: 7.88s\n",
      "54:\tlearn: 0.5117230\ttotal: 454ms\tremaining: 7.8s\n",
      "55:\tlearn: 0.5094912\ttotal: 457ms\tremaining: 7.71s\n",
      "56:\tlearn: 0.5079803\ttotal: 459ms\tremaining: 7.59s\n",
      "57:\tlearn: 0.5056247\ttotal: 462ms\tremaining: 7.51s\n",
      "58:\tlearn: 0.5034384\ttotal: 466ms\tremaining: 7.43s\n",
      "59:\tlearn: 0.5012510\ttotal: 470ms\tremaining: 7.36s\n",
      "60:\tlearn: 0.4984309\ttotal: 474ms\tremaining: 7.29s\n",
      "61:\tlearn: 0.4955346\ttotal: 477ms\tremaining: 7.22s\n",
      "62:\tlearn: 0.4930701\ttotal: 481ms\tremaining: 7.15s\n",
      "63:\tlearn: 0.4908856\ttotal: 484ms\tremaining: 7.08s\n",
      "64:\tlearn: 0.4887024\ttotal: 488ms\tremaining: 7.02s\n",
      "65:\tlearn: 0.4867662\ttotal: 492ms\tremaining: 6.96s\n",
      "66:\tlearn: 0.4846121\ttotal: 495ms\tremaining: 6.9s\n",
      "67:\tlearn: 0.4821562\ttotal: 499ms\tremaining: 6.84s\n",
      "68:\tlearn: 0.4800911\ttotal: 503ms\tremaining: 6.79s\n",
      "69:\tlearn: 0.4794304\ttotal: 505ms\tremaining: 6.71s\n",
      "70:\tlearn: 0.4772768\ttotal: 508ms\tremaining: 6.65s\n",
      "71:\tlearn: 0.4752029\ttotal: 512ms\tremaining: 6.6s\n",
      "72:\tlearn: 0.4727878\ttotal: 516ms\tremaining: 6.55s\n",
      "73:\tlearn: 0.4704195\ttotal: 519ms\tremaining: 6.5s\n",
      "74:\tlearn: 0.4684796\ttotal: 523ms\tremaining: 6.45s\n",
      "75:\tlearn: 0.4661539\ttotal: 526ms\tremaining: 6.4s\n",
      "76:\tlearn: 0.4639694\ttotal: 530ms\tremaining: 6.35s\n",
      "77:\tlearn: 0.4617912\ttotal: 534ms\tremaining: 6.32s\n",
      "78:\tlearn: 0.4601325\ttotal: 538ms\tremaining: 6.27s\n",
      "79:\tlearn: 0.4582834\ttotal: 542ms\tremaining: 6.23s\n",
      "80:\tlearn: 0.4560412\ttotal: 546ms\tremaining: 6.19s\n",
      "81:\tlearn: 0.4536525\ttotal: 550ms\tremaining: 6.15s\n",
      "82:\tlearn: 0.4514461\ttotal: 553ms\tremaining: 6.11s\n",
      "83:\tlearn: 0.4494227\ttotal: 557ms\tremaining: 6.08s\n",
      "84:\tlearn: 0.4477361\ttotal: 561ms\tremaining: 6.04s\n",
      "85:\tlearn: 0.4464757\ttotal: 565ms\tremaining: 6s\n",
      "86:\tlearn: 0.4450529\ttotal: 568ms\tremaining: 5.96s\n",
      "87:\tlearn: 0.4430172\ttotal: 572ms\tremaining: 5.93s\n",
      "88:\tlearn: 0.4407874\ttotal: 576ms\tremaining: 5.89s\n",
      "89:\tlearn: 0.4388160\ttotal: 579ms\tremaining: 5.86s\n",
      "90:\tlearn: 0.4370689\ttotal: 583ms\tremaining: 5.82s\n",
      "91:\tlearn: 0.4355426\ttotal: 587ms\tremaining: 5.79s\n",
      "92:\tlearn: 0.4337188\ttotal: 590ms\tremaining: 5.76s\n",
      "93:\tlearn: 0.4324070\ttotal: 594ms\tremaining: 5.72s\n",
      "94:\tlearn: 0.4308053\ttotal: 598ms\tremaining: 5.69s\n",
      "95:\tlearn: 0.4286757\ttotal: 602ms\tremaining: 5.67s\n",
      "96:\tlearn: 0.4276502\ttotal: 606ms\tremaining: 5.64s\n",
      "97:\tlearn: 0.4259707\ttotal: 610ms\tremaining: 5.61s\n",
      "98:\tlearn: 0.4239773\ttotal: 614ms\tremaining: 5.59s\n",
      "99:\tlearn: 0.4222246\ttotal: 620ms\tremaining: 5.58s\n",
      "100:\tlearn: 0.4206558\ttotal: 623ms\tremaining: 5.55s\n",
      "101:\tlearn: 0.4189244\ttotal: 627ms\tremaining: 5.52s\n",
      "102:\tlearn: 0.4170764\ttotal: 631ms\tremaining: 5.49s\n",
      "103:\tlearn: 0.4157461\ttotal: 635ms\tremaining: 5.47s\n",
      "104:\tlearn: 0.4146340\ttotal: 638ms\tremaining: 5.44s\n",
      "105:\tlearn: 0.4127222\ttotal: 642ms\tremaining: 5.41s\n",
      "106:\tlearn: 0.4112468\ttotal: 645ms\tremaining: 5.38s\n",
      "107:\tlearn: 0.4095044\ttotal: 649ms\tremaining: 5.36s\n",
      "108:\tlearn: 0.4078908\ttotal: 653ms\tremaining: 5.34s\n",
      "109:\tlearn: 0.4064060\ttotal: 657ms\tremaining: 5.31s\n",
      "110:\tlearn: 0.4043507\ttotal: 661ms\tremaining: 5.29s\n",
      "111:\tlearn: 0.4030567\ttotal: 664ms\tremaining: 5.27s\n",
      "112:\tlearn: 0.4015480\ttotal: 667ms\tremaining: 5.23s\n",
      "113:\tlearn: 0.3998219\ttotal: 671ms\tremaining: 5.21s\n",
      "114:\tlearn: 0.3986393\ttotal: 675ms\tremaining: 5.19s\n",
      "115:\tlearn: 0.3969119\ttotal: 678ms\tremaining: 5.17s\n",
      "116:\tlearn: 0.3951809\ttotal: 682ms\tremaining: 5.15s\n",
      "117:\tlearn: 0.3935316\ttotal: 686ms\tremaining: 5.13s\n",
      "118:\tlearn: 0.3918046\ttotal: 690ms\tremaining: 5.11s\n",
      "119:\tlearn: 0.3901389\ttotal: 694ms\tremaining: 5.09s\n",
      "120:\tlearn: 0.3883396\ttotal: 698ms\tremaining: 5.07s\n",
      "121:\tlearn: 0.3868497\ttotal: 702ms\tremaining: 5.05s\n",
      "122:\tlearn: 0.3854365\ttotal: 705ms\tremaining: 5.03s\n",
      "123:\tlearn: 0.3841873\ttotal: 709ms\tremaining: 5.01s\n",
      "124:\tlearn: 0.3826289\ttotal: 713ms\tremaining: 4.99s\n",
      "125:\tlearn: 0.3814599\ttotal: 717ms\tremaining: 4.97s\n",
      "126:\tlearn: 0.3797726\ttotal: 722ms\tremaining: 4.96s\n",
      "127:\tlearn: 0.3779720\ttotal: 726ms\tremaining: 4.94s\n",
      "128:\tlearn: 0.3764900\ttotal: 730ms\tremaining: 4.93s\n",
      "129:\tlearn: 0.3753961\ttotal: 733ms\tremaining: 4.91s\n",
      "130:\tlearn: 0.3736736\ttotal: 737ms\tremaining: 4.89s\n",
      "131:\tlearn: 0.3728310\ttotal: 741ms\tremaining: 4.87s\n",
      "132:\tlearn: 0.3714460\ttotal: 745ms\tremaining: 4.86s\n",
      "133:\tlearn: 0.3704221\ttotal: 748ms\tremaining: 4.84s\n",
      "134:\tlearn: 0.3691868\ttotal: 752ms\tremaining: 4.82s\n",
      "135:\tlearn: 0.3678188\ttotal: 757ms\tremaining: 4.81s\n",
      "136:\tlearn: 0.3666501\ttotal: 761ms\tremaining: 4.79s\n",
      "137:\tlearn: 0.3659027\ttotal: 765ms\tremaining: 4.78s\n",
      "138:\tlearn: 0.3644760\ttotal: 768ms\tremaining: 4.76s\n",
      "139:\tlearn: 0.3633342\ttotal: 772ms\tremaining: 4.74s\n",
      "140:\tlearn: 0.3622327\ttotal: 776ms\tremaining: 4.72s\n",
      "141:\tlearn: 0.3615725\ttotal: 779ms\tremaining: 4.71s\n",
      "142:\tlearn: 0.3602830\ttotal: 783ms\tremaining: 4.69s\n",
      "143:\tlearn: 0.3592181\ttotal: 787ms\tremaining: 4.68s\n",
      "144:\tlearn: 0.3582753\ttotal: 791ms\tremaining: 4.66s\n",
      "145:\tlearn: 0.3568598\ttotal: 795ms\tremaining: 4.65s\n",
      "146:\tlearn: 0.3557008\ttotal: 798ms\tremaining: 4.63s\n",
      "147:\tlearn: 0.3542944\ttotal: 802ms\tremaining: 4.62s\n",
      "148:\tlearn: 0.3535058\ttotal: 806ms\tremaining: 4.6s\n",
      "149:\tlearn: 0.3532371\ttotal: 808ms\tremaining: 4.58s\n",
      "150:\tlearn: 0.3520108\ttotal: 812ms\tremaining: 4.57s\n",
      "151:\tlearn: 0.3512040\ttotal: 816ms\tremaining: 4.55s\n",
      "152:\tlearn: 0.3500424\ttotal: 819ms\tremaining: 4.54s\n",
      "153:\tlearn: 0.3489697\ttotal: 823ms\tremaining: 4.52s\n",
      "154:\tlearn: 0.3482364\ttotal: 826ms\tremaining: 4.5s\n",
      "155:\tlearn: 0.3476054\ttotal: 830ms\tremaining: 4.49s\n",
      "156:\tlearn: 0.3467877\ttotal: 833ms\tremaining: 4.47s\n",
      "157:\tlearn: 0.3455678\ttotal: 838ms\tremaining: 4.46s\n",
      "158:\tlearn: 0.3443911\ttotal: 842ms\tremaining: 4.45s\n",
      "159:\tlearn: 0.3433566\ttotal: 845ms\tremaining: 4.44s\n",
      "160:\tlearn: 0.3427960\ttotal: 849ms\tremaining: 4.43s\n",
      "161:\tlearn: 0.3415771\ttotal: 853ms\tremaining: 4.41s\n",
      "162:\tlearn: 0.3406037\ttotal: 856ms\tremaining: 4.39s\n",
      "163:\tlearn: 0.3396077\ttotal: 859ms\tremaining: 4.38s\n",
      "164:\tlearn: 0.3386996\ttotal: 862ms\tremaining: 4.36s\n",
      "165:\tlearn: 0.3376213\ttotal: 866ms\tremaining: 4.35s\n",
      "166:\tlearn: 0.3363873\ttotal: 870ms\tremaining: 4.34s\n",
      "167:\tlearn: 0.3357570\ttotal: 873ms\tremaining: 4.33s\n",
      "168:\tlearn: 0.3345741\ttotal: 877ms\tremaining: 4.31s\n",
      "169:\tlearn: 0.3335956\ttotal: 881ms\tremaining: 4.3s\n",
      "170:\tlearn: 0.3325526\ttotal: 885ms\tremaining: 4.29s\n",
      "171:\tlearn: 0.3316785\ttotal: 888ms\tremaining: 4.28s\n",
      "172:\tlearn: 0.3307373\ttotal: 892ms\tremaining: 4.26s\n",
      "173:\tlearn: 0.3297146\ttotal: 896ms\tremaining: 4.25s\n",
      "174:\tlearn: 0.3292692\ttotal: 898ms\tremaining: 4.23s\n",
      "175:\tlearn: 0.3280684\ttotal: 902ms\tremaining: 4.22s\n",
      "176:\tlearn: 0.3274545\ttotal: 906ms\tremaining: 4.21s\n",
      "177:\tlearn: 0.3264068\ttotal: 910ms\tremaining: 4.2s\n",
      "178:\tlearn: 0.3257640\ttotal: 913ms\tremaining: 4.19s\n",
      "179:\tlearn: 0.3250524\ttotal: 917ms\tremaining: 4.18s\n",
      "180:\tlearn: 0.3238563\ttotal: 920ms\tremaining: 4.16s\n",
      "181:\tlearn: 0.3234840\ttotal: 922ms\tremaining: 4.14s\n",
      "182:\tlearn: 0.3225650\ttotal: 926ms\tremaining: 4.13s\n",
      "183:\tlearn: 0.3218064\ttotal: 929ms\tremaining: 4.12s\n",
      "184:\tlearn: 0.3210178\ttotal: 933ms\tremaining: 4.11s\n",
      "185:\tlearn: 0.3203023\ttotal: 937ms\tremaining: 4.1s\n",
      "186:\tlearn: 0.3193962\ttotal: 940ms\tremaining: 4.09s\n",
      "187:\tlearn: 0.3182110\ttotal: 944ms\tremaining: 4.08s\n",
      "188:\tlearn: 0.3175097\ttotal: 947ms\tremaining: 4.06s\n",
      "189:\tlearn: 0.3165740\ttotal: 951ms\tremaining: 4.05s\n",
      "190:\tlearn: 0.3157328\ttotal: 955ms\tremaining: 4.04s\n",
      "191:\tlearn: 0.3150214\ttotal: 957ms\tremaining: 4.03s\n",
      "192:\tlearn: 0.3137441\ttotal: 961ms\tremaining: 4.02s\n",
      "193:\tlearn: 0.3131737\ttotal: 965ms\tremaining: 4.01s\n",
      "194:\tlearn: 0.3123309\ttotal: 968ms\tremaining: 4s\n",
      "195:\tlearn: 0.3114376\ttotal: 972ms\tremaining: 3.99s\n",
      "196:\tlearn: 0.3102340\ttotal: 975ms\tremaining: 3.98s\n",
      "197:\tlearn: 0.3096375\ttotal: 979ms\tremaining: 3.96s\n",
      "198:\tlearn: 0.3090406\ttotal: 983ms\tremaining: 3.95s\n",
      "199:\tlearn: 0.3082855\ttotal: 986ms\tremaining: 3.94s\n",
      "200:\tlearn: 0.3075034\ttotal: 990ms\tremaining: 3.93s\n",
      "201:\tlearn: 0.3064952\ttotal: 993ms\tremaining: 3.92s\n",
      "202:\tlearn: 0.3057594\ttotal: 997ms\tremaining: 3.91s\n",
      "203:\tlearn: 0.3048896\ttotal: 1s\tremaining: 3.9s\n",
      "204:\tlearn: 0.3041137\ttotal: 1s\tremaining: 3.9s\n"
     ]
    },
    {
     "name": "stdout",
     "output_type": "stream",
     "text": [
      "205:\tlearn: 0.3036387\ttotal: 1.01s\tremaining: 3.89s\n",
      "206:\tlearn: 0.3028236\ttotal: 1.01s\tremaining: 3.88s\n",
      "207:\tlearn: 0.3019194\ttotal: 1.02s\tremaining: 3.87s\n",
      "208:\tlearn: 0.3013045\ttotal: 1.02s\tremaining: 3.86s\n",
      "209:\tlearn: 0.3008519\ttotal: 1.02s\tremaining: 3.85s\n",
      "210:\tlearn: 0.3000782\ttotal: 1.03s\tremaining: 3.84s\n",
      "211:\tlearn: 0.2991188\ttotal: 1.03s\tremaining: 3.83s\n",
      "212:\tlearn: 0.2984237\ttotal: 1.03s\tremaining: 3.82s\n",
      "213:\tlearn: 0.2972665\ttotal: 1.04s\tremaining: 3.82s\n",
      "214:\tlearn: 0.2967773\ttotal: 1.04s\tremaining: 3.81s\n",
      "215:\tlearn: 0.2961270\ttotal: 1.05s\tremaining: 3.8s\n",
      "216:\tlearn: 0.2955316\ttotal: 1.05s\tremaining: 3.79s\n",
      "217:\tlearn: 0.2948834\ttotal: 1.05s\tremaining: 3.78s\n",
      "218:\tlearn: 0.2940795\ttotal: 1.06s\tremaining: 3.77s\n",
      "219:\tlearn: 0.2935795\ttotal: 1.06s\tremaining: 3.76s\n",
      "220:\tlearn: 0.2930593\ttotal: 1.06s\tremaining: 3.75s\n",
      "221:\tlearn: 0.2922623\ttotal: 1.07s\tremaining: 3.75s\n",
      "222:\tlearn: 0.2915452\ttotal: 1.07s\tremaining: 3.75s\n",
      "223:\tlearn: 0.2908679\ttotal: 1.08s\tremaining: 3.74s\n",
      "224:\tlearn: 0.2903941\ttotal: 1.08s\tremaining: 3.73s\n",
      "225:\tlearn: 0.2897520\ttotal: 1.09s\tremaining: 3.72s\n",
      "226:\tlearn: 0.2890947\ttotal: 1.09s\tremaining: 3.71s\n",
      "227:\tlearn: 0.2882984\ttotal: 1.09s\tremaining: 3.7s\n",
      "228:\tlearn: 0.2875201\ttotal: 1.1s\tremaining: 3.69s\n",
      "229:\tlearn: 0.2867450\ttotal: 1.1s\tremaining: 3.68s\n",
      "230:\tlearn: 0.2859139\ttotal: 1.1s\tremaining: 3.67s\n",
      "231:\tlearn: 0.2855002\ttotal: 1.1s\tremaining: 3.66s\n",
      "232:\tlearn: 0.2850149\ttotal: 1.11s\tremaining: 3.65s\n",
      "233:\tlearn: 0.2844836\ttotal: 1.11s\tremaining: 3.64s\n",
      "234:\tlearn: 0.2839234\ttotal: 1.12s\tremaining: 3.63s\n",
      "235:\tlearn: 0.2831962\ttotal: 1.12s\tremaining: 3.63s\n",
      "236:\tlearn: 0.2826634\ttotal: 1.12s\tremaining: 3.62s\n",
      "237:\tlearn: 0.2820967\ttotal: 1.13s\tremaining: 3.61s\n",
      "238:\tlearn: 0.2814058\ttotal: 1.13s\tremaining: 3.6s\n",
      "239:\tlearn: 0.2806309\ttotal: 1.14s\tremaining: 3.6s\n",
      "240:\tlearn: 0.2797247\ttotal: 1.14s\tremaining: 3.59s\n",
      "241:\tlearn: 0.2791351\ttotal: 1.14s\tremaining: 3.58s\n",
      "242:\tlearn: 0.2785941\ttotal: 1.15s\tremaining: 3.57s\n",
      "243:\tlearn: 0.2781913\ttotal: 1.15s\tremaining: 3.56s\n",
      "244:\tlearn: 0.2773255\ttotal: 1.15s\tremaining: 3.56s\n",
      "245:\tlearn: 0.2768299\ttotal: 1.16s\tremaining: 3.55s\n",
      "246:\tlearn: 0.2762838\ttotal: 1.16s\tremaining: 3.54s\n",
      "247:\tlearn: 0.2755783\ttotal: 1.17s\tremaining: 3.54s\n",
      "248:\tlearn: 0.2750499\ttotal: 1.17s\tremaining: 3.53s\n",
      "249:\tlearn: 0.2743774\ttotal: 1.17s\tremaining: 3.52s\n",
      "250:\tlearn: 0.2737668\ttotal: 1.18s\tremaining: 3.51s\n",
      "251:\tlearn: 0.2733460\ttotal: 1.18s\tremaining: 3.51s\n",
      "252:\tlearn: 0.2728470\ttotal: 1.19s\tremaining: 3.5s\n",
      "253:\tlearn: 0.2724047\ttotal: 1.19s\tremaining: 3.49s\n",
      "254:\tlearn: 0.2719084\ttotal: 1.19s\tremaining: 3.48s\n",
      "255:\tlearn: 0.2714855\ttotal: 1.2s\tremaining: 3.48s\n",
      "256:\tlearn: 0.2708970\ttotal: 1.2s\tremaining: 3.47s\n",
      "257:\tlearn: 0.2702085\ttotal: 1.2s\tremaining: 3.46s\n",
      "258:\tlearn: 0.2692595\ttotal: 1.21s\tremaining: 3.45s\n",
      "259:\tlearn: 0.2686228\ttotal: 1.21s\tremaining: 3.44s\n",
      "260:\tlearn: 0.2680522\ttotal: 1.21s\tremaining: 3.44s\n",
      "261:\tlearn: 0.2674125\ttotal: 1.22s\tremaining: 3.43s\n",
      "262:\tlearn: 0.2669597\ttotal: 1.22s\tremaining: 3.42s\n",
      "263:\tlearn: 0.2663919\ttotal: 1.23s\tremaining: 3.42s\n",
      "264:\tlearn: 0.2659737\ttotal: 1.23s\tremaining: 3.41s\n",
      "265:\tlearn: 0.2654303\ttotal: 1.23s\tremaining: 3.4s\n",
      "266:\tlearn: 0.2647954\ttotal: 1.24s\tremaining: 3.39s\n",
      "267:\tlearn: 0.2644299\ttotal: 1.24s\tremaining: 3.38s\n",
      "268:\tlearn: 0.2636975\ttotal: 1.24s\tremaining: 3.38s\n",
      "269:\tlearn: 0.2631191\ttotal: 1.25s\tremaining: 3.37s\n",
      "270:\tlearn: 0.2625181\ttotal: 1.25s\tremaining: 3.36s\n",
      "271:\tlearn: 0.2621617\ttotal: 1.25s\tremaining: 3.35s\n",
      "272:\tlearn: 0.2616368\ttotal: 1.26s\tremaining: 3.35s\n",
      "273:\tlearn: 0.2612604\ttotal: 1.26s\tremaining: 3.34s\n",
      "274:\tlearn: 0.2609084\ttotal: 1.26s\tremaining: 3.33s\n",
      "275:\tlearn: 0.2604849\ttotal: 1.27s\tremaining: 3.33s\n",
      "276:\tlearn: 0.2601630\ttotal: 1.27s\tremaining: 3.32s\n",
      "277:\tlearn: 0.2599307\ttotal: 1.27s\tremaining: 3.31s\n",
      "278:\tlearn: 0.2598510\ttotal: 1.28s\tremaining: 3.3s\n",
      "279:\tlearn: 0.2593931\ttotal: 1.28s\tremaining: 3.29s\n",
      "280:\tlearn: 0.2588605\ttotal: 1.28s\tremaining: 3.29s\n",
      "281:\tlearn: 0.2582968\ttotal: 1.29s\tremaining: 3.28s\n",
      "282:\tlearn: 0.2576311\ttotal: 1.29s\tremaining: 3.27s\n",
      "283:\tlearn: 0.2571731\ttotal: 1.29s\tremaining: 3.26s\n",
      "284:\tlearn: 0.2565607\ttotal: 1.3s\tremaining: 3.26s\n",
      "285:\tlearn: 0.2560241\ttotal: 1.3s\tremaining: 3.25s\n",
      "286:\tlearn: 0.2553146\ttotal: 1.31s\tremaining: 3.24s\n",
      "287:\tlearn: 0.2546773\ttotal: 1.31s\tremaining: 3.24s\n",
      "288:\tlearn: 0.2541348\ttotal: 1.31s\tremaining: 3.23s\n",
      "289:\tlearn: 0.2535599\ttotal: 1.32s\tremaining: 3.22s\n",
      "290:\tlearn: 0.2531494\ttotal: 1.32s\tremaining: 3.22s\n",
      "291:\tlearn: 0.2526598\ttotal: 1.32s\tremaining: 3.21s\n",
      "292:\tlearn: 0.2522605\ttotal: 1.33s\tremaining: 3.2s\n",
      "293:\tlearn: 0.2518048\ttotal: 1.33s\tremaining: 3.2s\n",
      "294:\tlearn: 0.2514351\ttotal: 1.33s\tremaining: 3.19s\n",
      "295:\tlearn: 0.2509427\ttotal: 1.34s\tremaining: 3.18s\n",
      "296:\tlearn: 0.2504633\ttotal: 1.34s\tremaining: 3.18s\n",
      "297:\tlearn: 0.2499554\ttotal: 1.35s\tremaining: 3.17s\n",
      "298:\tlearn: 0.2494481\ttotal: 1.35s\tremaining: 3.17s\n",
      "299:\tlearn: 0.2488247\ttotal: 1.35s\tremaining: 3.16s\n",
      "300:\tlearn: 0.2482396\ttotal: 1.36s\tremaining: 3.15s\n",
      "301:\tlearn: 0.2478828\ttotal: 1.36s\tremaining: 3.15s\n",
      "302:\tlearn: 0.2472999\ttotal: 1.36s\tremaining: 3.14s\n",
      "303:\tlearn: 0.2465989\ttotal: 1.37s\tremaining: 3.13s\n",
      "304:\tlearn: 0.2462985\ttotal: 1.37s\tremaining: 3.13s\n",
      "305:\tlearn: 0.2457161\ttotal: 1.38s\tremaining: 3.12s\n",
      "306:\tlearn: 0.2451715\ttotal: 1.38s\tremaining: 3.11s\n",
      "307:\tlearn: 0.2448119\ttotal: 1.38s\tremaining: 3.11s\n",
      "308:\tlearn: 0.2440899\ttotal: 1.39s\tremaining: 3.1s\n",
      "309:\tlearn: 0.2435307\ttotal: 1.39s\tremaining: 3.1s\n",
      "310:\tlearn: 0.2429870\ttotal: 1.39s\tremaining: 3.09s\n",
      "311:\tlearn: 0.2425164\ttotal: 1.4s\tremaining: 3.08s\n",
      "312:\tlearn: 0.2418934\ttotal: 1.4s\tremaining: 3.08s\n",
      "313:\tlearn: 0.2413385\ttotal: 1.41s\tremaining: 3.07s\n",
      "314:\tlearn: 0.2406378\ttotal: 1.41s\tremaining: 3.06s\n",
      "315:\tlearn: 0.2401580\ttotal: 1.41s\tremaining: 3.06s\n",
      "316:\tlearn: 0.2397456\ttotal: 1.42s\tremaining: 3.05s\n",
      "317:\tlearn: 0.2392239\ttotal: 1.42s\tremaining: 3.05s\n",
      "318:\tlearn: 0.2386407\ttotal: 1.42s\tremaining: 3.04s\n",
      "319:\tlearn: 0.2383073\ttotal: 1.43s\tremaining: 3.04s\n",
      "320:\tlearn: 0.2380089\ttotal: 1.43s\tremaining: 3.03s\n",
      "321:\tlearn: 0.2374781\ttotal: 1.43s\tremaining: 3.02s\n",
      "322:\tlearn: 0.2372024\ttotal: 1.44s\tremaining: 3.01s\n",
      "323:\tlearn: 0.2368817\ttotal: 1.44s\tremaining: 3.01s\n",
      "324:\tlearn: 0.2362116\ttotal: 1.45s\tremaining: 3s\n",
      "325:\tlearn: 0.2357047\ttotal: 1.45s\tremaining: 3s\n",
      "326:\tlearn: 0.2353578\ttotal: 1.45s\tremaining: 2.99s\n",
      "327:\tlearn: 0.2349408\ttotal: 1.46s\tremaining: 2.98s\n",
      "328:\tlearn: 0.2345316\ttotal: 1.46s\tremaining: 2.98s\n",
      "329:\tlearn: 0.2339290\ttotal: 1.46s\tremaining: 2.97s\n",
      "330:\tlearn: 0.2336724\ttotal: 1.47s\tremaining: 2.97s\n",
      "331:\tlearn: 0.2331927\ttotal: 1.47s\tremaining: 2.96s\n",
      "332:\tlearn: 0.2328216\ttotal: 1.48s\tremaining: 2.96s\n",
      "333:\tlearn: 0.2321931\ttotal: 1.48s\tremaining: 2.95s\n",
      "334:\tlearn: 0.2317177\ttotal: 1.48s\tremaining: 2.94s\n",
      "335:\tlearn: 0.2312372\ttotal: 1.49s\tremaining: 2.94s\n",
      "336:\tlearn: 0.2310859\ttotal: 1.49s\tremaining: 2.93s\n",
      "337:\tlearn: 0.2307545\ttotal: 1.49s\tremaining: 2.92s\n",
      "338:\tlearn: 0.2302022\ttotal: 1.5s\tremaining: 2.92s\n",
      "339:\tlearn: 0.2297927\ttotal: 1.5s\tremaining: 2.91s\n",
      "340:\tlearn: 0.2293527\ttotal: 1.5s\tremaining: 2.91s\n",
      "341:\tlearn: 0.2289866\ttotal: 1.51s\tremaining: 2.9s\n",
      "342:\tlearn: 0.2287039\ttotal: 1.51s\tremaining: 2.89s\n",
      "343:\tlearn: 0.2282842\ttotal: 1.51s\tremaining: 2.89s\n",
      "344:\tlearn: 0.2278187\ttotal: 1.52s\tremaining: 2.88s\n",
      "345:\tlearn: 0.2274739\ttotal: 1.52s\tremaining: 2.88s\n",
      "346:\tlearn: 0.2269417\ttotal: 1.52s\tremaining: 2.87s\n",
      "347:\tlearn: 0.2264428\ttotal: 1.53s\tremaining: 2.86s\n",
      "348:\tlearn: 0.2260087\ttotal: 1.53s\tremaining: 2.86s\n",
      "349:\tlearn: 0.2255891\ttotal: 1.53s\tremaining: 2.85s\n",
      "350:\tlearn: 0.2251064\ttotal: 1.54s\tremaining: 2.85s\n",
      "351:\tlearn: 0.2247393\ttotal: 1.54s\tremaining: 2.84s\n",
      "352:\tlearn: 0.2243620\ttotal: 1.55s\tremaining: 2.83s\n",
      "353:\tlearn: 0.2242285\ttotal: 1.55s\tremaining: 2.83s\n",
      "354:\tlearn: 0.2237613\ttotal: 1.55s\tremaining: 2.82s\n",
      "355:\tlearn: 0.2231708\ttotal: 1.56s\tremaining: 2.82s\n",
      "356:\tlearn: 0.2228558\ttotal: 1.56s\tremaining: 2.81s\n",
      "357:\tlearn: 0.2224422\ttotal: 1.56s\tremaining: 2.8s\n",
      "358:\tlearn: 0.2221726\ttotal: 1.57s\tremaining: 2.8s\n",
      "359:\tlearn: 0.2219382\ttotal: 1.57s\tremaining: 2.79s\n",
      "360:\tlearn: 0.2214384\ttotal: 1.57s\tremaining: 2.79s\n",
      "361:\tlearn: 0.2211018\ttotal: 1.58s\tremaining: 2.78s\n",
      "362:\tlearn: 0.2207624\ttotal: 1.58s\tremaining: 2.78s\n",
      "363:\tlearn: 0.2204107\ttotal: 1.58s\tremaining: 2.77s\n",
      "364:\tlearn: 0.2199757\ttotal: 1.59s\tremaining: 2.77s\n",
      "365:\tlearn: 0.2196053\ttotal: 1.59s\tremaining: 2.76s\n",
      "366:\tlearn: 0.2191787\ttotal: 1.6s\tremaining: 2.75s\n",
      "367:\tlearn: 0.2187525\ttotal: 1.6s\tremaining: 2.75s\n",
      "368:\tlearn: 0.2184761\ttotal: 1.6s\tremaining: 2.74s\n",
      "369:\tlearn: 0.2180935\ttotal: 1.61s\tremaining: 2.74s\n",
      "370:\tlearn: 0.2177305\ttotal: 1.61s\tremaining: 2.73s\n",
      "371:\tlearn: 0.2172694\ttotal: 1.61s\tremaining: 2.73s\n",
      "372:\tlearn: 0.2169182\ttotal: 1.62s\tremaining: 2.72s\n",
      "373:\tlearn: 0.2164690\ttotal: 1.62s\tremaining: 2.72s\n",
      "374:\tlearn: 0.2160476\ttotal: 1.63s\tremaining: 2.71s\n",
      "375:\tlearn: 0.2155564\ttotal: 1.63s\tremaining: 2.71s\n",
      "376:\tlearn: 0.2153376\ttotal: 1.64s\tremaining: 2.7s\n",
      "377:\tlearn: 0.2150687\ttotal: 1.64s\tremaining: 2.7s\n",
      "378:\tlearn: 0.2148401\ttotal: 1.64s\tremaining: 2.69s\n"
     ]
    },
    {
     "name": "stdout",
     "output_type": "stream",
     "text": [
      "379:\tlearn: 0.2144472\ttotal: 1.65s\tremaining: 2.69s\n",
      "380:\tlearn: 0.2139840\ttotal: 1.65s\tremaining: 2.69s\n",
      "381:\tlearn: 0.2136975\ttotal: 1.66s\tremaining: 2.68s\n",
      "382:\tlearn: 0.2132495\ttotal: 1.66s\tremaining: 2.67s\n",
      "383:\tlearn: 0.2126896\ttotal: 1.66s\tremaining: 2.67s\n",
      "384:\tlearn: 0.2123739\ttotal: 1.67s\tremaining: 2.66s\n",
      "385:\tlearn: 0.2120960\ttotal: 1.67s\tremaining: 2.66s\n",
      "386:\tlearn: 0.2118509\ttotal: 1.68s\tremaining: 2.65s\n",
      "387:\tlearn: 0.2114637\ttotal: 1.68s\tremaining: 2.65s\n",
      "388:\tlearn: 0.2111511\ttotal: 1.68s\tremaining: 2.64s\n",
      "389:\tlearn: 0.2108590\ttotal: 1.69s\tremaining: 2.64s\n",
      "390:\tlearn: 0.2104972\ttotal: 1.69s\tremaining: 2.63s\n",
      "391:\tlearn: 0.2100820\ttotal: 1.69s\tremaining: 2.63s\n",
      "392:\tlearn: 0.2095434\ttotal: 1.7s\tremaining: 2.62s\n",
      "393:\tlearn: 0.2091387\ttotal: 1.7s\tremaining: 2.62s\n",
      "394:\tlearn: 0.2086133\ttotal: 1.7s\tremaining: 2.61s\n",
      "395:\tlearn: 0.2083272\ttotal: 1.71s\tremaining: 2.6s\n",
      "396:\tlearn: 0.2080843\ttotal: 1.71s\tremaining: 2.6s\n",
      "397:\tlearn: 0.2076966\ttotal: 1.72s\tremaining: 2.59s\n",
      "398:\tlearn: 0.2073364\ttotal: 1.72s\tremaining: 2.59s\n",
      "399:\tlearn: 0.2069366\ttotal: 1.72s\tremaining: 2.58s\n",
      "400:\tlearn: 0.2066299\ttotal: 1.73s\tremaining: 2.58s\n",
      "401:\tlearn: 0.2062547\ttotal: 1.73s\tremaining: 2.57s\n",
      "402:\tlearn: 0.2059433\ttotal: 1.73s\tremaining: 2.57s\n",
      "403:\tlearn: 0.2056262\ttotal: 1.74s\tremaining: 2.56s\n",
      "404:\tlearn: 0.2052578\ttotal: 1.74s\tremaining: 2.56s\n",
      "405:\tlearn: 0.2047852\ttotal: 1.74s\tremaining: 2.55s\n",
      "406:\tlearn: 0.2044012\ttotal: 1.75s\tremaining: 2.55s\n",
      "407:\tlearn: 0.2039263\ttotal: 1.75s\tremaining: 2.54s\n",
      "408:\tlearn: 0.2036016\ttotal: 1.75s\tremaining: 2.54s\n",
      "409:\tlearn: 0.2032234\ttotal: 1.76s\tremaining: 2.53s\n",
      "410:\tlearn: 0.2028458\ttotal: 1.76s\tremaining: 2.52s\n",
      "411:\tlearn: 0.2028015\ttotal: 1.76s\tremaining: 2.52s\n",
      "412:\tlearn: 0.2023814\ttotal: 1.77s\tremaining: 2.51s\n",
      "413:\tlearn: 0.2020982\ttotal: 1.77s\tremaining: 2.51s\n",
      "414:\tlearn: 0.2017399\ttotal: 1.77s\tremaining: 2.5s\n",
      "415:\tlearn: 0.2014992\ttotal: 1.78s\tremaining: 2.5s\n",
      "416:\tlearn: 0.2010819\ttotal: 1.78s\tremaining: 2.49s\n",
      "417:\tlearn: 0.2009841\ttotal: 1.78s\tremaining: 2.48s\n",
      "418:\tlearn: 0.2005054\ttotal: 1.79s\tremaining: 2.48s\n",
      "419:\tlearn: 0.2002090\ttotal: 1.79s\tremaining: 2.47s\n",
      "420:\tlearn: 0.1998458\ttotal: 1.79s\tremaining: 2.47s\n",
      "421:\tlearn: 0.1993803\ttotal: 1.8s\tremaining: 2.46s\n",
      "422:\tlearn: 0.1990760\ttotal: 1.8s\tremaining: 2.46s\n",
      "423:\tlearn: 0.1986870\ttotal: 1.81s\tremaining: 2.45s\n",
      "424:\tlearn: 0.1983043\ttotal: 1.81s\tremaining: 2.45s\n",
      "425:\tlearn: 0.1979409\ttotal: 1.81s\tremaining: 2.44s\n",
      "426:\tlearn: 0.1975578\ttotal: 1.82s\tremaining: 2.44s\n",
      "427:\tlearn: 0.1973571\ttotal: 1.82s\tremaining: 2.43s\n",
      "428:\tlearn: 0.1970012\ttotal: 1.82s\tremaining: 2.43s\n",
      "429:\tlearn: 0.1967658\ttotal: 1.83s\tremaining: 2.42s\n",
      "430:\tlearn: 0.1965782\ttotal: 1.83s\tremaining: 2.42s\n",
      "431:\tlearn: 0.1965228\ttotal: 1.83s\tremaining: 2.41s\n",
      "432:\tlearn: 0.1961406\ttotal: 1.84s\tremaining: 2.4s\n",
      "433:\tlearn: 0.1958315\ttotal: 1.84s\tremaining: 2.4s\n",
      "434:\tlearn: 0.1955664\ttotal: 1.84s\tremaining: 2.4s\n",
      "435:\tlearn: 0.1952126\ttotal: 1.85s\tremaining: 2.39s\n",
      "436:\tlearn: 0.1948168\ttotal: 1.85s\tremaining: 2.38s\n",
      "437:\tlearn: 0.1944906\ttotal: 1.85s\tremaining: 2.38s\n",
      "438:\tlearn: 0.1942211\ttotal: 1.86s\tremaining: 2.38s\n",
      "439:\tlearn: 0.1939237\ttotal: 1.86s\tremaining: 2.37s\n",
      "440:\tlearn: 0.1935355\ttotal: 1.87s\tremaining: 2.37s\n",
      "441:\tlearn: 0.1932193\ttotal: 1.87s\tremaining: 2.36s\n",
      "442:\tlearn: 0.1928348\ttotal: 1.87s\tremaining: 2.35s\n",
      "443:\tlearn: 0.1926773\ttotal: 1.88s\tremaining: 2.35s\n",
      "444:\tlearn: 0.1924128\ttotal: 1.88s\tremaining: 2.35s\n",
      "445:\tlearn: 0.1921595\ttotal: 1.88s\tremaining: 2.34s\n",
      "446:\tlearn: 0.1918894\ttotal: 1.89s\tremaining: 2.33s\n",
      "447:\tlearn: 0.1915190\ttotal: 1.89s\tremaining: 2.33s\n",
      "448:\tlearn: 0.1911804\ttotal: 1.89s\tremaining: 2.32s\n",
      "449:\tlearn: 0.1910357\ttotal: 1.9s\tremaining: 2.32s\n",
      "450:\tlearn: 0.1906360\ttotal: 1.9s\tremaining: 2.31s\n",
      "451:\tlearn: 0.1904976\ttotal: 1.9s\tremaining: 2.31s\n",
      "452:\tlearn: 0.1902795\ttotal: 1.91s\tremaining: 2.3s\n",
      "453:\tlearn: 0.1900662\ttotal: 1.91s\tremaining: 2.3s\n",
      "454:\tlearn: 0.1898784\ttotal: 1.92s\tremaining: 2.29s\n",
      "455:\tlearn: 0.1894985\ttotal: 1.92s\tremaining: 2.29s\n",
      "456:\tlearn: 0.1890450\ttotal: 1.92s\tremaining: 2.28s\n",
      "457:\tlearn: 0.1888711\ttotal: 1.93s\tremaining: 2.28s\n",
      "458:\tlearn: 0.1886265\ttotal: 1.93s\tremaining: 2.27s\n",
      "459:\tlearn: 0.1882763\ttotal: 1.93s\tremaining: 2.27s\n",
      "460:\tlearn: 0.1879441\ttotal: 1.94s\tremaining: 2.26s\n",
      "461:\tlearn: 0.1878131\ttotal: 1.94s\tremaining: 2.26s\n",
      "462:\tlearn: 0.1875378\ttotal: 1.94s\tremaining: 2.25s\n",
      "463:\tlearn: 0.1873505\ttotal: 1.95s\tremaining: 2.25s\n",
      "464:\tlearn: 0.1870938\ttotal: 1.95s\tremaining: 2.24s\n",
      "465:\tlearn: 0.1868430\ttotal: 1.95s\tremaining: 2.24s\n",
      "466:\tlearn: 0.1866309\ttotal: 1.95s\tremaining: 2.23s\n",
      "467:\tlearn: 0.1865156\ttotal: 1.96s\tremaining: 2.23s\n",
      "468:\tlearn: 0.1860925\ttotal: 1.96s\tremaining: 2.22s\n",
      "469:\tlearn: 0.1858488\ttotal: 1.97s\tremaining: 2.21s\n",
      "470:\tlearn: 0.1856273\ttotal: 1.97s\tremaining: 2.21s\n",
      "471:\tlearn: 0.1853771\ttotal: 1.97s\tremaining: 2.21s\n",
      "472:\tlearn: 0.1850240\ttotal: 1.98s\tremaining: 2.2s\n",
      "473:\tlearn: 0.1847393\ttotal: 1.98s\tremaining: 2.2s\n",
      "474:\tlearn: 0.1844846\ttotal: 1.98s\tremaining: 2.19s\n",
      "475:\tlearn: 0.1842711\ttotal: 1.99s\tremaining: 2.19s\n",
      "476:\tlearn: 0.1840803\ttotal: 1.99s\tremaining: 2.18s\n",
      "477:\tlearn: 0.1837625\ttotal: 1.99s\tremaining: 2.18s\n",
      "478:\tlearn: 0.1835135\ttotal: 2s\tremaining: 2.17s\n",
      "479:\tlearn: 0.1832758\ttotal: 2s\tremaining: 2.17s\n",
      "480:\tlearn: 0.1829471\ttotal: 2s\tremaining: 2.16s\n",
      "481:\tlearn: 0.1825682\ttotal: 2.01s\tremaining: 2.16s\n",
      "482:\tlearn: 0.1821859\ttotal: 2.01s\tremaining: 2.15s\n",
      "483:\tlearn: 0.1818187\ttotal: 2.01s\tremaining: 2.15s\n",
      "484:\tlearn: 0.1816608\ttotal: 2.02s\tremaining: 2.14s\n",
      "485:\tlearn: 0.1813995\ttotal: 2.02s\tremaining: 2.14s\n",
      "486:\tlearn: 0.1812103\ttotal: 2.02s\tremaining: 2.13s\n",
      "487:\tlearn: 0.1809729\ttotal: 2.03s\tremaining: 2.13s\n",
      "488:\tlearn: 0.1806980\ttotal: 2.03s\tremaining: 2.12s\n",
      "489:\tlearn: 0.1803796\ttotal: 2.04s\tremaining: 2.12s\n",
      "490:\tlearn: 0.1801994\ttotal: 2.04s\tremaining: 2.11s\n",
      "491:\tlearn: 0.1800360\ttotal: 2.04s\tremaining: 2.11s\n",
      "492:\tlearn: 0.1796825\ttotal: 2.05s\tremaining: 2.1s\n",
      "493:\tlearn: 0.1795018\ttotal: 2.05s\tremaining: 2.1s\n",
      "494:\tlearn: 0.1792717\ttotal: 2.05s\tremaining: 2.09s\n",
      "495:\tlearn: 0.1787757\ttotal: 2.06s\tremaining: 2.09s\n",
      "496:\tlearn: 0.1784600\ttotal: 2.06s\tremaining: 2.08s\n",
      "497:\tlearn: 0.1782186\ttotal: 2.06s\tremaining: 2.08s\n",
      "498:\tlearn: 0.1780098\ttotal: 2.07s\tremaining: 2.08s\n",
      "499:\tlearn: 0.1778174\ttotal: 2.07s\tremaining: 2.07s\n",
      "500:\tlearn: 0.1775490\ttotal: 2.08s\tremaining: 2.07s\n",
      "501:\tlearn: 0.1773722\ttotal: 2.08s\tremaining: 2.06s\n",
      "502:\tlearn: 0.1771363\ttotal: 2.08s\tremaining: 2.06s\n",
      "503:\tlearn: 0.1767864\ttotal: 2.09s\tremaining: 2.05s\n",
      "504:\tlearn: 0.1764689\ttotal: 2.09s\tremaining: 2.05s\n",
      "505:\tlearn: 0.1759593\ttotal: 2.09s\tremaining: 2.04s\n",
      "506:\tlearn: 0.1758349\ttotal: 2.1s\tremaining: 2.04s\n",
      "507:\tlearn: 0.1755266\ttotal: 2.1s\tremaining: 2.03s\n",
      "508:\tlearn: 0.1752729\ttotal: 2.1s\tremaining: 2.03s\n",
      "509:\tlearn: 0.1749953\ttotal: 2.11s\tremaining: 2.02s\n",
      "510:\tlearn: 0.1748003\ttotal: 2.11s\tremaining: 2.02s\n",
      "511:\tlearn: 0.1745207\ttotal: 2.11s\tremaining: 2.01s\n",
      "512:\tlearn: 0.1742491\ttotal: 2.12s\tremaining: 2.01s\n",
      "513:\tlearn: 0.1740113\ttotal: 2.12s\tremaining: 2s\n",
      "514:\tlearn: 0.1736623\ttotal: 2.12s\tremaining: 2s\n",
      "515:\tlearn: 0.1733701\ttotal: 2.13s\tremaining: 2s\n",
      "516:\tlearn: 0.1731340\ttotal: 2.13s\tremaining: 1.99s\n",
      "517:\tlearn: 0.1727555\ttotal: 2.13s\tremaining: 1.99s\n",
      "518:\tlearn: 0.1725830\ttotal: 2.14s\tremaining: 1.98s\n",
      "519:\tlearn: 0.1723594\ttotal: 2.14s\tremaining: 1.98s\n",
      "520:\tlearn: 0.1721193\ttotal: 2.15s\tremaining: 1.97s\n",
      "521:\tlearn: 0.1719602\ttotal: 2.15s\tremaining: 1.97s\n",
      "522:\tlearn: 0.1717579\ttotal: 2.15s\tremaining: 1.96s\n",
      "523:\tlearn: 0.1715264\ttotal: 2.16s\tremaining: 1.96s\n",
      "524:\tlearn: 0.1713091\ttotal: 2.16s\tremaining: 1.95s\n",
      "525:\tlearn: 0.1709886\ttotal: 2.16s\tremaining: 1.95s\n",
      "526:\tlearn: 0.1707444\ttotal: 2.17s\tremaining: 1.95s\n",
      "527:\tlearn: 0.1705068\ttotal: 2.17s\tremaining: 1.94s\n",
      "528:\tlearn: 0.1701540\ttotal: 2.17s\tremaining: 1.94s\n",
      "529:\tlearn: 0.1699853\ttotal: 2.18s\tremaining: 1.93s\n",
      "530:\tlearn: 0.1698273\ttotal: 2.18s\tremaining: 1.93s\n",
      "531:\tlearn: 0.1696293\ttotal: 2.19s\tremaining: 1.92s\n",
      "532:\tlearn: 0.1694088\ttotal: 2.19s\tremaining: 1.92s\n",
      "533:\tlearn: 0.1692298\ttotal: 2.19s\tremaining: 1.91s\n",
      "534:\tlearn: 0.1688901\ttotal: 2.2s\tremaining: 1.91s\n",
      "535:\tlearn: 0.1685819\ttotal: 2.2s\tremaining: 1.91s\n",
      "536:\tlearn: 0.1684614\ttotal: 2.2s\tremaining: 1.9s\n",
      "537:\tlearn: 0.1682741\ttotal: 2.21s\tremaining: 1.9s\n",
      "538:\tlearn: 0.1680759\ttotal: 2.21s\tremaining: 1.89s\n",
      "539:\tlearn: 0.1678192\ttotal: 2.21s\tremaining: 1.89s\n",
      "540:\tlearn: 0.1675197\ttotal: 2.22s\tremaining: 1.88s\n",
      "541:\tlearn: 0.1673467\ttotal: 2.22s\tremaining: 1.88s\n",
      "542:\tlearn: 0.1670444\ttotal: 2.23s\tremaining: 1.87s\n",
      "543:\tlearn: 0.1668204\ttotal: 2.23s\tremaining: 1.87s\n",
      "544:\tlearn: 0.1666180\ttotal: 2.23s\tremaining: 1.86s\n",
      "545:\tlearn: 0.1663281\ttotal: 2.24s\tremaining: 1.86s\n",
      "546:\tlearn: 0.1660621\ttotal: 2.24s\tremaining: 1.85s\n",
      "547:\tlearn: 0.1657523\ttotal: 2.24s\tremaining: 1.85s\n",
      "548:\tlearn: 0.1655692\ttotal: 2.25s\tremaining: 1.84s\n",
      "549:\tlearn: 0.1653567\ttotal: 2.25s\tremaining: 1.84s\n",
      "550:\tlearn: 0.1652106\ttotal: 2.25s\tremaining: 1.84s\n",
      "551:\tlearn: 0.1649059\ttotal: 2.26s\tremaining: 1.83s\n",
      "552:\tlearn: 0.1647053\ttotal: 2.26s\tremaining: 1.83s\n",
      "553:\tlearn: 0.1645383\ttotal: 2.26s\tremaining: 1.82s\n",
      "554:\tlearn: 0.1641556\ttotal: 2.27s\tremaining: 1.82s\n",
      "555:\tlearn: 0.1639912\ttotal: 2.27s\tremaining: 1.81s\n",
      "556:\tlearn: 0.1637052\ttotal: 2.28s\tremaining: 1.81s\n",
      "557:\tlearn: 0.1633362\ttotal: 2.28s\tremaining: 1.8s\n",
      "558:\tlearn: 0.1629888\ttotal: 2.28s\tremaining: 1.8s\n",
      "559:\tlearn: 0.1627660\ttotal: 2.29s\tremaining: 1.8s\n",
      "560:\tlearn: 0.1625513\ttotal: 2.29s\tremaining: 1.79s\n",
      "561:\tlearn: 0.1622887\ttotal: 2.29s\tremaining: 1.79s\n",
      "562:\tlearn: 0.1620495\ttotal: 2.3s\tremaining: 1.78s\n",
      "563:\tlearn: 0.1619162\ttotal: 2.3s\tremaining: 1.78s\n",
      "564:\tlearn: 0.1615847\ttotal: 2.3s\tremaining: 1.77s\n",
      "565:\tlearn: 0.1613706\ttotal: 2.31s\tremaining: 1.77s\n"
     ]
    },
    {
     "name": "stdout",
     "output_type": "stream",
     "text": [
      "566:\tlearn: 0.1611633\ttotal: 2.31s\tremaining: 1.76s\n",
      "567:\tlearn: 0.1608685\ttotal: 2.31s\tremaining: 1.76s\n",
      "568:\tlearn: 0.1605996\ttotal: 2.32s\tremaining: 1.76s\n",
      "569:\tlearn: 0.1604617\ttotal: 2.32s\tremaining: 1.75s\n",
      "570:\tlearn: 0.1601638\ttotal: 2.33s\tremaining: 1.75s\n",
      "571:\tlearn: 0.1599983\ttotal: 2.33s\tremaining: 1.74s\n",
      "572:\tlearn: 0.1598634\ttotal: 2.33s\tremaining: 1.74s\n",
      "573:\tlearn: 0.1597851\ttotal: 2.34s\tremaining: 1.73s\n",
      "574:\tlearn: 0.1594598\ttotal: 2.34s\tremaining: 1.73s\n",
      "575:\tlearn: 0.1591805\ttotal: 2.34s\tremaining: 1.73s\n",
      "576:\tlearn: 0.1590253\ttotal: 2.35s\tremaining: 1.72s\n",
      "577:\tlearn: 0.1588004\ttotal: 2.35s\tremaining: 1.72s\n",
      "578:\tlearn: 0.1585340\ttotal: 2.35s\tremaining: 1.71s\n",
      "579:\tlearn: 0.1582514\ttotal: 2.36s\tremaining: 1.71s\n",
      "580:\tlearn: 0.1579927\ttotal: 2.36s\tremaining: 1.7s\n",
      "581:\tlearn: 0.1578868\ttotal: 2.37s\tremaining: 1.7s\n",
      "582:\tlearn: 0.1576568\ttotal: 2.37s\tremaining: 1.69s\n",
      "583:\tlearn: 0.1575298\ttotal: 2.37s\tremaining: 1.69s\n",
      "584:\tlearn: 0.1573349\ttotal: 2.38s\tremaining: 1.69s\n",
      "585:\tlearn: 0.1571355\ttotal: 2.38s\tremaining: 1.68s\n",
      "586:\tlearn: 0.1569820\ttotal: 2.38s\tremaining: 1.68s\n",
      "587:\tlearn: 0.1567023\ttotal: 2.39s\tremaining: 1.67s\n",
      "588:\tlearn: 0.1564828\ttotal: 2.39s\tremaining: 1.67s\n",
      "589:\tlearn: 0.1562538\ttotal: 2.39s\tremaining: 1.66s\n",
      "590:\tlearn: 0.1560816\ttotal: 2.4s\tremaining: 1.66s\n",
      "591:\tlearn: 0.1557465\ttotal: 2.4s\tremaining: 1.65s\n",
      "592:\tlearn: 0.1556725\ttotal: 2.4s\tremaining: 1.65s\n",
      "593:\tlearn: 0.1554862\ttotal: 2.41s\tremaining: 1.65s\n",
      "594:\tlearn: 0.1552108\ttotal: 2.41s\tremaining: 1.64s\n",
      "595:\tlearn: 0.1550351\ttotal: 2.42s\tremaining: 1.64s\n",
      "596:\tlearn: 0.1548885\ttotal: 2.42s\tremaining: 1.63s\n",
      "597:\tlearn: 0.1546639\ttotal: 2.42s\tremaining: 1.63s\n",
      "598:\tlearn: 0.1544493\ttotal: 2.43s\tremaining: 1.62s\n",
      "599:\tlearn: 0.1541501\ttotal: 2.43s\tremaining: 1.62s\n",
      "600:\tlearn: 0.1538882\ttotal: 2.43s\tremaining: 1.61s\n",
      "601:\tlearn: 0.1536662\ttotal: 2.44s\tremaining: 1.61s\n",
      "602:\tlearn: 0.1534388\ttotal: 2.44s\tremaining: 1.61s\n",
      "603:\tlearn: 0.1532702\ttotal: 2.44s\tremaining: 1.6s\n",
      "604:\tlearn: 0.1531037\ttotal: 2.45s\tremaining: 1.6s\n",
      "605:\tlearn: 0.1528980\ttotal: 2.46s\tremaining: 1.6s\n",
      "606:\tlearn: 0.1527099\ttotal: 2.47s\tremaining: 1.6s\n",
      "607:\tlearn: 0.1524490\ttotal: 2.47s\tremaining: 1.59s\n",
      "608:\tlearn: 0.1523426\ttotal: 2.48s\tremaining: 1.59s\n",
      "609:\tlearn: 0.1521225\ttotal: 2.49s\tremaining: 1.59s\n",
      "610:\tlearn: 0.1519152\ttotal: 2.49s\tremaining: 1.59s\n",
      "611:\tlearn: 0.1519009\ttotal: 2.5s\tremaining: 1.58s\n",
      "612:\tlearn: 0.1517755\ttotal: 2.5s\tremaining: 1.58s\n",
      "613:\tlearn: 0.1515907\ttotal: 2.51s\tremaining: 1.58s\n",
      "614:\tlearn: 0.1514365\ttotal: 2.52s\tremaining: 1.58s\n",
      "615:\tlearn: 0.1512270\ttotal: 2.52s\tremaining: 1.57s\n",
      "616:\tlearn: 0.1510067\ttotal: 2.53s\tremaining: 1.57s\n",
      "617:\tlearn: 0.1506849\ttotal: 2.53s\tremaining: 1.56s\n",
      "618:\tlearn: 0.1505347\ttotal: 2.53s\tremaining: 1.56s\n",
      "619:\tlearn: 0.1504105\ttotal: 2.54s\tremaining: 1.55s\n",
      "620:\tlearn: 0.1502146\ttotal: 2.54s\tremaining: 1.55s\n",
      "621:\tlearn: 0.1498786\ttotal: 2.55s\tremaining: 1.55s\n",
      "622:\tlearn: 0.1496312\ttotal: 2.55s\tremaining: 1.54s\n",
      "623:\tlearn: 0.1494638\ttotal: 2.55s\tremaining: 1.54s\n",
      "624:\tlearn: 0.1491848\ttotal: 2.56s\tremaining: 1.53s\n",
      "625:\tlearn: 0.1489953\ttotal: 2.56s\tremaining: 1.53s\n",
      "626:\tlearn: 0.1487853\ttotal: 2.56s\tremaining: 1.52s\n",
      "627:\tlearn: 0.1486729\ttotal: 2.57s\tremaining: 1.52s\n",
      "628:\tlearn: 0.1485491\ttotal: 2.57s\tremaining: 1.52s\n",
      "629:\tlearn: 0.1483435\ttotal: 2.58s\tremaining: 1.51s\n",
      "630:\tlearn: 0.1481789\ttotal: 2.58s\tremaining: 1.51s\n",
      "631:\tlearn: 0.1480776\ttotal: 2.58s\tremaining: 1.5s\n",
      "632:\tlearn: 0.1479631\ttotal: 2.59s\tremaining: 1.5s\n",
      "633:\tlearn: 0.1478072\ttotal: 2.59s\tremaining: 1.5s\n",
      "634:\tlearn: 0.1474886\ttotal: 2.59s\tremaining: 1.49s\n",
      "635:\tlearn: 0.1473112\ttotal: 2.6s\tremaining: 1.49s\n",
      "636:\tlearn: 0.1470978\ttotal: 2.6s\tremaining: 1.48s\n",
      "637:\tlearn: 0.1469296\ttotal: 2.6s\tremaining: 1.48s\n",
      "638:\tlearn: 0.1468837\ttotal: 2.61s\tremaining: 1.47s\n",
      "639:\tlearn: 0.1467458\ttotal: 2.61s\tremaining: 1.47s\n",
      "640:\tlearn: 0.1465670\ttotal: 2.61s\tremaining: 1.46s\n",
      "641:\tlearn: 0.1463087\ttotal: 2.62s\tremaining: 1.46s\n",
      "642:\tlearn: 0.1460924\ttotal: 2.62s\tremaining: 1.45s\n",
      "643:\tlearn: 0.1458540\ttotal: 2.62s\tremaining: 1.45s\n",
      "644:\tlearn: 0.1456561\ttotal: 2.63s\tremaining: 1.45s\n",
      "645:\tlearn: 0.1454239\ttotal: 2.63s\tremaining: 1.44s\n",
      "646:\tlearn: 0.1452295\ttotal: 2.63s\tremaining: 1.44s\n",
      "647:\tlearn: 0.1450002\ttotal: 2.64s\tremaining: 1.43s\n",
      "648:\tlearn: 0.1448313\ttotal: 2.64s\tremaining: 1.43s\n",
      "649:\tlearn: 0.1445735\ttotal: 2.65s\tremaining: 1.42s\n",
      "650:\tlearn: 0.1443853\ttotal: 2.65s\tremaining: 1.42s\n",
      "651:\tlearn: 0.1442137\ttotal: 2.65s\tremaining: 1.42s\n",
      "652:\tlearn: 0.1438838\ttotal: 2.66s\tremaining: 1.41s\n",
      "653:\tlearn: 0.1436967\ttotal: 2.66s\tremaining: 1.41s\n",
      "654:\tlearn: 0.1434986\ttotal: 2.66s\tremaining: 1.4s\n",
      "655:\tlearn: 0.1432901\ttotal: 2.67s\tremaining: 1.4s\n",
      "656:\tlearn: 0.1430812\ttotal: 2.67s\tremaining: 1.4s\n",
      "657:\tlearn: 0.1428288\ttotal: 2.67s\tremaining: 1.39s\n",
      "658:\tlearn: 0.1427633\ttotal: 2.68s\tremaining: 1.39s\n",
      "659:\tlearn: 0.1425809\ttotal: 2.68s\tremaining: 1.38s\n",
      "660:\tlearn: 0.1424975\ttotal: 2.68s\tremaining: 1.38s\n",
      "661:\tlearn: 0.1422866\ttotal: 2.69s\tremaining: 1.37s\n",
      "662:\tlearn: 0.1421058\ttotal: 2.69s\tremaining: 1.37s\n",
      "663:\tlearn: 0.1418892\ttotal: 2.69s\tremaining: 1.36s\n",
      "664:\tlearn: 0.1416814\ttotal: 2.7s\tremaining: 1.36s\n",
      "665:\tlearn: 0.1415133\ttotal: 2.7s\tremaining: 1.35s\n",
      "666:\tlearn: 0.1413319\ttotal: 2.71s\tremaining: 1.35s\n",
      "667:\tlearn: 0.1411272\ttotal: 2.71s\tremaining: 1.35s\n",
      "668:\tlearn: 0.1408823\ttotal: 2.71s\tremaining: 1.34s\n",
      "669:\tlearn: 0.1406482\ttotal: 2.72s\tremaining: 1.34s\n",
      "670:\tlearn: 0.1404576\ttotal: 2.72s\tremaining: 1.33s\n",
      "671:\tlearn: 0.1403045\ttotal: 2.73s\tremaining: 1.33s\n",
      "672:\tlearn: 0.1401484\ttotal: 2.73s\tremaining: 1.33s\n",
      "673:\tlearn: 0.1400067\ttotal: 2.73s\tremaining: 1.32s\n",
      "674:\tlearn: 0.1397237\ttotal: 2.74s\tremaining: 1.32s\n",
      "675:\tlearn: 0.1395753\ttotal: 2.74s\tremaining: 1.31s\n",
      "676:\tlearn: 0.1393605\ttotal: 2.74s\tremaining: 1.31s\n",
      "677:\tlearn: 0.1392008\ttotal: 2.75s\tremaining: 1.3s\n",
      "678:\tlearn: 0.1390219\ttotal: 2.75s\tremaining: 1.3s\n",
      "679:\tlearn: 0.1387786\ttotal: 2.75s\tremaining: 1.3s\n",
      "680:\tlearn: 0.1386807\ttotal: 2.76s\tremaining: 1.29s\n",
      "681:\tlearn: 0.1385929\ttotal: 2.76s\tremaining: 1.29s\n",
      "682:\tlearn: 0.1383160\ttotal: 2.77s\tremaining: 1.28s\n",
      "683:\tlearn: 0.1381241\ttotal: 2.77s\tremaining: 1.28s\n",
      "684:\tlearn: 0.1378888\ttotal: 2.77s\tremaining: 1.27s\n",
      "685:\tlearn: 0.1375660\ttotal: 2.78s\tremaining: 1.27s\n",
      "686:\tlearn: 0.1374629\ttotal: 2.78s\tremaining: 1.27s\n",
      "687:\tlearn: 0.1372556\ttotal: 2.78s\tremaining: 1.26s\n",
      "688:\tlearn: 0.1370121\ttotal: 2.79s\tremaining: 1.26s\n",
      "689:\tlearn: 0.1368341\ttotal: 2.79s\tremaining: 1.25s\n",
      "690:\tlearn: 0.1366843\ttotal: 2.79s\tremaining: 1.25s\n",
      "691:\tlearn: 0.1364137\ttotal: 2.8s\tremaining: 1.25s\n",
      "692:\tlearn: 0.1361582\ttotal: 2.8s\tremaining: 1.24s\n",
      "693:\tlearn: 0.1359242\ttotal: 2.81s\tremaining: 1.24s\n",
      "694:\tlearn: 0.1357565\ttotal: 2.81s\tremaining: 1.23s\n",
      "695:\tlearn: 0.1355270\ttotal: 2.81s\tremaining: 1.23s\n",
      "696:\tlearn: 0.1353668\ttotal: 2.82s\tremaining: 1.22s\n",
      "697:\tlearn: 0.1351431\ttotal: 2.82s\tremaining: 1.22s\n",
      "698:\tlearn: 0.1348966\ttotal: 2.82s\tremaining: 1.22s\n",
      "699:\tlearn: 0.1346760\ttotal: 2.83s\tremaining: 1.21s\n",
      "700:\tlearn: 0.1345344\ttotal: 2.83s\tremaining: 1.21s\n",
      "701:\tlearn: 0.1343995\ttotal: 2.83s\tremaining: 1.2s\n",
      "702:\tlearn: 0.1342050\ttotal: 2.84s\tremaining: 1.2s\n",
      "703:\tlearn: 0.1339938\ttotal: 2.84s\tremaining: 1.2s\n",
      "704:\tlearn: 0.1338048\ttotal: 2.85s\tremaining: 1.19s\n",
      "705:\tlearn: 0.1336412\ttotal: 2.85s\tremaining: 1.19s\n",
      "706:\tlearn: 0.1335290\ttotal: 2.85s\tremaining: 1.18s\n",
      "707:\tlearn: 0.1333371\ttotal: 2.86s\tremaining: 1.18s\n",
      "708:\tlearn: 0.1330880\ttotal: 2.86s\tremaining: 1.17s\n",
      "709:\tlearn: 0.1329047\ttotal: 2.86s\tremaining: 1.17s\n",
      "710:\tlearn: 0.1327435\ttotal: 2.87s\tremaining: 1.17s\n",
      "711:\tlearn: 0.1325622\ttotal: 2.88s\tremaining: 1.16s\n",
      "712:\tlearn: 0.1323610\ttotal: 2.88s\tremaining: 1.16s\n",
      "713:\tlearn: 0.1321448\ttotal: 2.88s\tremaining: 1.15s\n",
      "714:\tlearn: 0.1319884\ttotal: 2.89s\tremaining: 1.15s\n",
      "715:\tlearn: 0.1317432\ttotal: 2.89s\tremaining: 1.15s\n",
      "716:\tlearn: 0.1315878\ttotal: 2.89s\tremaining: 1.14s\n",
      "717:\tlearn: 0.1314012\ttotal: 2.9s\tremaining: 1.14s\n",
      "718:\tlearn: 0.1312472\ttotal: 2.9s\tremaining: 1.13s\n",
      "719:\tlearn: 0.1310026\ttotal: 2.9s\tremaining: 1.13s\n",
      "720:\tlearn: 0.1308427\ttotal: 2.91s\tremaining: 1.13s\n",
      "721:\tlearn: 0.1306040\ttotal: 2.91s\tremaining: 1.12s\n",
      "722:\tlearn: 0.1304906\ttotal: 2.91s\tremaining: 1.12s\n",
      "723:\tlearn: 0.1302775\ttotal: 2.92s\tremaining: 1.11s\n",
      "724:\tlearn: 0.1301581\ttotal: 2.92s\tremaining: 1.11s\n",
      "725:\tlearn: 0.1300240\ttotal: 2.92s\tremaining: 1.1s\n",
      "726:\tlearn: 0.1298812\ttotal: 2.93s\tremaining: 1.1s\n",
      "727:\tlearn: 0.1296016\ttotal: 2.93s\tremaining: 1.09s\n",
      "728:\tlearn: 0.1293472\ttotal: 2.94s\tremaining: 1.09s\n",
      "729:\tlearn: 0.1291158\ttotal: 2.94s\tremaining: 1.09s\n",
      "730:\tlearn: 0.1289618\ttotal: 2.94s\tremaining: 1.08s\n",
      "731:\tlearn: 0.1288744\ttotal: 2.95s\tremaining: 1.08s\n",
      "732:\tlearn: 0.1287517\ttotal: 2.95s\tremaining: 1.07s\n",
      "733:\tlearn: 0.1285702\ttotal: 2.95s\tremaining: 1.07s\n",
      "734:\tlearn: 0.1285165\ttotal: 2.96s\tremaining: 1.07s\n",
      "735:\tlearn: 0.1283629\ttotal: 2.96s\tremaining: 1.06s\n",
      "736:\tlearn: 0.1282379\ttotal: 2.96s\tremaining: 1.06s\n",
      "737:\tlearn: 0.1280289\ttotal: 2.97s\tremaining: 1.05s\n",
      "738:\tlearn: 0.1278380\ttotal: 2.97s\tremaining: 1.05s\n",
      "739:\tlearn: 0.1276861\ttotal: 2.97s\tremaining: 1.04s\n",
      "740:\tlearn: 0.1274772\ttotal: 2.98s\tremaining: 1.04s\n",
      "741:\tlearn: 0.1273073\ttotal: 2.98s\tremaining: 1.04s\n",
      "742:\tlearn: 0.1271096\ttotal: 2.98s\tremaining: 1.03s\n",
      "743:\tlearn: 0.1269053\ttotal: 2.99s\tremaining: 1.03s\n",
      "744:\tlearn: 0.1266511\ttotal: 2.99s\tremaining: 1.02s\n",
      "745:\tlearn: 0.1265896\ttotal: 2.99s\tremaining: 1.02s\n",
      "746:\tlearn: 0.1263587\ttotal: 3s\tremaining: 1.01s\n",
      "747:\tlearn: 0.1262563\ttotal: 3s\tremaining: 1.01s\n",
      "748:\tlearn: 0.1260759\ttotal: 3s\tremaining: 1.01s\n",
      "749:\tlearn: 0.1259794\ttotal: 3.01s\tremaining: 1s\n",
      "750:\tlearn: 0.1257504\ttotal: 3.01s\tremaining: 999ms\n",
      "751:\tlearn: 0.1256569\ttotal: 3.02s\tremaining: 994ms\n",
      "752:\tlearn: 0.1255280\ttotal: 3.02s\tremaining: 990ms\n",
      "753:\tlearn: 0.1253989\ttotal: 3.02s\tremaining: 986ms\n",
      "754:\tlearn: 0.1251428\ttotal: 3.02s\tremaining: 982ms\n",
      "755:\tlearn: 0.1250170\ttotal: 3.03s\tremaining: 978ms\n",
      "756:\tlearn: 0.1249346\ttotal: 3.03s\tremaining: 973ms\n",
      "757:\tlearn: 0.1246865\ttotal: 3.04s\tremaining: 969ms\n",
      "758:\tlearn: 0.1246032\ttotal: 3.04s\tremaining: 965ms\n",
      "759:\tlearn: 0.1243642\ttotal: 3.04s\tremaining: 961ms\n",
      "760:\tlearn: 0.1241592\ttotal: 3.05s\tremaining: 957ms\n",
      "761:\tlearn: 0.1239742\ttotal: 3.05s\tremaining: 953ms\n",
      "762:\tlearn: 0.1238774\ttotal: 3.05s\tremaining: 949ms\n",
      "763:\tlearn: 0.1237893\ttotal: 3.06s\tremaining: 945ms\n",
      "764:\tlearn: 0.1235611\ttotal: 3.06s\tremaining: 941ms\n",
      "765:\tlearn: 0.1234730\ttotal: 3.07s\tremaining: 937ms\n",
      "766:\tlearn: 0.1233551\ttotal: 3.07s\tremaining: 933ms\n",
      "767:\tlearn: 0.1232188\ttotal: 3.07s\tremaining: 929ms\n"
     ]
    },
    {
     "name": "stdout",
     "output_type": "stream",
     "text": [
      "768:\tlearn: 0.1230919\ttotal: 3.08s\tremaining: 925ms\n",
      "769:\tlearn: 0.1228869\ttotal: 3.08s\tremaining: 921ms\n",
      "770:\tlearn: 0.1226578\ttotal: 3.09s\tremaining: 917ms\n",
      "771:\tlearn: 0.1224867\ttotal: 3.09s\tremaining: 913ms\n",
      "772:\tlearn: 0.1222714\ttotal: 3.09s\tremaining: 909ms\n",
      "773:\tlearn: 0.1221976\ttotal: 3.1s\tremaining: 905ms\n",
      "774:\tlearn: 0.1220350\ttotal: 3.1s\tremaining: 901ms\n",
      "775:\tlearn: 0.1218829\ttotal: 3.1s\tremaining: 897ms\n",
      "776:\tlearn: 0.1217119\ttotal: 3.11s\tremaining: 893ms\n",
      "777:\tlearn: 0.1215508\ttotal: 3.11s\tremaining: 888ms\n",
      "778:\tlearn: 0.1214113\ttotal: 3.12s\tremaining: 884ms\n",
      "779:\tlearn: 0.1212642\ttotal: 3.12s\tremaining: 880ms\n",
      "780:\tlearn: 0.1210412\ttotal: 3.12s\tremaining: 876ms\n",
      "781:\tlearn: 0.1208438\ttotal: 3.18s\tremaining: 886ms\n",
      "782:\tlearn: 0.1206360\ttotal: 3.18s\tremaining: 882ms\n",
      "783:\tlearn: 0.1205103\ttotal: 3.19s\tremaining: 879ms\n",
      "784:\tlearn: 0.1203559\ttotal: 3.19s\tremaining: 875ms\n",
      "785:\tlearn: 0.1202142\ttotal: 3.2s\tremaining: 871ms\n",
      "786:\tlearn: 0.1201100\ttotal: 3.2s\tremaining: 867ms\n",
      "787:\tlearn: 0.1199368\ttotal: 3.21s\tremaining: 863ms\n",
      "788:\tlearn: 0.1197916\ttotal: 3.21s\tremaining: 858ms\n",
      "789:\tlearn: 0.1197373\ttotal: 3.21s\tremaining: 854ms\n",
      "790:\tlearn: 0.1195913\ttotal: 3.22s\tremaining: 850ms\n",
      "791:\tlearn: 0.1193676\ttotal: 3.22s\tremaining: 846ms\n",
      "792:\tlearn: 0.1192700\ttotal: 3.23s\tremaining: 842ms\n",
      "793:\tlearn: 0.1191382\ttotal: 3.23s\tremaining: 838ms\n",
      "794:\tlearn: 0.1189540\ttotal: 3.23s\tremaining: 834ms\n",
      "795:\tlearn: 0.1188249\ttotal: 3.24s\tremaining: 829ms\n",
      "796:\tlearn: 0.1186410\ttotal: 3.24s\tremaining: 825ms\n",
      "797:\tlearn: 0.1184703\ttotal: 3.24s\tremaining: 821ms\n",
      "798:\tlearn: 0.1183368\ttotal: 3.25s\tremaining: 817ms\n",
      "799:\tlearn: 0.1181532\ttotal: 3.25s\tremaining: 813ms\n",
      "800:\tlearn: 0.1179850\ttotal: 3.25s\tremaining: 809ms\n",
      "801:\tlearn: 0.1177463\ttotal: 3.26s\tremaining: 804ms\n",
      "802:\tlearn: 0.1175117\ttotal: 3.26s\tremaining: 800ms\n",
      "803:\tlearn: 0.1174494\ttotal: 3.27s\tremaining: 796ms\n",
      "804:\tlearn: 0.1173331\ttotal: 3.27s\tremaining: 792ms\n",
      "805:\tlearn: 0.1171730\ttotal: 3.27s\tremaining: 788ms\n",
      "806:\tlearn: 0.1170052\ttotal: 3.27s\tremaining: 783ms\n",
      "807:\tlearn: 0.1168581\ttotal: 3.28s\tremaining: 779ms\n",
      "808:\tlearn: 0.1166545\ttotal: 3.28s\tremaining: 775ms\n",
      "809:\tlearn: 0.1165445\ttotal: 3.29s\tremaining: 771ms\n",
      "810:\tlearn: 0.1163791\ttotal: 3.29s\tremaining: 767ms\n",
      "811:\tlearn: 0.1162303\ttotal: 3.29s\tremaining: 763ms\n",
      "812:\tlearn: 0.1159870\ttotal: 3.3s\tremaining: 758ms\n",
      "813:\tlearn: 0.1158400\ttotal: 3.3s\tremaining: 754ms\n",
      "814:\tlearn: 0.1155983\ttotal: 3.3s\tremaining: 750ms\n",
      "815:\tlearn: 0.1154270\ttotal: 3.31s\tremaining: 746ms\n",
      "816:\tlearn: 0.1153122\ttotal: 3.31s\tremaining: 742ms\n",
      "817:\tlearn: 0.1152091\ttotal: 3.32s\tremaining: 738ms\n",
      "818:\tlearn: 0.1150519\ttotal: 3.32s\tremaining: 734ms\n",
      "819:\tlearn: 0.1148144\ttotal: 3.32s\tremaining: 730ms\n",
      "820:\tlearn: 0.1146938\ttotal: 3.33s\tremaining: 725ms\n",
      "821:\tlearn: 0.1146187\ttotal: 3.33s\tremaining: 721ms\n",
      "822:\tlearn: 0.1144689\ttotal: 3.33s\tremaining: 717ms\n",
      "823:\tlearn: 0.1143410\ttotal: 3.34s\tremaining: 713ms\n",
      "824:\tlearn: 0.1142536\ttotal: 3.34s\tremaining: 709ms\n",
      "825:\tlearn: 0.1141127\ttotal: 3.35s\tremaining: 705ms\n",
      "826:\tlearn: 0.1139580\ttotal: 3.35s\tremaining: 701ms\n",
      "827:\tlearn: 0.1138167\ttotal: 3.35s\tremaining: 696ms\n",
      "828:\tlearn: 0.1137469\ttotal: 3.35s\tremaining: 692ms\n",
      "829:\tlearn: 0.1136053\ttotal: 3.36s\tremaining: 688ms\n",
      "830:\tlearn: 0.1134579\ttotal: 3.36s\tremaining: 684ms\n",
      "831:\tlearn: 0.1133179\ttotal: 3.37s\tremaining: 680ms\n",
      "832:\tlearn: 0.1131773\ttotal: 3.37s\tremaining: 676ms\n",
      "833:\tlearn: 0.1130690\ttotal: 3.37s\tremaining: 672ms\n",
      "834:\tlearn: 0.1129104\ttotal: 3.38s\tremaining: 667ms\n",
      "835:\tlearn: 0.1128055\ttotal: 3.38s\tremaining: 663ms\n",
      "836:\tlearn: 0.1126995\ttotal: 3.38s\tremaining: 659ms\n",
      "837:\tlearn: 0.1124887\ttotal: 3.39s\tremaining: 655ms\n",
      "838:\tlearn: 0.1123032\ttotal: 3.39s\tremaining: 651ms\n",
      "839:\tlearn: 0.1121351\ttotal: 3.4s\tremaining: 647ms\n",
      "840:\tlearn: 0.1119288\ttotal: 3.4s\tremaining: 643ms\n",
      "841:\tlearn: 0.1118161\ttotal: 3.4s\tremaining: 639ms\n",
      "842:\tlearn: 0.1117311\ttotal: 3.41s\tremaining: 635ms\n",
      "843:\tlearn: 0.1115230\ttotal: 3.41s\tremaining: 631ms\n",
      "844:\tlearn: 0.1113216\ttotal: 3.42s\tremaining: 627ms\n",
      "845:\tlearn: 0.1111677\ttotal: 3.42s\tremaining: 622ms\n",
      "846:\tlearn: 0.1108859\ttotal: 3.42s\tremaining: 618ms\n",
      "847:\tlearn: 0.1107994\ttotal: 3.43s\tremaining: 614ms\n",
      "848:\tlearn: 0.1106353\ttotal: 3.43s\tremaining: 610ms\n",
      "849:\tlearn: 0.1105509\ttotal: 3.43s\tremaining: 606ms\n",
      "850:\tlearn: 0.1104109\ttotal: 3.44s\tremaining: 602ms\n",
      "851:\tlearn: 0.1102391\ttotal: 3.44s\tremaining: 598ms\n",
      "852:\tlearn: 0.1101255\ttotal: 3.45s\tremaining: 594ms\n",
      "853:\tlearn: 0.1099571\ttotal: 3.45s\tremaining: 590ms\n",
      "854:\tlearn: 0.1098546\ttotal: 3.45s\tremaining: 586ms\n",
      "855:\tlearn: 0.1097275\ttotal: 3.46s\tremaining: 582ms\n",
      "856:\tlearn: 0.1095447\ttotal: 3.46s\tremaining: 578ms\n",
      "857:\tlearn: 0.1093546\ttotal: 3.46s\tremaining: 573ms\n",
      "858:\tlearn: 0.1092230\ttotal: 3.47s\tremaining: 569ms\n",
      "859:\tlearn: 0.1090717\ttotal: 3.47s\tremaining: 565ms\n",
      "860:\tlearn: 0.1089166\ttotal: 3.48s\tremaining: 561ms\n",
      "861:\tlearn: 0.1088094\ttotal: 3.48s\tremaining: 557ms\n",
      "862:\tlearn: 0.1085924\ttotal: 3.48s\tremaining: 553ms\n",
      "863:\tlearn: 0.1085073\ttotal: 3.49s\tremaining: 549ms\n",
      "864:\tlearn: 0.1083981\ttotal: 3.49s\tremaining: 545ms\n",
      "865:\tlearn: 0.1082777\ttotal: 3.5s\tremaining: 541ms\n",
      "866:\tlearn: 0.1081904\ttotal: 3.5s\tremaining: 537ms\n",
      "867:\tlearn: 0.1080151\ttotal: 3.5s\tremaining: 533ms\n",
      "868:\tlearn: 0.1077877\ttotal: 3.51s\tremaining: 529ms\n",
      "869:\tlearn: 0.1075986\ttotal: 3.51s\tremaining: 525ms\n",
      "870:\tlearn: 0.1074972\ttotal: 3.52s\tremaining: 521ms\n",
      "871:\tlearn: 0.1073615\ttotal: 3.52s\tremaining: 517ms\n",
      "872:\tlearn: 0.1072749\ttotal: 3.52s\tremaining: 513ms\n",
      "873:\tlearn: 0.1071520\ttotal: 3.53s\tremaining: 508ms\n",
      "874:\tlearn: 0.1069776\ttotal: 3.53s\tremaining: 504ms\n",
      "875:\tlearn: 0.1068470\ttotal: 3.53s\tremaining: 500ms\n",
      "876:\tlearn: 0.1067277\ttotal: 3.54s\tremaining: 496ms\n",
      "877:\tlearn: 0.1065551\ttotal: 3.54s\tremaining: 492ms\n",
      "878:\tlearn: 0.1063302\ttotal: 3.54s\tremaining: 488ms\n",
      "879:\tlearn: 0.1062284\ttotal: 3.55s\tremaining: 484ms\n",
      "880:\tlearn: 0.1061277\ttotal: 3.55s\tremaining: 480ms\n",
      "881:\tlearn: 0.1060421\ttotal: 3.56s\tremaining: 476ms\n",
      "882:\tlearn: 0.1059569\ttotal: 3.56s\tremaining: 472ms\n",
      "883:\tlearn: 0.1058042\ttotal: 3.56s\tremaining: 468ms\n",
      "884:\tlearn: 0.1057077\ttotal: 3.57s\tremaining: 464ms\n",
      "885:\tlearn: 0.1056277\ttotal: 3.57s\tremaining: 459ms\n",
      "886:\tlearn: 0.1054965\ttotal: 3.57s\tremaining: 455ms\n",
      "887:\tlearn: 0.1053780\ttotal: 3.58s\tremaining: 451ms\n",
      "888:\tlearn: 0.1052356\ttotal: 3.58s\tremaining: 447ms\n",
      "889:\tlearn: 0.1050520\ttotal: 3.58s\tremaining: 443ms\n",
      "890:\tlearn: 0.1048430\ttotal: 3.59s\tremaining: 439ms\n",
      "891:\tlearn: 0.1047285\ttotal: 3.59s\tremaining: 435ms\n",
      "892:\tlearn: 0.1045733\ttotal: 3.6s\tremaining: 431ms\n",
      "893:\tlearn: 0.1043448\ttotal: 3.6s\tremaining: 427ms\n",
      "894:\tlearn: 0.1042466\ttotal: 3.6s\tremaining: 423ms\n",
      "895:\tlearn: 0.1041085\ttotal: 3.61s\tremaining: 419ms\n",
      "896:\tlearn: 0.1038808\ttotal: 3.61s\tremaining: 415ms\n",
      "897:\tlearn: 0.1037686\ttotal: 3.61s\tremaining: 411ms\n",
      "898:\tlearn: 0.1036209\ttotal: 3.62s\tremaining: 407ms\n",
      "899:\tlearn: 0.1034286\ttotal: 3.62s\tremaining: 402ms\n",
      "900:\tlearn: 0.1032481\ttotal: 3.63s\tremaining: 398ms\n",
      "901:\tlearn: 0.1030893\ttotal: 3.63s\tremaining: 394ms\n",
      "902:\tlearn: 0.1029887\ttotal: 3.63s\tremaining: 390ms\n",
      "903:\tlearn: 0.1028167\ttotal: 3.64s\tremaining: 386ms\n",
      "904:\tlearn: 0.1026154\ttotal: 3.64s\tremaining: 382ms\n",
      "905:\tlearn: 0.1024537\ttotal: 3.64s\tremaining: 378ms\n",
      "906:\tlearn: 0.1023303\ttotal: 3.65s\tremaining: 374ms\n",
      "907:\tlearn: 0.1021484\ttotal: 3.65s\tremaining: 370ms\n",
      "908:\tlearn: 0.1020074\ttotal: 3.65s\tremaining: 366ms\n",
      "909:\tlearn: 0.1019425\ttotal: 3.66s\tremaining: 362ms\n",
      "910:\tlearn: 0.1018044\ttotal: 3.66s\tremaining: 358ms\n",
      "911:\tlearn: 0.1017006\ttotal: 3.67s\tremaining: 354ms\n",
      "912:\tlearn: 0.1016091\ttotal: 3.67s\tremaining: 350ms\n",
      "913:\tlearn: 0.1015166\ttotal: 3.67s\tremaining: 346ms\n",
      "914:\tlearn: 0.1013201\ttotal: 3.68s\tremaining: 342ms\n",
      "915:\tlearn: 0.1011504\ttotal: 3.68s\tremaining: 338ms\n",
      "916:\tlearn: 0.1010081\ttotal: 3.68s\tremaining: 334ms\n",
      "917:\tlearn: 0.1009304\ttotal: 3.69s\tremaining: 329ms\n",
      "918:\tlearn: 0.1007798\ttotal: 3.69s\tremaining: 325ms\n",
      "919:\tlearn: 0.1006619\ttotal: 3.7s\tremaining: 321ms\n",
      "920:\tlearn: 0.1005329\ttotal: 3.7s\tremaining: 317ms\n",
      "921:\tlearn: 0.1004675\ttotal: 3.7s\tremaining: 313ms\n",
      "922:\tlearn: 0.1003341\ttotal: 3.71s\tremaining: 309ms\n",
      "923:\tlearn: 0.1002104\ttotal: 3.71s\tremaining: 305ms\n",
      "924:\tlearn: 0.1000556\ttotal: 3.71s\tremaining: 301ms\n",
      "925:\tlearn: 0.0999149\ttotal: 3.72s\tremaining: 297ms\n"
     ]
    },
    {
     "name": "stdout",
     "output_type": "stream",
     "text": [
      "926:\tlearn: 0.0998327\ttotal: 3.72s\tremaining: 293ms\n",
      "927:\tlearn: 0.0996377\ttotal: 3.73s\tremaining: 289ms\n",
      "928:\tlearn: 0.0995131\ttotal: 3.73s\tremaining: 285ms\n",
      "929:\tlearn: 0.0993902\ttotal: 3.73s\tremaining: 281ms\n",
      "930:\tlearn: 0.0992839\ttotal: 3.74s\tremaining: 277ms\n",
      "931:\tlearn: 0.0991709\ttotal: 3.74s\tremaining: 273ms\n",
      "932:\tlearn: 0.0990607\ttotal: 3.74s\tremaining: 269ms\n",
      "933:\tlearn: 0.0989020\ttotal: 3.75s\tremaining: 265ms\n",
      "934:\tlearn: 0.0987515\ttotal: 3.75s\tremaining: 261ms\n",
      "935:\tlearn: 0.0986901\ttotal: 3.75s\tremaining: 257ms\n",
      "936:\tlearn: 0.0985807\ttotal: 3.76s\tremaining: 253ms\n",
      "937:\tlearn: 0.0984714\ttotal: 3.76s\tremaining: 249ms\n",
      "938:\tlearn: 0.0984034\ttotal: 3.77s\tremaining: 245ms\n",
      "939:\tlearn: 0.0982299\ttotal: 3.77s\tremaining: 241ms\n",
      "940:\tlearn: 0.0981066\ttotal: 3.77s\tremaining: 237ms\n",
      "941:\tlearn: 0.0979967\ttotal: 3.78s\tremaining: 233ms\n",
      "942:\tlearn: 0.0978673\ttotal: 3.78s\tremaining: 228ms\n",
      "943:\tlearn: 0.0977680\ttotal: 3.78s\tremaining: 224ms\n",
      "944:\tlearn: 0.0976524\ttotal: 3.79s\tremaining: 220ms\n",
      "945:\tlearn: 0.0975822\ttotal: 3.79s\tremaining: 216ms\n",
      "946:\tlearn: 0.0974167\ttotal: 3.79s\tremaining: 212ms\n",
      "947:\tlearn: 0.0972449\ttotal: 3.8s\tremaining: 208ms\n",
      "948:\tlearn: 0.0970929\ttotal: 3.8s\tremaining: 204ms\n",
      "949:\tlearn: 0.0969518\ttotal: 3.81s\tremaining: 200ms\n",
      "950:\tlearn: 0.0967977\ttotal: 3.81s\tremaining: 196ms\n",
      "951:\tlearn: 0.0966694\ttotal: 3.81s\tremaining: 192ms\n",
      "952:\tlearn: 0.0965748\ttotal: 3.82s\tremaining: 188ms\n",
      "953:\tlearn: 0.0965222\ttotal: 3.82s\tremaining: 184ms\n",
      "954:\tlearn: 0.0964335\ttotal: 3.82s\tremaining: 180ms\n",
      "955:\tlearn: 0.0962713\ttotal: 3.83s\tremaining: 176ms\n",
      "956:\tlearn: 0.0961427\ttotal: 3.83s\tremaining: 172ms\n",
      "957:\tlearn: 0.0960780\ttotal: 3.83s\tremaining: 168ms\n",
      "958:\tlearn: 0.0959481\ttotal: 3.84s\tremaining: 164ms\n",
      "959:\tlearn: 0.0958015\ttotal: 3.84s\tremaining: 160ms\n",
      "960:\tlearn: 0.0957334\ttotal: 3.85s\tremaining: 156ms\n",
      "961:\tlearn: 0.0956980\ttotal: 3.85s\tremaining: 152ms\n",
      "962:\tlearn: 0.0954744\ttotal: 3.85s\tremaining: 148ms\n",
      "963:\tlearn: 0.0953810\ttotal: 3.86s\tremaining: 144ms\n",
      "964:\tlearn: 0.0952606\ttotal: 3.86s\tremaining: 140ms\n",
      "965:\tlearn: 0.0951712\ttotal: 3.87s\tremaining: 136ms\n",
      "966:\tlearn: 0.0950593\ttotal: 3.87s\tremaining: 132ms\n",
      "967:\tlearn: 0.0950049\ttotal: 3.87s\tremaining: 128ms\n",
      "968:\tlearn: 0.0949313\ttotal: 3.88s\tremaining: 124ms\n",
      "969:\tlearn: 0.0947836\ttotal: 3.88s\tremaining: 120ms\n",
      "970:\tlearn: 0.0946533\ttotal: 3.88s\tremaining: 116ms\n",
      "971:\tlearn: 0.0945734\ttotal: 3.89s\tremaining: 112ms\n",
      "972:\tlearn: 0.0945293\ttotal: 3.89s\tremaining: 108ms\n",
      "973:\tlearn: 0.0944229\ttotal: 3.89s\tremaining: 104ms\n",
      "974:\tlearn: 0.0943316\ttotal: 3.9s\tremaining: 100ms\n",
      "975:\tlearn: 0.0942133\ttotal: 3.9s\tremaining: 95.9ms\n",
      "976:\tlearn: 0.0940325\ttotal: 3.9s\tremaining: 91.9ms\n",
      "977:\tlearn: 0.0938789\ttotal: 3.91s\tremaining: 87.9ms\n",
      "978:\tlearn: 0.0937721\ttotal: 3.91s\tremaining: 83.9ms\n",
      "979:\tlearn: 0.0936479\ttotal: 3.92s\tremaining: 79.9ms\n",
      "980:\tlearn: 0.0934959\ttotal: 3.92s\tremaining: 75.9ms\n",
      "981:\tlearn: 0.0934071\ttotal: 3.92s\tremaining: 71.9ms\n",
      "982:\tlearn: 0.0932983\ttotal: 3.93s\tremaining: 67.9ms\n",
      "983:\tlearn: 0.0931326\ttotal: 3.93s\tremaining: 63.9ms\n",
      "984:\tlearn: 0.0929525\ttotal: 3.93s\tremaining: 59.9ms\n",
      "985:\tlearn: 0.0928071\ttotal: 3.94s\tremaining: 55.9ms\n",
      "986:\tlearn: 0.0926828\ttotal: 3.94s\tremaining: 51.9ms\n",
      "987:\tlearn: 0.0925415\ttotal: 3.94s\tremaining: 47.9ms\n",
      "988:\tlearn: 0.0924537\ttotal: 3.95s\tremaining: 43.9ms\n",
      "989:\tlearn: 0.0923198\ttotal: 3.95s\tremaining: 39.9ms\n",
      "990:\tlearn: 0.0921685\ttotal: 3.96s\tremaining: 35.9ms\n",
      "991:\tlearn: 0.0920093\ttotal: 3.96s\tremaining: 31.9ms\n",
      "992:\tlearn: 0.0919087\ttotal: 3.96s\tremaining: 27.9ms\n",
      "993:\tlearn: 0.0917303\ttotal: 3.97s\tremaining: 24ms\n",
      "994:\tlearn: 0.0916152\ttotal: 3.97s\tremaining: 20ms\n",
      "995:\tlearn: 0.0915391\ttotal: 3.98s\tremaining: 16ms\n",
      "996:\tlearn: 0.0914423\ttotal: 3.98s\tremaining: 12ms\n",
      "997:\tlearn: 0.0912934\ttotal: 3.98s\tremaining: 7.98ms\n",
      "998:\tlearn: 0.0912140\ttotal: 3.99s\tremaining: 3.99ms\n",
      "999:\tlearn: 0.0911363\ttotal: 3.99s\tremaining: 0us\n"
     ]
    }
   ],
   "source": [
    "model4.fit(X_train,y_train)\n",
    "y_pred4 = model4.predict(X_test)"
   ]
  },
  {
   "cell_type": "code",
   "execution_count": 56,
   "metadata": {
    "colab": {
     "base_uri": "https://localhost:8080/"
    },
    "executionInfo": {
     "elapsed": 1154,
     "status": "ok",
     "timestamp": 1602075852195,
     "user": {
      "displayName": "Pianalytix Vrec",
      "photoUrl": "",
      "userId": "08286299111597749388"
     },
     "user_tz": -330
    },
    "id": "g9uiEs4t1dH8",
    "outputId": "2822376f-68e7-4708-953d-8f88fca80c6d"
   },
   "outputs": [
    {
     "name": "stdout",
     "output_type": "stream",
     "text": [
      "0.8131868131868132\n"
     ]
    }
   ],
   "source": [
    "print(accuracy_score(y_test,y_pred4))"
   ]
  },
  {
   "cell_type": "markdown",
   "metadata": {
    "id": "63mbuW-J1dH-"
   },
   "source": [
    "**We achieved accuracy 81% approx with CatBoost Classifier Model.**"
   ]
  },
  {
   "cell_type": "markdown",
   "metadata": {
    "id": "06tFkKennsB5"
   },
   "source": [
    "### Conclusion"
   ]
  },
  {
   "cell_type": "markdown",
   "metadata": {
    "id": "6CcmlPor1dH-"
   },
   "source": [
    "**From the above models KNN is giving us the best accuracy which is 89%.**"
   ]
  }
 ],
 "metadata": {
  "kernelspec": {
   "display_name": "Python 3",
   "language": "python",
   "name": "python3"
  },
  "language_info": {
   "codemirror_mode": {
    "name": "ipython",
    "version": 3
   },
   "file_extension": ".py",
   "mimetype": "text/x-python",
   "name": "python",
   "nbconvert_exporter": "python",
   "pygments_lexer": "ipython3",
   "version": "3.8.5"
  },
  "varInspector": {
   "cols": {
    "lenName": 16,
    "lenType": 16,
    "lenVar": 40
   },
   "kernels_config": {
    "python": {
     "delete_cmd_postfix": "",
     "delete_cmd_prefix": "del ",
     "library": "var_list.py",
     "varRefreshCmd": "print(var_dic_list())"
    },
    "r": {
     "delete_cmd_postfix": ") ",
     "delete_cmd_prefix": "rm(",
     "library": "var_list.r",
     "varRefreshCmd": "cat(var_dic_list()) "
    }
   },
   "types_to_exclude": [
    "module",
    "function",
    "builtin_function_or_method",
    "instance",
    "_Feature"
   ],
   "window_display": false
  }
 },
 "nbformat": 4,
 "nbformat_minor": 4
}
